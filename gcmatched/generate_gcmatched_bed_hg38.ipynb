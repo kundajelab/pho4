{
 "cells": [
  {
   "cell_type": "code",
   "execution_count": 1,
   "metadata": {},
   "outputs": [],
   "source": [
    "# to get negatives bed files (neg_bed) that does not overlap positives, use bedtools\n",
    "# bedtools subtract -A -a gw_all_chrms.bed -b peaks.bed > neg_bed.bed\n",
    "# where peaks.bed contains peaks (positive regions)\n",
    "# gw_all_chrms contains regions from the genome (e.g. a complete list of 500bp regions covering the whole genome)"
   ]
  },
  {
   "cell_type": "code",
   "execution_count": 2,
   "metadata": {},
   "outputs": [],
   "source": [
    "!mkdir gr_a549_2hr\n",
    "!bedtools subtract -A -a ../data/genome/hg38/gw_all_chrms.bed.gz -b /oak/stanford/groups/akundaje/amr1/pho4/data/a549_GR/tseries/2hr/2hr.bed.gz > gr_a549_2hr/negs.bed"
   ]
  },
  {
   "cell_type": "code",
   "execution_count": 3,
   "metadata": {},
   "outputs": [],
   "source": [
    "genome_file = \"../data/genome/hg38/hg38.genome.fa\"\n",
    "chrmsizes_file = \"../data/genome/hg38/hg38.chrom.sizes\"\n",
    "\n",
    "bed_path = \"/oak/stanford/groups/akundaje/amr1/pho4/data/a549_GR/tseries/2hr/2hr.bed.gz\"\n",
    "neg_bed_path = \"gr_a549_2hr/negs.bed\"\n",
    "output_path = \"gr_a549_2hr/matched.bed\"\n",
    "\n",
    "num_jitters = 9"
   ]
  },
  {
   "cell_type": "code",
   "execution_count": 4,
   "metadata": {},
   "outputs": [],
   "source": [
    "import pysam\n",
    "import pandas as pd\n",
    "import numpy as np\n",
    "\n",
    "\n",
    "# compute gc content of main set\n",
    "ref=pysam.FastaFile(genome_file)\n",
    "data=pd.read_csv(bed_path,header=None,sep='\\t',index_col=[0,1,2])\n",
    "bed_entries=[i for i in data.index]\n",
    "gc_fracts = []\n",
    "for entry in bed_entries:\n",
    "    seq=ref.fetch(entry[0],entry[1],entry[2]).upper()\n",
    "    gc_fract=(seq.count('G')+seq.count('C'))/float(len(seq))\n",
    "    gc_fracts.append(gc_fract)"
   ]
  },
  {
   "cell_type": "code",
   "execution_count": 5,
   "metadata": {},
   "outputs": [
    {
     "name": "stderr",
     "output_type": "stream",
     "text": [
      "/users/amr1/miniconda3/envs/basepair/lib/python3.6/site-packages/numpy/lib/arraysetops.py:568: FutureWarning: elementwise comparison failed; returning scalar instead, but in the future will perform elementwise comparison\n",
      "  mask |= (ar1 == a)\n"
     ]
    }
   ],
   "source": [
    "# search in negative set to get GC matched negatives\n",
    "neg_data=pd.read_csv(neg_bed_path,header=None,sep='\\t',index_col=[0,1,2])\n",
    "neg_bed_entries=[i for i in neg_data.index]\n",
    "neg_gc_fracts = []\n",
    "for entry in neg_bed_entries:\n",
    "    seq=ref.fetch(entry[0],entry[1],entry[2]).upper()\n",
    "    gc_fract=(seq.count('G')+seq.count('C'))/float(len(seq))\n",
    "    neg_gc_fracts.append(gc_fract)\n",
    "neg_gc_fracts = np.array(neg_gc_fracts)\n",
    "\n",
    "neg_set = []\n",
    "for gc_fract in gc_fracts:\n",
    "    curr_fracts = np.abs(neg_gc_fracts-gc_fract)\n",
    "    chosen_id = np.argmin(curr_fracts)\n",
    "    neg_set.append(neg_bed_entries[chosen_id])"
   ]
  },
  {
   "cell_type": "code",
   "execution_count": 6,
   "metadata": {},
   "outputs": [],
   "source": [
    "# augment with additional positives by jittering until desired pos_to_neg ratio is achieved\n",
    "def _read_chromsizes():\n",
    "    chrom_to_size = {}\n",
    "    for row in open(chrmsizes_file):\n",
    "        chrom,chromlen = row.rstrip().split(\"\\t\")\n",
    "        chromlen = int(chromlen)\n",
    "        chrom_to_size[chrom] = chromlen\n",
    "    return chrom_to_size\n",
    "\n",
    "rng = np.random.RandomState(1234)\n",
    "maxshift = 100\n",
    "chromsizes = _read_chromsizes()\n",
    "\n",
    "a_list = []\n",
    "for chrom, start, end in bed_entries:\n",
    "    for c in range(num_jitters):\n",
    "        shift_size = int(rng.uniform(low=0, high=(2*maxshift + 1)) - maxshift)\n",
    "        shift_size = max(-start, shift_size)\n",
    "        shift_size = min(chromsizes[chrom]-end, shift_size)\n",
    "        start = start + shift_size\n",
    "        end = end + shift_size\n",
    "        a_list.append((chrom, start, end))"
   ]
  },
  {
   "cell_type": "code",
   "execution_count": 7,
   "metadata": {},
   "outputs": [],
   "source": [
    "# write\n",
    "file1 = open(output_path, \"w\")\n",
    "for chrom, start, end in bed_entries: file1.write(chrom+\"\\t\"+str(start)+\"\\t\"+str(end)+\"\\t.\\n\")\n",
    "for chrom, start, end in neg_set: file1.write(chrom+\"\\t\"+str(start)+\"\\t\"+str(end)+\"\\t.\\n\")\n",
    "for chrom, start, end in a_list: file1.write(chrom+\"\\t\"+str(start)+\"\\t\"+str(end)+\"\\t.\\n\")\n",
    "file1.close()"
   ]
  },
  {
   "cell_type": "code",
   "execution_count": 8,
   "metadata": {},
   "outputs": [],
   "source": [
    "# cat pho4.pbexo.matched.bed | egrep -w 'chrX|chrXI' | gzip -c > test_1000_around_summits.bed.gz\n",
    "# cat pho4.pbexo.matched.bed | egrep -w 'chrXIV|chrVIII' | gzip -c > valid_1000_around_summits.bed.gz\n",
    "# cat pho4.pbexo.matched.bed | egrep -w -v 'chrX|chrXI|chrXIV|chrVIII' | gzip -c > train_1000_around_summits.bed.gz"
   ]
  },
  {
   "cell_type": "code",
   "execution_count": 9,
   "metadata": {},
   "outputs": [],
   "source": [
    "!cat gr_a549_2hr/matched.bed | egrep -w 'chr1|chr8|chr21' | gzip -c > gr_a549_2hr/test_1000_around_summits.bed.gz\n",
    "!cat gr_a549_2hr/matched.bed | egrep -w 'chr22' | gzip -c > gr_a549_2hr/valid_1000_around_summits.bed.gz\n",
    "!cat gr_a549_2hr/matched.bed | egrep -w -v 'chr1|chr8|chr21|chr22' | gzip -c > gr_a549_2hr/train_1000_around_summits.bed.gz"
   ]
  }
 ],
 "metadata": {
  "kernelspec": {
   "display_name": "Python [conda env:basepair]",
   "language": "python",
   "name": "conda-env-basepair-py"
  },
  "language_info": {
   "codemirror_mode": {
    "name": "ipython",
    "version": 3
   },
   "file_extension": ".py",
   "mimetype": "text/x-python",
   "name": "python",
   "nbconvert_exporter": "python",
   "pygments_lexer": "ipython3",
   "version": "3.6.8"
  }
 },
 "nbformat": 4,
 "nbformat_minor": 4
}
