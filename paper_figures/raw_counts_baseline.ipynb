{
 "cells": [
  {
   "cell_type": "code",
   "execution_count": 1,
   "metadata": {},
   "outputs": [],
   "source": [
    "import os\n",
    "import re\n",
    "import sys\n",
    "import gzip\n",
    "import json\n",
    "import codecs\n",
    "import pyBigWig\n",
    "import numpy as np\n",
    "from pyfaidx import Fasta\n",
    "from scipy.stats import spearmanr, pearsonr, gaussian_kde\n",
    "import matplotlib\n",
    "from matplotlib import pyplot as plt\n",
    "from scipy.stats import percentileofscore\n",
    "%matplotlib inline"
   ]
  },
  {
   "cell_type": "code",
   "execution_count": 2,
   "metadata": {},
   "outputs": [],
   "source": [
    "flankToCbf1Ddg = {}\n",
    "flankToPho4Ddg = {}\n",
    "firstLine = True\n",
    "allFlanks = []\n",
    "with open(\"../data/experimental/all_scaled_nn_preds.txt\") as inp:\n",
    "    for line in inp:\n",
    "        if firstLine:\n",
    "            firstLine = False\n",
    "            continue\n",
    "        flank,protein,_,_,_,ddG,_ = line.strip().split('\\t')\n",
    "        if protein == \"Cbf1\": flankToCbf1Ddg[flank] = float(ddG)\n",
    "        else: flankToPho4Ddg[flank] = float(ddG)\n",
    "        allFlanks.append(flank)\n",
    "allFlanks = list(set(allFlanks))"
   ]
  },
  {
   "cell_type": "code",
   "execution_count": 3,
   "metadata": {},
   "outputs": [],
   "source": [
    "tfToBigWigs = {}\n",
    "tfToBigWigs[\"pho4_pbexo\"] = (pyBigWig.open(\"../data/pho4_pbexo/basename_prefix.pooled.positive.bigwig\"),\n",
    "                             pyBigWig.open(\"../data/pho4_pbexo/basename_prefix.pooled.negative.bigwig\"))\n",
    "tfToBigWigs[\"cbf1_pbexo\"] = (pyBigWig.open(\"../data/cbf1_pbexo/basename_prefix.pooled.positive.bigwig\"),\n",
    "                             pyBigWig.open(\"../data/cbf1_pbexo/basename_prefix.pooled.negative.bigwig\"))\n",
    "tfToBigWigs[\"pho4_120m\"] = (pyBigWig.open(\"../data/nexus/120min/sc_myc_PHO4_120min_nexus_1_positive.bw\"),\n",
    "                            pyBigWig.open(\"../data/nexus/120min/sc_myc_PHO4_120min_nexus_1_negative.bw\"))\n",
    "tfToBigWigs[\"cbf1_nexus\"] = (pyBigWig.open(\"../data/cbf1_nexus/pos.bw\"),\n",
    "                             pyBigWig.open(\"../data/cbf1_nexus/neg.bw\"))"
   ]
  },
  {
   "cell_type": "code",
   "execution_count": 4,
   "metadata": {},
   "outputs": [],
   "source": [
    "tfToBeds = {}\n",
    "tfToBeds[\"pho4_pbexo\"] = open(\"../data/pho4_pbexo/pho4.pbexo.bed\")\n",
    "tfToBeds[\"cbf1_pbexo\"] = open(\"../data/cbf1_pbexo/cbf1.pbexo.bed\")\n",
    "tfToBeds[\"pho4_120m\"] = open(\"../data/nexus/120min/sc_myc_PHO4_120min_nexus_1_peaks.narrowPeak\")\n",
    "tfToBeds[\"cbf1_nexus\"] = open(\"../data/cbf1_nexus/overlap.peaks.bed\")"
   ]
  },
  {
   "cell_type": "code",
   "execution_count": 5,
   "metadata": {},
   "outputs": [],
   "source": [
    "chrms = [\"chrI\",\"chrII\",\"chrIII\",\"chrIV\",\"chrV\",\"chrVI\",\"chrVII\",\"chrVIII\",\n",
    "         \"chrIX\",\"chrX\",\"chrXI\",\"chrXII\",\"chrXIII\",\"chrXIV\",\"chrXV\",\"chrXVI\",\"chrM\"]\n",
    "\n",
    "fastapath = \"../data/genome/saccer/sacCer3.genome.fa\"\n",
    "GenomeDict={}\n",
    "sequence=''\n",
    "inputdatafile = open(fastapath)\n",
    "for line in inputdatafile:\n",
    "    if line[0]=='>':\n",
    "        if sequence != '':\n",
    "            GenomeDict[chrm] = ''.join(sequence)\n",
    "        chrm = line.strip().split('>')[1]\n",
    "        sequence=[]\n",
    "        Keep=False\n",
    "        continue\n",
    "    else:\n",
    "        sequence.append(line.strip())\n",
    "GenomeDict[chrm] = ''.join(sequence)"
   ]
  },
  {
   "cell_type": "code",
   "execution_count": 6,
   "metadata": {},
   "outputs": [],
   "source": [
    "motif = \"CACGTG\"\n",
    "motifLen = len(motif)\n",
    "flankLen = 5\n",
    "genomeFlankToCoord = {}\n",
    "for chrm in chrms:\n",
    "    sequence = GenomeDict[chrm].upper()\n",
    "    for m in re.finditer(motif, sequence):\n",
    "        flank = GenomeDict[chrm][m.start()-flankLen:m.start()]+ \\\n",
    "                GenomeDict[chrm][m.start()+motifLen:m.start()+motifLen+flankLen]\n",
    "        if flank not in genomeFlankToCoord:\n",
    "            genomeFlankToCoord[flank] = []\n",
    "        genomeFlankToCoord[flank].append((chrm, m.start()+(motifLen/2)))"
   ]
  },
  {
   "cell_type": "code",
   "execution_count": 7,
   "metadata": {},
   "outputs": [],
   "source": [
    "seq_len = 546\n",
    "keyToFlankToCoord = {}\n",
    "keyToFlankToCoord[\"pho4_pbexo\"] = {}\n",
    "keyToFlankToCoord[\"cbf1_pbexo\"] = {}\n",
    "keyToFlankToCoord[\"pho4_120m\"] = {}\n",
    "keyToFlankToCoord[\"cbf1_nexus\"] = {}\n",
    "for key in tfToBeds:\n",
    "    for line in tfToBeds[key]:\n",
    "        peakChrm = line.strip().split('\\t')[0]\n",
    "        pStart = int(line.strip().split('\\t')[1])\n",
    "        summit = pStart + 1\n",
    "        start = int(summit - (seq_len/2))\n",
    "        end = int(summit + (seq_len/2))\n",
    "        for flank in genomeFlankToCoord:\n",
    "            for chrm, center in genomeFlankToCoord[flank]:\n",
    "                if chrm == peakChrm and center >= start and center <= end:\n",
    "                    if flank not in keyToFlankToCoord[key]:\n",
    "                        keyToFlankToCoord[key][flank] = []\n",
    "                    keyToFlankToCoord[key][flank].append((chrm, center))"
   ]
  },
  {
   "cell_type": "code",
   "execution_count": 8,
   "metadata": {},
   "outputs": [],
   "source": [
    "seq_len = 546\n",
    "posFootprint = {}\n",
    "negFootprint = {}\n",
    "for key in tfToBigWigs.keys():\n",
    "    posFootprint[key] = {}\n",
    "    negFootprint[key] = {}\n",
    "    for flank in keyToFlankToCoord[key]:\n",
    "        currentPosCounts= []\n",
    "        currentNegCounts = []\n",
    "        for chrm, center in keyToFlankToCoord[key][flank]: \n",
    "            start = int(center-(seq_len/2))\n",
    "            end = int(center+(seq_len/2))\n",
    "            posvals = np.array(tfToBigWigs[key][0].values(chrm, start, end))\n",
    "            where_are_NaNs = np.isnan(posvals)\n",
    "            posvals[where_are_NaNs] = 0.0\n",
    "            currentPosCounts.append(np.abs(posvals))\n",
    "            negvals = np.array(tfToBigWigs[key][1].values(chrm, start, end))\n",
    "            where_are_NaNs = np.isnan(negvals)\n",
    "            negvals[where_are_NaNs] = 0.0\n",
    "            currentNegCounts.append(np.abs(negvals))\n",
    "        posFootprint[key][flank] = np.mean(np.array(currentPosCounts), axis = 0)\n",
    "        negFootprint[key][flank] = np.mean(np.array(currentNegCounts), axis = 0)"
   ]
  },
  {
   "cell_type": "code",
   "execution_count": 9,
   "metadata": {},
   "outputs": [
    {
     "name": "stdout",
     "output_type": "stream",
     "text": [
      "pho4_pbexo\n"
     ]
    },
    {
     "data": {
      "image/png": "[encoded data removed]",
      "text/plain": [
       "<Figure size 432x288 with 1 Axes>"
      ]
     },
     "metadata": {},
     "output_type": "display_data"
    },
    {
     "name": "stdout",
     "output_type": "stream",
     "text": [
      "cbf1_pbexo\n"
     ]
    },
    {
     "data": {
      "image/png": "[encoded data removed]",
      "text/plain": [
       "<Figure size 432x288 with 1 Axes>"
      ]
     },
     "metadata": {},
     "output_type": "display_data"
    },
    {
     "name": "stdout",
     "output_type": "stream",
     "text": [
      "pho4_120m\n"
     ]
    },
    {
     "data": {
      "image/png": "[encoded data removed]",
      "text/plain": [
       "<Figure size 432x288 with 1 Axes>"
      ]
     },
     "metadata": {},
     "output_type": "display_data"
    },
    {
     "name": "stdout",
     "output_type": "stream",
     "text": [
      "cbf1_nexus\n"
     ]
    },
    {
     "data": {
      "image/png": "[encoded data removed]",
      "text/plain": [
       "<Figure size 432x288 with 1 Axes>"
      ]
     },
     "metadata": {},
     "output_type": "display_data"
    }
   ],
   "source": [
    "keyToBestWindow = {}\n",
    "keyToXVals = {}\n",
    "keyToYVals = {}\n",
    "\n",
    "for key in tfToBigWigs.keys():\n",
    "    print(key)\n",
    "    xvals_pho4 = []\n",
    "    xvals_cbf1 = []\n",
    "    for flank in keyToFlankToCoord[key]:\n",
    "        xvals_pho4.append(flankToPho4Ddg[flank])\n",
    "        xvals_cbf1.append(flankToCbf1Ddg[flank])\n",
    "    if \"pho4\" in key:\n",
    "        xvals = xvals_pho4\n",
    "    elif \"cbf1\" in key:\n",
    "        xvals = xvals_cbf1\n",
    "    keyToXVals[key] = xvals\n",
    "    perfs = []\n",
    "    best_perf = 0.0\n",
    "    for window in range(2, 400):\n",
    "        start = int((seq_len/2)-(window/2))\n",
    "        end = int((seq_len/2)+(window/2))\n",
    "        yvals = []\n",
    "        for flank in keyToFlankToCoord[key]:\n",
    "            yvals.append(1+np.sum(posFootprint[key][flank][start:end]+ \\\n",
    "                                  negFootprint[key][flank][start:end]))\n",
    "        new_perf = abs(spearmanr(xvals, yvals)[0])\n",
    "        perfs.append(new_perf)\n",
    "        if new_perf > best_perf:\n",
    "            best_perf = new_perf\n",
    "            keyToBestWindow[key] = window\n",
    "            keyToYVals[key] = np.log(yvals)\n",
    "    fig, ax = plt.subplots()\n",
    "    ax.plot(range(2, 400), perfs)\n",
    "    plt.show()"
   ]
  },
  {
   "cell_type": "code",
   "execution_count": 10,
   "metadata": {},
   "outputs": [
    {
     "data": {
      "text/plain": [
       "<Figure size 1500x1500 with 0 Axes>"
      ]
     },
     "metadata": {},
     "output_type": "display_data"
    },
    {
     "data": {
      "text/plain": [
       "<Figure size 1500x1500 with 0 Axes>"
      ]
     },
     "metadata": {},
     "output_type": "display_data"
    },
    {
     "data": {
      "text/plain": [
       "<Figure size 1500x1500 with 0 Axes>"
      ]
     },
     "metadata": {},
     "output_type": "display_data"
    },
    {
     "data": {
      "text/plain": [
       "<Figure size 1500x1500 with 0 Axes>"
      ]
     },
     "metadata": {},
     "output_type": "display_data"
    }
   ],
   "source": [
    "font = {'weight' : 'bold',\n",
    "        'size'   : 14}\n",
    "matplotlib.rc('font', **font)\n",
    "\n",
    "for key in tfToBigWigs.keys():\n",
    "    fig = plt.figure(figsize=(5, 5), dpi=300)\n",
    "    ax = fig.add_subplot(111)\n",
    "    plt.scatter(keyToXVals[key], keyToYVals[key], alpha=0.35)\n",
    "    meta = {}\n",
    "    meta[\"key\"] = key\n",
    "    meta[\"x-axis\"] = \"ddG\"\n",
    "    meta[\"y-axis\"] = \"natural log of ( 1 + counts )\"\n",
    "    meta[\"best-window\"] = keyToBestWindow[key]\n",
    "    meta[\"Number of hits in peaks\"] = len(keyToFlankToCoord[key])\n",
    "    meta[\"spearman\"] = spearmanr(keyToXVals[key], keyToYVals[key])[0]\n",
    "    meta[\"pearson\"] = pearsonr(keyToXVals[key], keyToYVals[key])[0]\n",
    "    # Residuals is sum of squared residuals of the least-squares fit\n",
    "    meta[\"residuals\"] = np.polyfit(keyToXVals[key], keyToYVals[key], 1, full=True)[1][0]\n",
    "    # ax.set_xlim((1,5.75))\n",
    "    # ax.set_ylim((1,5.75))\n",
    "    # ax.set_aspect('equal')\n",
    "    fig.savefig(key+'_raw_counts_baseline.png', dpi=300)\n",
    "    plt.clf()\n",
    "    with open(key+'_raw_counts_metadata.json', 'w') as fp: json.dump(meta, fp)"
   ]
  }
 ],
 "metadata": {
  "kernelspec": {
   "display_name": "Python [conda env:basepair]",
   "language": "python",
   "name": "conda-env-basepair-py"
  },
  "language_info": {
   "codemirror_mode": {
    "name": "ipython",
    "version": 3
   },
   "file_extension": ".py",
   "mimetype": "text/x-python",
   "name": "python",
   "nbconvert_exporter": "python",
   "pygments_lexer": "ipython3",
   "version": "3.6.8"
  }
 },
 "nbformat": 4,
 "nbformat_minor": 4
}
