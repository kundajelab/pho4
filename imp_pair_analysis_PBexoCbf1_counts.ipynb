{
 "cells": [
  {
   "cell_type": "code",
   "execution_count": null,
   "metadata": {},
   "outputs": [],
   "source": [
    "import os\n",
    "import sys\n",
    "import pickle\n",
    "import numpy as np\n",
    "from math import exp\n",
    "from scipy import stats\n",
    "import matplotlib as mpl\n",
    "mpl.use('Agg')\n",
    "import matplotlib.pyplot as plt\n",
    "from vizsequence.viz_sequence import plot_weights_given_ax\n",
    "from scipy.special import softmax\n",
    "import keras\n",
    "import keras.losses\n",
    "from keras.models import Model, Sequential, load_model\n",
    "from keras import backend as K\n",
    "import numpy.random as rng\n",
    "import seaborn as sns\n",
    "from collections import OrderedDict\n",
    "from basepair.losses import twochannel_multinomial_nll\n",
    "import modisco\n",
    "import modisco.tfmodisco_workflow.workflow\n",
    "from modisco.tfmodisco_workflow import workflow\n",
    "import h5py\n",
    "import modisco.util\n",
    "from collections import Counter\n",
    "from modisco.visualization import viz_sequence\n",
    "import modisco.affinitymat.core\n",
    "import modisco.cluster.phenograph.core\n",
    "import modisco.cluster.phenograph.cluster\n",
    "import modisco.cluster.core\n",
    "import modisco.aggregator\n",
    "%matplotlib inline"
   ]
  },
  {
   "cell_type": "code",
   "execution_count": null,
   "metadata": {},
   "outputs": [],
   "source": [
    "all_post_counts_hypimps = np.load(\"/users/amr1/pho4/data/imp-scores/cbf1_pbexo/post_counts_hypimps.npy\")\n",
    "all_post_counts_actualimps = np.load(\"/users/amr1/pho4/data/imp-scores/cbf1_pbexo/post_counts_actualimps.npy\")  \n",
    "all_seqs = np.load(\"/users/amr1/pho4/data/imp-scores/cbf1_pbexo/seqs.npy\")"
   ]
  },
  {
   "cell_type": "code",
   "execution_count": null,
   "metadata": {},
   "outputs": [],
   "source": [
    "track_set = modisco.tfmodisco_workflow.workflow.prep_track_set(\n",
    "                task_names=[\"task0\"],\n",
    "                contrib_scores={\"task0\": all_post_counts_actualimps},\n",
    "                hypothetical_contribs={\"task0\": all_post_counts_hypimps},\n",
    "                one_hot=all_seqs)\n",
    "\n",
    "grp = h5py.File(\"data/modisco/cbf1_pbexo/task0_counts_results.hdf5\",\"r\")\n",
    "loaded_tfmodisco_results =\\\n",
    "    workflow.TfModiscoResults.from_hdf5(grp, track_set=track_set)\n",
    "grp.close()"
   ]
  },
  {
   "cell_type": "code",
   "execution_count": null,
   "metadata": {},
   "outputs": [],
   "source": [
    "background = np.array([0.27, 0.23, 0.23, 0.27])\n",
    "untrimmed_pattern = (\n",
    "    loaded_tfmodisco_results\n",
    "    .metacluster_idx_to_submetacluster_results[\"metacluster_1\"]\n",
    "    .seqlets_to_patterns_result.patterns[0])\n",
    "print(\"Untrimmed - sequence (scaled by information content)\")\n",
    "viz_sequence.plot_weights(viz_sequence.ic_scale(untrimmed_pattern[\"sequence\"].fwd, background=background))\n",
    "print(\"Untrimmed - task 0 hypothetical scores\")\n",
    "viz_sequence.plot_weights(untrimmed_pattern[\"task0_hypothetical_contribs\"].fwd)\n",
    "trimmed = untrimmed_pattern.trim_by_ic(ppm_track_name=\"sequence\", background=background, threshold=0.3)\n",
    "print(\"IC-trimmed - sequence (scaled by information content)\")\n",
    "viz_sequence.plot_weights(viz_sequence.ic_scale(trimmed[\"sequence\"].fwd, background=background))"
   ]
  },
  {
   "cell_type": "code",
   "execution_count": null,
   "metadata": {},
   "outputs": [],
   "source": [
    "print(trimmed[\"task0_hypothetical_contribs\"].fwd)"
   ]
  },
  {
   "cell_type": "code",
   "execution_count": null,
   "metadata": {},
   "outputs": [],
   "source": [
    "imp_scores = all_post_counts_actualimps\n",
    "onehot_seq = np.array(all_seqs)\n",
    "fwd_masked_cosine_sim = modisco.util.compute_masked_cosine_sim(\n",
    "                                     imp_scores=imp_scores,\n",
    "                                     onehot_seq=onehot_seq,\n",
    "                                     weightmat=trimmed[\"task0_hypothetical_contribs\"].fwd)\n",
    "rev_masked_cosine_sim = modisco.util.compute_masked_cosine_sim(\n",
    "                                     imp_scores=imp_scores,\n",
    "                                     onehot_seq=onehot_seq,\n",
    "                                     weightmat=trimmed[\"task0_hypothetical_contribs\"].rev)\n",
    "\n",
    "#We take the max of the masked_cosine_sim on the fwd and reverse strands\n",
    "is_fwd_masked_cosine_sim = fwd_masked_cosine_sim > rev_masked_cosine_sim\n",
    "masked_cosine_sim = (fwd_masked_cosine_sim*is_fwd_masked_cosine_sim\n",
    "                     + rev_masked_cosine_sim*(is_fwd_masked_cosine_sim==False))\n",
    "\n",
    "#Also look at the total sum of scores in each window\n",
    "sum_scores = modisco.util.compute_sum_scores(imp_scores=imp_scores,\n",
    "                                             window_size=len(trimmed[\"task0_hypothetical_contribs\"].fwd))"
   ]
  },
  {
   "cell_type": "code",
   "execution_count": null,
   "metadata": {},
   "outputs": [],
   "source": [
    "plt.scatter(masked_cosine_sim.ravel(), sum_scores.ravel(), alpha=0.1)\n",
    "plt.xlabel(\"Masked cosine similarity\")\n",
    "plt.ylabel(\"Sum score\")\n",
    "plt.show()"
   ]
  },
  {
   "cell_type": "code",
   "execution_count": null,
   "metadata": {},
   "outputs": [],
   "source": [
    "plt.hist(masked_cosine_sim.ravel(), bins=100, density=True)\n",
    "plt.xlabel(\"Masked cosine similarity\")\n",
    "plt.ylabel(\"Density\")\n",
    "plt.show()"
   ]
  },
  {
   "cell_type": "code",
   "execution_count": null,
   "metadata": {},
   "outputs": [],
   "source": [
    "masked_cosine_sim_thresh = 0.7\n",
    "plt.hist(sum_scores.ravel()[masked_cosine_sim.ravel() > masked_cosine_sim_thresh],\n",
    "         bins=20, density=True)\n",
    "plt.xlabel(\"Sum scores\")\n",
    "plt.ylabel(\"Density\")\n",
    "plt.show()"
   ]
  },
  {
   "cell_type": "code",
   "execution_count": null,
   "metadata": {},
   "outputs": [],
   "source": [
    "sum_score_thresh = 0.1\n",
    "threshold_passers = ((masked_cosine_sim > masked_cosine_sim_thresh)*\n",
    "                     (sum_scores > sum_score_thresh))"
   ]
  },
  {
   "cell_type": "code",
   "execution_count": null,
   "metadata": {},
   "outputs": [],
   "source": [
    "hit_locations = list(zip(*np.nonzero(threshold_passers)))\n",
    "len(hit_locations)"
   ]
  },
  {
   "cell_type": "code",
   "execution_count": null,
   "metadata": {},
   "outputs": [],
   "source": [
    "handles = []\n",
    "handles.append(\n",
    "    plt.scatter(masked_cosine_sim[threshold_passers==False].ravel(),\n",
    "            sum_scores[threshold_passers==False].ravel(), alpha=0.1))\n",
    "handles.append(\n",
    "    plt.scatter(masked_cosine_sim[threshold_passers].ravel(),\n",
    "            sum_scores[threshold_passers].ravel(), alpha=0.1))\n",
    "plt.xlabel(\"Masked cosine similarity\")\n",
    "plt.ylabel(\"Sum score\")\n",
    "plt.legend(handles=handles, labels=[\"Not passing\", \"Passing\"])\n",
    "plt.show()"
   ]
  },
  {
   "cell_type": "code",
   "execution_count": null,
   "metadata": {},
   "outputs": [],
   "source": [
    "hit_locations = list(zip(*np.nonzero(threshold_passers)))\n",
    "num_to_viz = 5\n",
    "for (seq_idx, hit_pos) in hit_locations[:num_to_viz]:\n",
    "    print(\"cosine similarity:\", masked_cosine_sim[seq_idx,hit_pos],\n",
    "          \"sum scores:\", sum_scores[seq_idx, hit_pos])\n",
    "    fig = plt.figure(figsize=(20,2))\n",
    "    ax = fig.add_subplot(111)     \n",
    "    viz_sequence.plot_weights_given_ax(ax=ax,\n",
    "        array=imp_scores[seq_idx],\n",
    "        height_padding_factor=0.2,\n",
    "        length_padding=1.0,\n",
    "        highlight={'red': [(hit_pos, hit_pos+len(trimmed))]},\n",
    "        subticks_frequency=20)\n",
    "    plt.xlim((750,1200))\n",
    "    plt.show()"
   ]
  },
  {
   "cell_type": "code",
   "execution_count": null,
   "metadata": {},
   "outputs": [],
   "source": [
    "centered_imps = []\n",
    "for (seq_idx, hit_pos) in hit_locations:\n",
    "    centered_imps.append(imp_scores[seq_idx][hit_pos-100:hit_pos+100])\n",
    "centered_imps = np.array(centered_imps)"
   ]
  },
  {
   "cell_type": "code",
   "execution_count": null,
   "metadata": {},
   "outputs": [],
   "source": [
    "print(\"counts imp\")\n",
    "viz_sequence.plot_weights(np.mean(centered_imps, axis=0), subticks_frequency=10)"
   ]
  },
  {
   "cell_type": "code",
   "execution_count": null,
   "metadata": {},
   "outputs": [],
   "source": [
    "magnitude_imps = np.sum(centered_imps, axis=-1)\n",
    "plt.plot(np.arange(-100,100,1), np.log(np.mean(magnitude_imps, axis=0)))"
   ]
  },
  {
   "cell_type": "code",
   "execution_count": null,
   "metadata": {},
   "outputs": [],
   "source": [
    "plt.plot(np.arange(-100,100,1), np.log(np.mean(magnitude_imps, axis=0)))\n",
    "plt.xlim((-10,70))"
   ]
  },
  {
   "cell_type": "code",
   "execution_count": null,
   "metadata": {},
   "outputs": [],
   "source": [
    "all_coords = np.load(\"/users/amr1/pho4/data/imp-scores/cbf1_pbexo/coords.npy\")"
   ]
  },
  {
   "cell_type": "code",
   "execution_count": null,
   "metadata": {},
   "outputs": [],
   "source": [
    "chrmToHits = {}\n",
    "for (seq_idx, hit_pos) in hit_locations:\n",
    "    chrm, _, interval = all_coords[seq_idx].split(':')\n",
    "    start, _ = interval.split('-')\n",
    "    if chrm not in chrmToHits:\n",
    "        chrmToHits[chrm] = []\n",
    "    chrmToHits[chrm].append(int(start)+hit_pos)"
   ]
  },
  {
   "cell_type": "code",
   "execution_count": null,
   "metadata": {},
   "outputs": [],
   "source": [
    "motif = trimmed[\"sequence\"].fwd"
   ]
  },
  {
   "cell_type": "code",
   "execution_count": null,
   "metadata": {},
   "outputs": [],
   "source": [
    "len(motif)"
   ]
  },
  {
   "cell_type": "code",
   "execution_count": null,
   "metadata": {},
   "outputs": [],
   "source": [
    "distances = []\n",
    "for chrm in chrmToHits:\n",
    "    for idx in range(0, len(chrmToHits[chrm])):\n",
    "        pos1 = chrmToHits[chrm][idx]\n",
    "        for idy in range(idx+1, len(chrmToHits[chrm])):\n",
    "            pos2 = chrmToHits[chrm][idy]\n",
    "            dist = abs(pos1-pos2)\n",
    "            if dist >= len(motif) and dist <= 100:\n",
    "                distances.append(dist)"
   ]
  },
  {
   "cell_type": "code",
   "execution_count": null,
   "metadata": {},
   "outputs": [],
   "source": [
    "len(distances)"
   ]
  },
  {
   "cell_type": "code",
   "execution_count": null,
   "metadata": {},
   "outputs": [],
   "source": [
    "import scipy.stats as st\n",
    "\n",
    "plt.hist(distances, density=True, bins=20, label=\"Data\")\n",
    "mn, mx = plt.xlim()\n",
    "plt.xlim(mn, mx)\n",
    "kde_xs = np.linspace(mn, mx, 301)\n",
    "kde = st.gaussian_kde(distances)\n",
    "plt.plot(kde_xs, kde.pdf(kde_xs), label=\"PDF\")\n",
    "plt.legend(loc=\"upper right\")\n",
    "plt.ylabel('Binding Probability')\n",
    "plt.xlabel('Distance (basepairs)')\n",
    "plt.title(\"Pair distances in genome\")"
   ]
  },
  {
   "cell_type": "code",
   "execution_count": null,
   "metadata": {},
   "outputs": [],
   "source": [
    "plt.hist(distances, density=False, bins=20, label=\"Data\")\n",
    "plt.ylabel('Binding Instances')\n",
    "plt.xlabel('Distance (basepairs)')\n",
    "plt.title(\"Pair distances in genome\")"
   ]
  }
 ],
 "metadata": {
  "kernelspec": {
   "display_name": "Python [conda env:basepair]",
   "language": "python",
   "name": "conda-env-basepair-py"
  },
  "language_info": {
   "codemirror_mode": {
    "name": "ipython",
    "version": 3
   },
   "file_extension": ".py",
   "mimetype": "text/x-python",
   "name": "python",
   "nbconvert_exporter": "python",
   "pygments_lexer": "ipython3",
   "version": "3.6.8"
  }
 },
 "nbformat": 4,
 "nbformat_minor": 4
}
