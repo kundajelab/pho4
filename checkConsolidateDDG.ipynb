{
 "cells": [
  {
   "cell_type": "code",
   "execution_count": 1,
   "metadata": {},
   "outputs": [
    {
     "name": "stdout",
     "output_type": "stream",
     "text": [
      "flank\ttf_count\tref_count\ttf\tref\tddG\tprotein\trep\n",
      "TACCCCAAGG\t5\t1\t8.06009867495202e-07\t1.39068770480484e-07\t-1.04197656156739\tpho4\t1\n",
      "CGGCCATGGG\t5\t6\t8.06009867495202e-07\t8.34412622882904e-07\t0.0205368036848512\tpho4\t1\n",
      "CCCAGCGTTT\t1\t6\t1.6120197349904e-07\t8.34412622882904e-07\t0.974933485758273\tpho4\t1\n",
      "AATAGCTGTA\t9\t8\t1.45081776149136e-06\t1.11255016384387e-06\t-0.157425219638199\tpho4\t1\n",
      "GGGATATCAG\t5\t6\t8.06009867495202e-07\t8.34412622882904e-07\t0.0205368036848512\tpho4\t1\n",
      "TCGCTCCTCT\t2\t4\t3.22403946998081e-07\t5.56275081921936e-07\t0.323456398578084\tpho4\t1\n",
      "CAAGTGAAAT\t2\t8\t3.22403946998081e-07\t1.11255016384387e-06\t0.734492676650131\tpho4\t1\n",
      "ACCACGATTG\t2\t1\t3.22403946998081e-07\t1.39068770480484e-07\t-0.498616157566011\tpho4\t1\n",
      "TCTAAATTCA\t4\t3\t6.44807893996161e-07\t4.17206311441452e-07\t-0.25817534845787\tpho4\t1\n"
     ]
    }
   ],
   "source": [
    "!head GSE111936_counts.txt"
   ]
  },
  {
   "cell_type": "code",
   "execution_count": 2,
   "metadata": {},
   "outputs": [],
   "source": [
    "flankToDdGList = {}\n",
    "firstLine = True\n",
    "with open(\"GSE111936_counts.txt\") as inp:\n",
    "    for line in inp:\n",
    "        if firstLine:\n",
    "            firstLine = False\n",
    "            continue\n",
    "        flank = line.strip().split('\\t')[0]\n",
    "        ddG = float(line.strip().split('\\t')[5])\n",
    "        if ddG == float('inf'):\n",
    "            continue\n",
    "        if flank not in flankToDdGList:\n",
    "            flankToDdGList[flank] = []\n",
    "        flankToDdGList[flank].append(ddG)"
   ]
  },
  {
   "cell_type": "code",
   "execution_count": 3,
   "metadata": {},
   "outputs": [],
   "source": [
    "flankToDdG = {}\n",
    "for key, value in flankToDdGList.items():\n",
    "    if len(value) == 0:\n",
    "        continue\n",
    "    flankToDdG[key] = sum(value) / float(len(value))"
   ]
  },
  {
   "cell_type": "code",
   "execution_count": 4,
   "metadata": {},
   "outputs": [
    {
     "data": {
      "text/plain": [
       "1048576"
      ]
     },
     "execution_count": 4,
     "metadata": {},
     "output_type": "execute_result"
    }
   ],
   "source": [
    "len(flankToDdG.keys())"
   ]
  },
  {
   "cell_type": "code",
   "execution_count": 5,
   "metadata": {},
   "outputs": [
    {
     "name": "stdout",
     "output_type": "stream",
     "text": [
      ",ddG Value,Simulated Predicted Counts (delta),Actual Total Counts\n",
      "AAAAAAAAAA,0.27621988085974986,-0.025634337216615677,19230.0\n",
      "AAAAAAAAAC,0.2673280599521571,-0.016025591641664505,1715.0\n",
      "AAAAAAAAAG,0.2624937060283595,-0.033338118344545364,2736.0\n",
      "AAAAAAAAAT,0.2816373470233851,-0.03927776962518692,2929.0\n",
      "AAAAAAAACA,0.2418136510061198,-0.018689990043640137,1203.0\n",
      "AAAAAAAACC,0.2282033029006892,-0.03208126872777939,517.0\n",
      "AAAAAAAACG,0.2351861658500605,0.07855598628520966,448.0\n",
      "AAAAAAAACT,0.251138901989358,-0.04184715822339058,633.0\n",
      "AAAAAAAAGA,0.2758133771823817,-0.0347575917840004,2435.0\n"
     ]
    }
   ],
   "source": [
    "!head tenmer_table.csv"
   ]
  },
  {
   "cell_type": "code",
   "execution_count": 6,
   "metadata": {},
   "outputs": [
    {
     "name": "stdout",
     "output_type": "stream",
     "text": [
      "DISCREPANCY\n",
      "0.27621988085974986 0.03602944550270414\n"
     ]
    }
   ],
   "source": [
    "firstLine = True\n",
    "with open(\"tenmer_table.csv\") as inp:\n",
    "    for line in inp:\n",
    "        if firstLine:\n",
    "            firstLine = False\n",
    "            continue\n",
    "        flank = line.strip().split(',')[0]\n",
    "        ddG = float(line.strip().split(',')[1])\n",
    "        if ddG == float('inf'):\n",
    "            continue\n",
    "        if flank not in flankToDdG:\n",
    "            print(\"FLANK IN TABLE MISSING\")\n",
    "        else:\n",
    "            if abs(ddG-flankToDdG[flank]) > 1e-6:\n",
    "                print(\"DISCREPANCY\")\n",
    "                print(ddG, flankToDdG[flank])\n",
    "                break"
   ]
  }
 ],
 "metadata": {
  "kernelspec": {
   "display_name": "Python [conda env:basepair]",
   "language": "python",
   "name": "conda-env-basepair-py"
  },
  "language_info": {
   "codemirror_mode": {
    "name": "ipython",
    "version": 3
   },
   "file_extension": ".py",
   "mimetype": "text/x-python",
   "name": "python",
   "nbconvert_exporter": "python",
   "pygments_lexer": "ipython3",
   "version": "3.6.8"
  }
 },
 "nbformat": 4,
 "nbformat_minor": 4
}
