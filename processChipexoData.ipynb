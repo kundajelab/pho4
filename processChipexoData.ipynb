{
 "cells": [
  {
   "cell_type": "code",
   "execution_count": 1,
   "metadata": {},
   "outputs": [],
   "source": [
    "import os\n",
    "import subprocess\n",
    "from pathlib import Path"
   ]
  },
  {
   "cell_type": "markdown",
   "metadata": {},
   "source": [
    "Downloading the data"
   ]
  },
  {
   "cell_type": "code",
   "execution_count": 2,
   "metadata": {},
   "outputs": [
    {
     "name": "stdout",
     "output_type": "stream",
     "text": [
      "Cbf1_Ana_1 ftp://ftp.sra.ebi.ac.uk/vol1/fastq/ERR252/004/ERR2529254/ERR2529254.fastq.gz Cbf1A1_S3_L001_R1_001.fastq.gz\n",
      "Cbf1_Ana_1 ftp://ftp.sra.ebi.ac.uk/vol1/fastq/ERR252/005/ERR2529255/ERR2529255.fastq.gz Cbf1A1_S3_L002_R1_001.fastq.gz\n",
      "Cbf1_Ana_1 ftp://ftp.sra.ebi.ac.uk/vol1/fastq/ERR252/006/ERR2529256/ERR2529256.fastq.gz Cbf1A1_S3_L003_R1_001.fastq.gz\n",
      "Cbf1_Ana_1 ftp://ftp.sra.ebi.ac.uk/vol1/fastq/ERR252/007/ERR2529257/ERR2529257.fastq.gz Cbf1A1_S3_L004_R1_001.fastq.gz\n",
      "Cbf1_Ana_2 ftp://ftp.sra.ebi.ac.uk/vol1/fastq/ERR252/008/ERR2529258/ERR2529258.fastq.gz Cbf1A2_S5_L001_R1_001.fastq.gz\n",
      "Cbf1_Ana_2 ftp://ftp.sra.ebi.ac.uk/vol1/fastq/ERR252/009/ERR2529259/ERR2529259.fastq.gz Cbf1A2_S5_L002_R1_001.fastq.gz\n",
      "Cbf1_Ana_2 ftp://ftp.sra.ebi.ac.uk/vol1/fastq/ERR252/000/ERR2529260/ERR2529260.fastq.gz Cbf1A2_S5_L003_R1_001.fastq.gz\n",
      "Cbf1_Ana_2 ftp://ftp.sra.ebi.ac.uk/vol1/fastq/ERR252/001/ERR2529261/ERR2529261.fastq.gz Cbf1A2_S5_L004_R1_001.fastq.gz\n",
      "Tye7_Ana_1 ftp://ftp.sra.ebi.ac.uk/vol1/fastq/ERR252/002/ERR2529382/ERR2529382.fastq.gz Tye7A1_S5_L001_R1_001.fastq.gz\n",
      "Tye7_Ana_1 ftp://ftp.sra.ebi.ac.uk/vol1/fastq/ERR252/003/ERR2529383/ERR2529383.fastq.gz Tye7A1_S5_L002_R1_001.fastq.gz\n",
      "Tye7_Ana_1 ftp://ftp.sra.ebi.ac.uk/vol1/fastq/ERR252/004/ERR2529384/ERR2529384.fastq.gz Tye7A1_S5_L003_R1_001.fastq.gz\n",
      "Tye7_Ana_1 ftp://ftp.sra.ebi.ac.uk/vol1/fastq/ERR252/005/ERR2529385/ERR2529385.fastq.gz Tye7A1_S5_L004_R1_001.fastq.gz\n",
      "Tye7_Ana_2 ftp://ftp.sra.ebi.ac.uk/vol1/fastq/ERR252/006/ERR2529386/ERR2529386.fastq.gz Tye7A2_S6_L001_R1_001.fastq.gz\n",
      "Tye7_Ana_2 ftp://ftp.sra.ebi.ac.uk/vol1/fastq/ERR252/007/ERR2529387/ERR2529387.fastq.gz Tye7A2_S6_L002_R1_001.fastq.gz\n",
      "Tye7_Ana_2 ftp://ftp.sra.ebi.ac.uk/vol1/fastq/ERR252/008/ERR2529388/ERR2529388.fastq.gz Tye7A2_S6_L003_R1_001.fastq.gz\n",
      "Tye7_Ana_2 ftp://ftp.sra.ebi.ac.uk/vol1/fastq/ERR252/009/ERR2529389/ERR2529389.fastq.gz Tye7A2_S6_L004_R1_001.fastq.gz\n",
      "Cbf1_Eth_1 ftp://ftp.sra.ebi.ac.uk/vol1/fastq/ERR252/008/ERR2529398/ERR2529398.fastq.gz Cbf1E1_S10_L001_R1_001.fastq.gz\n",
      "Cbf1_Eth_1 ftp://ftp.sra.ebi.ac.uk/vol1/fastq/ERR252/009/ERR2529399/ERR2529399.fastq.gz Cbf1E1_S10_L002_R1_001.fastq.gz\n",
      "Cbf1_Eth_1 ftp://ftp.sra.ebi.ac.uk/vol1/fastq/ERR252/000/ERR2529400/ERR2529400.fastq.gz Cbf1E1_S10_L003_R1_001.fastq.gz\n",
      "Cbf1_Eth_1 ftp://ftp.sra.ebi.ac.uk/vol1/fastq/ERR252/001/ERR2529401/ERR2529401.fastq.gz Cbf1E1_S10_L004_R1_001.fastq.gz\n",
      "Cbf1_Eth_2 ftp://ftp.sra.ebi.ac.uk/vol1/fastq/ERR252/002/ERR2529402/ERR2529402.fastq.gz Cbf1E2_S11_L001_R1_001.fastq.gz\n",
      "Cbf1_Eth_2 ftp://ftp.sra.ebi.ac.uk/vol1/fastq/ERR252/003/ERR2529403/ERR2529403.fastq.gz Cbf1E2_S11_L002_R1_001.fastq.gz\n",
      "Cbf1_Eth_2 ftp://ftp.sra.ebi.ac.uk/vol1/fastq/ERR252/004/ERR2529404/ERR2529404.fastq.gz Cbf1E2_S11_L003_R1_001.fastq.gz\n",
      "Cbf1_Eth_2 ftp://ftp.sra.ebi.ac.uk/vol1/fastq/ERR252/005/ERR2529405/ERR2529405.fastq.gz Cbf1E2_S11_L004_R1_001.fastq.gz\n",
      "Tye7_Eth_1 ftp://ftp.sra.ebi.ac.uk/vol1/fastq/ERR252/006/ERR2529526/ERR2529526.fastq.gz Tye7E1_S3_L001_R1_001.fastq.gz\n",
      "Tye7_Eth_1 ftp://ftp.sra.ebi.ac.uk/vol1/fastq/ERR252/007/ERR2529527/ERR2529527.fastq.gz Tye7E1_S3_L002_R1_001.fastq.gz\n",
      "Tye7_Eth_1 ftp://ftp.sra.ebi.ac.uk/vol1/fastq/ERR252/008/ERR2529528/ERR2529528.fastq.gz Tye7E1_S3_L003_R1_001.fastq.gz\n",
      "Tye7_Eth_1 ftp://ftp.sra.ebi.ac.uk/vol1/fastq/ERR252/009/ERR2529529/ERR2529529.fastq.gz Tye7E1_S3_L004_R1_001.fastq.gz\n",
      "Tye7_Eth_2 ftp://ftp.sra.ebi.ac.uk/vol1/fastq/ERR252/000/ERR2529530/ERR2529530.fastq.gz Tye7E2_S4_L001_R1_001.fastq.gz\n",
      "Tye7_Eth_2 ftp://ftp.sra.ebi.ac.uk/vol1/fastq/ERR252/001/ERR2529531/ERR2529531.fastq.gz Tye7E2_S4_L002_R1_001.fastq.gz\n",
      "Tye7_Eth_2 ftp://ftp.sra.ebi.ac.uk/vol1/fastq/ERR252/002/ERR2529532/ERR2529532.fastq.gz Tye7E2_S4_L003_R1_001.fastq.gz\n",
      "Tye7_Eth_2 ftp://ftp.sra.ebi.ac.uk/vol1/fastq/ERR252/003/ERR2529533/ERR2529533.fastq.gz Tye7E2_S4_L004_R1_001.fastq.gz\n",
      "Cbf1_Nit_1 ftp://ftp.sra.ebi.ac.uk/vol1/fastq/ERR252/002/ERR2529542/ERR2529542.fastq.gz Cbf1N1_S16_L001_R1_001.fastq.gz\n",
      "Cbf1_Nit_1 ftp://ftp.sra.ebi.ac.uk/vol1/fastq/ERR252/003/ERR2529543/ERR2529543.fastq.gz Cbf1N1_S16_L002_R1_001.fastq.gz\n",
      "Cbf1_Nit_1 ftp://ftp.sra.ebi.ac.uk/vol1/fastq/ERR252/004/ERR2529544/ERR2529544.fastq.gz Cbf1N1_S16_L003_R1_001.fastq.gz\n",
      "Cbf1_Nit_1 ftp://ftp.sra.ebi.ac.uk/vol1/fastq/ERR252/005/ERR2529545/ERR2529545.fastq.gz Cbf1N1_S16_L004_R1_001.fastq.gz\n",
      "Cbf1_Nit_2 ftp://ftp.sra.ebi.ac.uk/vol1/fastq/ERR252/006/ERR2529546/ERR2529546.fastq.gz Cbf1N2_S7_L001_R1_001.fastq.gz\n",
      "Cbf1_Nit_2 ftp://ftp.sra.ebi.ac.uk/vol1/fastq/ERR252/007/ERR2529547/ERR2529547.fastq.gz Cbf1N2_S7_L002_R1_001.fastq.gz\n",
      "Cbf1_Nit_2 ftp://ftp.sra.ebi.ac.uk/vol1/fastq/ERR252/008/ERR2529548/ERR2529548.fastq.gz Cbf1N2_S7_L003_R1_001.fastq.gz\n",
      "Cbf1_Nit_2 ftp://ftp.sra.ebi.ac.uk/vol1/fastq/ERR252/009/ERR2529549/ERR2529549.fastq.gz Cbf1N2_S7_L004_R1_001.fastq.gz\n",
      "Tye7_Nit_1 ftp://ftp.sra.ebi.ac.uk/vol1/fastq/ERR252/000/ERR2529670/ERR2529670.fastq.gz Tye7N1_S16_L001_R1_001.fastq.gz\n",
      "Tye7_Nit_1 ftp://ftp.sra.ebi.ac.uk/vol1/fastq/ERR252/001/ERR2529671/ERR2529671.fastq.gz Tye7N1_S16_L002_R1_001.fastq.gz\n",
      "Tye7_Nit_1 ftp://ftp.sra.ebi.ac.uk/vol1/fastq/ERR252/002/ERR2529672/ERR2529672.fastq.gz Tye7N1_S16_L003_R1_001.fastq.gz\n",
      "Tye7_Nit_1 ftp://ftp.sra.ebi.ac.uk/vol1/fastq/ERR252/003/ERR2529673/ERR2529673.fastq.gz Tye7N1_S16_L004_R1_001.fastq.gz\n",
      "Tye7_Nit_2 ftp://ftp.sra.ebi.ac.uk/vol1/fastq/ERR252/004/ERR2529674/ERR2529674.fastq.gz Tye7N2_S2_L001_R1_001.fastq.gz\n",
      "Tye7_Nit_2 ftp://ftp.sra.ebi.ac.uk/vol1/fastq/ERR252/005/ERR2529675/ERR2529675.fastq.gz Tye7N2_S2_L002_R1_001.fastq.gz\n",
      "Tye7_Nit_2 ftp://ftp.sra.ebi.ac.uk/vol1/fastq/ERR252/006/ERR2529676/ERR2529676.fastq.gz Tye7N2_S2_L003_R1_001.fastq.gz\n",
      "Tye7_Nit_2 ftp://ftp.sra.ebi.ac.uk/vol1/fastq/ERR252/007/ERR2529677/ERR2529677.fastq.gz Tye7N2_S2_L004_R1_001.fastq.gz\n",
      "Cbf1_Glu_1 ftp://ftp.sra.ebi.ac.uk/vol1/fastq/ERR252/000/ERR2529690/ERR2529690.fastq.gz Cbf1G1_S13_L001_R1_001.fastq.gz\n",
      "Cbf1_Glu_1 ftp://ftp.sra.ebi.ac.uk/vol1/fastq/ERR252/001/ERR2529691/ERR2529691.fastq.gz Cbf1G1_S13_L002_R1_001.fastq.gz\n",
      "Cbf1_Glu_1 ftp://ftp.sra.ebi.ac.uk/vol1/fastq/ERR252/002/ERR2529692/ERR2529692.fastq.gz Cbf1G1_S13_L003_R1_001.fastq.gz\n",
      "Cbf1_Glu_1 ftp://ftp.sra.ebi.ac.uk/vol1/fastq/ERR252/003/ERR2529693/ERR2529693.fastq.gz Cbf1G1_S13_L004_R1_001.fastq.gz\n",
      "Cbf1_Glu_2 ftp://ftp.sra.ebi.ac.uk/vol1/fastq/ERR252/004/ERR2529694/ERR2529694.fastq.gz Cbf1G2_S2_L001_R1_001.fastq.gz\n",
      "Cbf1_Glu_2 ftp://ftp.sra.ebi.ac.uk/vol1/fastq/ERR252/005/ERR2529695/ERR2529695.fastq.gz Cbf1G2_S2_L002_R1_001.fastq.gz\n",
      "Cbf1_Glu_2 ftp://ftp.sra.ebi.ac.uk/vol1/fastq/ERR252/006/ERR2529696/ERR2529696.fastq.gz Cbf1G2_S2_L003_R1_001.fastq.gz\n",
      "Cbf1_Glu_2 ftp://ftp.sra.ebi.ac.uk/vol1/fastq/ERR252/007/ERR2529697/ERR2529697.fastq.gz Cbf1G2_S2_L004_R1_001.fastq.gz\n",
      "Tye7_Glu_1 ftp://ftp.sra.ebi.ac.uk/vol1/fastq/ERR252/004/ERR2529814/ERR2529814.fastq.gz Tye7G1_S7_L001_R1_001.fastq.gz\n",
      "Tye7_Glu_1 ftp://ftp.sra.ebi.ac.uk/vol1/fastq/ERR252/005/ERR2529815/ERR2529815.fastq.gz Tye7G1_S7_L002_R1_001.fastq.gz\n",
      "Tye7_Glu_1 ftp://ftp.sra.ebi.ac.uk/vol1/fastq/ERR252/006/ERR2529816/ERR2529816.fastq.gz Tye7G1_S7_L003_R1_001.fastq.gz\n",
      "Tye7_Glu_1 ftp://ftp.sra.ebi.ac.uk/vol1/fastq/ERR252/007/ERR2529817/ERR2529817.fastq.gz Tye7G1_S7_L004_R1_001.fastq.gz\n",
      "Tye7_Glu_2 ftp://ftp.sra.ebi.ac.uk/vol1/fastq/ERR252/008/ERR2529818/ERR2529818.fastq.gz Tye7G2_S8_L001_R1_001.fastq.gz\n",
      "Tye7_Glu_2 ftp://ftp.sra.ebi.ac.uk/vol1/fastq/ERR252/009/ERR2529819/ERR2529819.fastq.gz Tye7G2_S8_L002_R1_001.fastq.gz\n",
      "Tye7_Glu_2 ftp://ftp.sra.ebi.ac.uk/vol1/fastq/ERR252/000/ERR2529820/ERR2529820.fastq.gz Tye7G2_S8_L003_R1_001.fastq.gz\n",
      "Tye7_Glu_2 ftp://ftp.sra.ebi.ac.uk/vol1/fastq/ERR252/001/ERR2529821/ERR2529821.fastq.gz Tye7G2_S8_L004_R1_001.fastq.gz\n"
     ]
    }
   ],
   "source": [
    "with open('data/experimental/chipexo_conditions/E-MTAB-6673.sdrf.txt','r') as tsv:\n",
    "    for line in tsv:\n",
    "        tokens = line.strip().split('\\t')\n",
    "        if \"Cbf1\" in tokens[0] or \"Tye7\" in tokens[0]:\n",
    "            print(tokens[0].replace(\" \", \"_\"), tokens[-3], tokens[-5])\n",
    "            Path(\"/oak/stanford/groups/akundaje/amr1/pho4/\"+tokens[0].replace(\" \", \"_\")).mkdir(parents=True, exist_ok=True)\n",
    "            cmd = ['wget', tokens[-3], '-O',\n",
    "                   \"/oak/stanford/groups/akundaje/amr1/pho4/\"+tokens[0].replace(\" \", \"_\")+\"/\"+tokens[-5]]\n",
    "            subprocess.Popen(cmd).wait()"
   ]
  },
  {
   "cell_type": "code",
   "execution_count": 3,
   "metadata": {},
   "outputs": [
    {
     "name": "stdout",
     "output_type": "stream",
     "text": [
      "Source Name\tComment[ENA_SAMPLE]\tComment[BioSD_SAMPLE]\tCharacteristics[organism]\tCharacteristics[strain]\tCharacteristics[growth condition]\tCharacteristics[genotype]\tMaterial Type\tProtocol REF\tProtocol REF\tProtocol REF\tProtocol REF\tProtocol REF\tExtract Name\tComment[LIBRARY_LAYOUT]\tComment[LIBRARY_SELECTION]\tComment[LIBRARY_SOURCE]\tComment[LIBRARY_STRAND]\tComment[LIBRARY_STRATEGY]\tProtocol REF\tPerformer\tAssay Name\tComment[technical replicate group]\tTechnology Type\tComment[ENA_EXPERIMENT]\tScan Name\tComment[SUBMITTED_FILE_NAME]\tComment[ENA_RUN]\tComment[FASTQ_URI]\tFactor Value[environmental stress]\tFactor Value[genotype]\n",
      "Cat8 Ana 1\tERS2411191\tSAMEA4590472\tSaccharomyces cerevisiae\tCEN.PK-113-5D KiURA3\tsynthetic media in chemostat\tCAT8-TAP\twhole organism\tP-MTAB-73878\tP-MTAB-73882\tP-MTAB-73883\tP-MTAB-73879\tP-MTAB-73880\tCat8 Ana 1\tSINGLE\tChIP\tGENOMIC\tnot applicable\tChIP-Seq\tP-MTAB-73881\tDTU\tCat8A1_S5_L001\tgroup 1\tsequencing assay\tERX2548083\tCat8A1_S5_L001_R1_001.fastq.gz\tCat8A1_S5_L001_R1_001.fastq.gz\tERR2529246\tftp://ftp.sra.ebi.ac.uk/vol1/fastq/ERR252/006/ERR2529246/ERR2529246.fastq.gz\tanaerobic conditions; low glucose\tCAT8-TAP\n",
      "Cat8 Ana 1\tERS2411191\tSAMEA4590472\tSaccharomyces cerevisiae\tCEN.PK-113-5D KiURA3\tsynthetic media in chemostat\tCAT8-TAP\twhole organism\tP-MTAB-73878\tP-MTAB-73882\tP-MTAB-73883\tP-MTAB-73879\tP-MTAB-73880\tCat8 Ana 1\tSINGLE\tChIP\tGENOMIC\tnot applicable\tChIP-Seq\tP-MTAB-73881\tDTU\tCat8A1_S5_L002\tgroup 1\tsequencing assay\tERX2548083\tCat8A1_S5_L002_R1_001.fastq.gz\tCat8A1_S5_L002_R1_001.fastq.gz\tERR2529247\tftp://ftp.sra.ebi.ac.uk/vol1/fastq/ERR252/007/ERR2529247/ERR2529247.fastq.gz\tanaerobic conditions; low glucose\tCAT8-TAP\n"
     ]
    }
   ],
   "source": [
    "!head -n3 ddata/experimental/chipexo_conditions/itions/E-MTAB-6673.sdrf.txt"
   ]
  },
  {
   "cell_type": "code",
   "execution_count": 4,
   "metadata": {},
   "outputs": [
    {
     "name": "stdout",
     "output_type": "stream",
     "text": [
      "Cbf1_Ana_1\t\t  Cbf1_Glu_2\t\t       Tye7_Ana_1\n",
      "Cbf1_Ana_2\t\t  Cbf1_Nit_1\t\t       Tye7_Ana_2\n",
      "Cbf1_ChIP-exo_replicate1  Cbf1_Nit_2\t\t       Tye7_Eth_1\n",
      "Cbf1_ChIP-exo_replicate2  Cbf1_PB-exo_1uM_replicate1   Tye7_Eth_2\n",
      "Cbf1_ChIP-exo_replicate3  Cbf1_PB-exo_1uM_replicate2   Tye7_Glu_1\n",
      "Cbf1_ChIP-exo_replicate4  NoAb_ChIP-exo_replicate1     Tye7_Glu_2\n",
      "Cbf1_ChIP-exo_replicate5  NoAb_ChIP-exo_replicate2     Tye7_Nit_1\n",
      "Cbf1_Eth_1\t\t  NoAb_PB-exo_replicate1       Tye7_Nit_2\n",
      "Cbf1_Eth_2\t\t  Pho4_PB-exo_50nM_replicate1\n",
      "Cbf1_Glu_1\t\t  Pho4_PB-exo_50nM_replicate2\n"
     ]
    }
   ],
   "source": [
    "!ls /oak/stanford/groups/akundaje/amr1/pho4/"
   ]
  },
  {
   "cell_type": "markdown",
   "metadata": {},
   "source": [
    "Combining the data across lanes"
   ]
  },
  {
   "cell_type": "code",
   "execution_count": 1,
   "metadata": {},
   "outputs": [],
   "source": [
    "%%bash\n",
    "for filename in /oak/stanford/groups/akundaje/amr1/pho4/*; do\n",
    "    if [[ $filename != *\"replicate\"* ]]; then\n",
    "        zcat $filename/*L001_R1_001.fastq.gz $filename/*L002_R1_001.fastq.gz $filename/*L003_R1_001.fastq.gz $filename/*L004_R1_001.fastq.gz | gzip -c > $filename/sample_R1_001.fastq.gz\n",
    "        rm $filename/*L00*.fastq.gz\n",
    "    fi\n",
    "done"
   ]
  },
  {
   "cell_type": "markdown",
   "metadata": {},
   "source": [
    "Converting TSV peak files to beds"
   ]
  },
  {
   "cell_type": "code",
   "execution_count": 2,
   "metadata": {},
   "outputs": [],
   "source": [
    "chrms = [\"chrI\",\"chrII\",\"chrIII\",\"chrIV\",\"chrV\",\"chrVI\",\"chrVII\",\"chrVIII\",\n",
    "         \"chrIX\",\"chrX\",\"chrXI\",\"chrXII\",\"chrXIII\",\"chrXIV\",\"chrXV\",\"chrXVI\",\"chrM\"]"
   ]
  },
  {
   "cell_type": "code",
   "execution_count": 3,
   "metadata": {},
   "outputs": [
    {
     "name": "stdout",
     "output_type": "stream",
     "text": [
      "Chr\tPos\tGeneSys\tGeneCom\tNit\tEth\tOxy\tGlu\tMotif\n",
      "12\t213697\tYLR044C\tPDC1\t5.80933852140078\t609.87145557656\t4.67816091954023\t155.722222222222\t--------\n",
      "7\t1026837\tYGR254W\tENO1\t20.3368700265252\t416.356470588235\t24.6666666666667\t257.121301775148\t--------\n",
      "8\t451338\tYHR174W\tENO2\t4.2962962962963\t464.358181818182\t14.3670886075949\t133.173553719008\t--------\n",
      "11\t333871\tYKL060C\tFBA1\t14.2426470588235\t179.040780141844\t80.9401709401709\t289.175324675325\t--------\n",
      "11\t333833\tYKL060C\tFBA1\t4.48073394495413\t336.733156028369\t0.254237288135593\t216.062770562771\tCATGCTTT\n",
      "3\t142574\tYCR011C\tADP1\t10.6687631027254\t257.796261682243\t33.4561403508772\t254.482213438735\t--------\n",
      "3\t142574\tYCR012W\tPGK1\t10.6687631027254\t257.796261682243\t33.4561403508772\t254.482213438735\t--------\n",
      "10\t444994\tYJR009C\tTDH2\t14.1344086021505\t382.097690941385\t3.20212765957447\t140.719230769231\t--------\n",
      "4\t542959\tYDR050C\tTPI1\t0\t322.627383015598\t5.98837209302326\t158.890151515152\t--------\n"
     ]
    }
   ],
   "source": [
    "!head data/experimental/limited_conditions/GEMout_Tye7.tsv"
   ]
  },
  {
   "cell_type": "code",
   "execution_count": 4,
   "metadata": {},
   "outputs": [],
   "source": [
    "firstLine = True\n",
    "tye7_out = open(\"data/experimental/limited_conditions/unsorted.GEMout_Tye7.bed\", \"a\")\n",
    "with open(\"data/experimental/limited_conditions/GEMout_Tye7.tsv\") as inp:\n",
    "    for line in inp:\n",
    "        if firstLine:\n",
    "            firstLine = False\n",
    "            continue\n",
    "        chrm = chrms[int(line.strip().split('\\t')[0])-1]\n",
    "        pos = int(line.strip().split('\\t')[1])\n",
    "        tye7_out.write(str(chrm)+\"\\t\"+str(pos)+\"\\t\"+str(pos+1)+\"\\t.\\n\")\n",
    "tye7_out.close()"
   ]
  },
  {
   "cell_type": "code",
   "execution_count": 5,
   "metadata": {},
   "outputs": [],
   "source": [
    "!sort -V -k1,1 -k2,2 data/experimental/limited_conditions/unsorted.GEMout_Tye7.bed | uniq > data/experimental/limited_conditions/GEMout_Tye7.bed"
   ]
  },
  {
   "cell_type": "code",
   "execution_count": 6,
   "metadata": {},
   "outputs": [
    {
     "name": "stdout",
     "output_type": "stream",
     "text": [
      "chrI\t34672\t34673\t.\n",
      "chrI\t57567\t57568\t.\n",
      "chrI\t60486\t60487\t.\n",
      "chrI\t60696\t60697\t.\n",
      "chrI\t173132\t173133\t.\n",
      "chrI\t173200\t173201\t.\n",
      "chrII\t63818\t63819\t.\n",
      "chrII\t136360\t136361\t.\n",
      "chrII\t165393\t165394\t.\n",
      "chrII\t192125\t192126\t.\n"
     ]
    }
   ],
   "source": [
    "!head data/experimental/limited_conditions/GEMout_Tye7.bed"
   ]
  },
  {
   "cell_type": "code",
   "execution_count": 7,
   "metadata": {},
   "outputs": [
    {
     "name": "stdout",
     "output_type": "stream",
     "text": [
      "Chr\tPos\tGeneSys\tGeneCom\tNit\tEth\tOxy\tGlu\tMotif\n",
      "15\t511323\tYOR098C\tNUP1\t288.643203883495\t181.495108464483\t384.64623655914\t233.852812271731\t--------\n",
      "15\t511323\tYOR099W\tKTR1\t288.643203883495\t181.495108464483\t384.64623655914\t233.852812271731\t--------\n",
      "2\t662354\tYBR222C\tPCS60\t279.34479717813\t223.395823665893\t314.670498084291\t247.054315789474\tGGTCACGTGTAA\n",
      "4\t1448334\tYDR510W\tSMT3\t189.135478408129\t218.788684097728\t214.61717791411\t234.754292254865\tATGTCACGTTTT\n",
      "12\t115900\tYLL010C\tPSR1\t222.645751633987\t145.592556317336\t262.753468516542\t186.900243309002\tTGGTCACGTGGTC\n",
      "12\t115900\tYLL009C\tCOX17\t222.645751633987\t145.592556317336\t262.753468516542\t186.900243309002\tTGGTCACGTGGTC\n",
      "11\t414238\tYKL016C\tATP7\t201.133027522936\t124.04757185332\t259.53865652725\t159.473122866894\tTAGTCACGTGGTC\n",
      "11\t414238\tYKL015W\tPUT3\t201.133027522936\t124.04757185332\t259.53865652725\t159.473122866894\tTAGTCACGTGGTC\n",
      "14\t549171\tYNL037C\tIDH1\t118.470372460497\t154.814889918888\t242.974486180014\t187.724268415742\tCTATCACGTGATA\n"
     ]
    }
   ],
   "source": [
    "!head data/experimental/limited_conditions/GEMout_Cbf1.tsv"
   ]
  },
  {
   "cell_type": "code",
   "execution_count": 8,
   "metadata": {},
   "outputs": [],
   "source": [
    "firstLine = True\n",
    "cbf1_out = open(\"data/experimental/limited_conditions/unsorted.GEMout_Cbf1.bed\", \"a\")\n",
    "with open(\"data/experimental/limited_conditions/GEMout_Cbf1.tsv\") as inp:\n",
    "    for line in inp:\n",
    "        if firstLine:\n",
    "            firstLine = False\n",
    "            continue\n",
    "        chrm = chrms[int(line.strip().split('\\t')[0])-1]\n",
    "        pos = int(line.strip().split('\\t')[1])\n",
    "        cbf1_out.write(str(chrm)+\"\\t\"+str(pos)+\"\\t\"+str(pos+1)+\"\\t.\\n\")\n",
    "cbf1_out.close()"
   ]
  },
  {
   "cell_type": "code",
   "execution_count": 9,
   "metadata": {},
   "outputs": [],
   "source": [
    "!sort -V -k1,1 -k2,2 data/experimental/limited_conditions/unsorted.GEMout_Cbf1.bed | uniq > data/experimental/limited_conditions/GEMout_Cbf1.bed"
   ]
  },
  {
   "cell_type": "code",
   "execution_count": 10,
   "metadata": {},
   "outputs": [
    {
     "name": "stdout",
     "output_type": "stream",
     "text": [
      "chrI\t20977\t20978\t.\n",
      "chrI\t21067\t21068\t.\n",
      "chrI\t24701\t24702\t.\n",
      "chrI\t34672\t34673\t.\n",
      "chrI\t34751\t34752\t.\n",
      "chrI\t34979\t34980\t.\n",
      "chrI\t50814\t50815\t.\n",
      "chrI\t60495\t60496\t.\n",
      "chrI\t89005\t89006\t.\n",
      "chrI\t89105\t89106\t.\n"
     ]
    }
   ],
   "source": [
    "!head data/experimental/limited_conditions/GEMout_Cbf1.bed"
   ]
  }
 ],
 "metadata": {
  "kernelspec": {
   "display_name": "Python [conda env:basepair]",
   "language": "python",
   "name": "conda-env-basepair-py"
  },
  "language_info": {
   "codemirror_mode": {
    "name": "ipython",
    "version": 3
   },
   "file_extension": ".py",
   "mimetype": "text/x-python",
   "name": "python",
   "nbconvert_exporter": "python",
   "pygments_lexer": "ipython3",
   "version": "3.6.8"
  }
 },
 "nbformat": 4,
 "nbformat_minor": 4
}
