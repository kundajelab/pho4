{
 "cells": [
  {
   "cell_type": "code",
   "execution_count": 1,
   "metadata": {},
   "outputs": [],
   "source": [
    "import math\n",
    "import numpy as np\n",
    "import matplotlib.pyplot as plt\n",
    "%matplotlib inline\n",
    "\n",
    "key = 'AR_R4'\n",
    "table = 'kmerTableDivide.csv'"
   ]
  },
  {
   "cell_type": "code",
   "execution_count": 2,
   "metadata": {},
   "outputs": [],
   "source": [
    "seqToAff = {}\n",
    "allSeqs = []\n",
    "allAffs = []\n",
    "firstLine = True\n",
    "with open(\"results/\"+key+\"/\"+table) as inp:\n",
    "    for line in inp:\n",
    "        if firstLine:\n",
    "            firstLine = False\n",
    "            continue\n",
    "        row = line.strip().split(',')\n",
    "        if 'symmetric' in table and int(row[2]) == 0: continue\n",
    "        seq = row[1][1:-1].upper()\n",
    "        aff = float(row[-2])\n",
    "        allSeqs.append(seq)\n",
    "        allAffs.append(aff)\n",
    "        seqToAff[seq] = aff\n",
    "allSeqs = np.array(allSeqs)\n",
    "allAffs = np.array(allAffs)"
   ]
  },
  {
   "cell_type": "code",
   "execution_count": 6,
   "metadata": {},
   "outputs": [
    {
     "data": {
      "image/png": "[encoded data removed]",
      "text/plain": [
       "<Figure size 432x288 with 1 Axes>"
      ]
     },
     "metadata": {},
     "output_type": "display_data"
    }
   ],
   "source": [
    "plt.hist(allAffs, density=False, bins=11)\n",
    "plt.ylabel('Counts')\n",
    "plt.xlabel('Affinity')\n",
    "plt.xlim((0,1.01))\n",
    "plt.show()"
   ]
  },
  {
   "cell_type": "code",
   "execution_count": 7,
   "metadata": {},
   "outputs": [],
   "source": [
    "def sampleFromBins(allAffs, allSeqs):\n",
    "    bins = np.linspace(np.min(allAffs), 1.001, 11)\n",
    "    digitized = np.digitize(allAffs, bins)\n",
    "    num_seqs = 1000\n",
    "    sampled_keys = []\n",
    "    curr_bin = 10\n",
    "    curr_size = math.ceil(num_seqs/curr_bin)\n",
    "    while num_seqs > 0 and curr_bin > 0:\n",
    "        print(num_seqs, curr_bin, curr_size)\n",
    "        large_basket = allSeqs[digitized == curr_bin]\n",
    "        sample_size = min(curr_size, len(large_basket))\n",
    "        sampled_keys.append(np.random.choice(large_basket, sample_size, replace=False))\n",
    "        num_seqs -= sample_size\n",
    "        curr_bin -= 1\n",
    "        if curr_bin != 0: curr_size = math.ceil(num_seqs/curr_bin)\n",
    "    sampled_keys = np.concatenate(np.array(sampled_keys))\n",
    "    return sampled_keys"
   ]
  },
  {
   "cell_type": "code",
   "execution_count": 8,
   "metadata": {},
   "outputs": [
    {
     "name": "stdout",
     "output_type": "stream",
     "text": [
      "1000 10 100\n",
      "989 9 110\n",
      "969 8 122\n",
      "847 7 121\n",
      "726 6 121\n",
      "605 5 121\n",
      "484 4 121\n",
      "363 3 121\n",
      "242 2 121\n",
      "121 1 121\n"
     ]
    },
    {
     "data": {
      "image/png": "[encoded data removed]",
      "text/plain": [
       "<Figure size 432x288 with 1 Axes>"
      ]
     },
     "metadata": {},
     "output_type": "display_data"
    }
   ],
   "source": [
    "keys = sampleFromBins(allAffs, allSeqs)\n",
    "affs = []\n",
    "for seq in keys: affs.append(seqToAff[seq])\n",
    "plt.hist(affs, density=False, bins=11)\n",
    "plt.ylabel('Counts')\n",
    "plt.xlabel('Affinity')\n",
    "plt.xlim((0,1.01))\n",
    "plt.show()"
   ]
  },
  {
   "cell_type": "code",
   "execution_count": 9,
   "metadata": {},
   "outputs": [
    {
     "data": {
      "text/plain": [
       "(1000,)"
      ]
     },
     "execution_count": 9,
     "metadata": {},
     "output_type": "execute_result"
    }
   ],
   "source": [
    "keys.shape"
   ]
  }
 ],
 "metadata": {
  "kernelspec": {
   "display_name": "Python [conda env:basepair]",
   "language": "python",
   "name": "conda-env-basepair-py"
  },
  "language_info": {
   "codemirror_mode": {
    "name": "ipython",
    "version": 3
   },
   "file_extension": ".py",
   "mimetype": "text/x-python",
   "name": "python",
   "nbconvert_exporter": "python",
   "pygments_lexer": "ipython3",
   "version": "3.6.8"
  }
 },
 "nbformat": 4,
 "nbformat_minor": 4
}
