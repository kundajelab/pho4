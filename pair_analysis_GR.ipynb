{
 "cells": [
  {
   "cell_type": "code",
   "execution_count": 1,
   "metadata": {},
   "outputs": [],
   "source": [
    "import numpy as np\n",
    "import json\n",
    "import gzip\n",
    "import codecs\n",
    "import os\n",
    "from matplotlib import pyplot as plt\n",
    "from scipy.stats import spearmanr, pearsonr, gaussian_kde\n",
    "%matplotlib inline"
   ]
  },
  {
   "cell_type": "code",
   "execution_count": 2,
   "metadata": {},
   "outputs": [],
   "source": [
    "fastapath = \"data/genome/hg38/hg38.genome.fa\"\n",
    "GenomeDict={}\n",
    "sequence=''\n",
    "inputdatafile = open(fastapath)\n",
    "for line in inputdatafile:\n",
    "    if line[0]=='>':\n",
    "        if sequence != '':\n",
    "            GenomeDict[chrm] = ''.join(sequence)\n",
    "        chrm = line.strip().split('>')[1]\n",
    "        sequence=[]\n",
    "        Keep=False\n",
    "        continue\n",
    "    else:\n",
    "        sequence.append(line.strip())\n",
    "GenomeDict[chrm] = ''.join(sequence)"
   ]
  },
  {
   "cell_type": "code",
   "execution_count": 3,
   "metadata": {},
   "outputs": [],
   "source": [
    "def checkMatch(seq, match, pos, tol):\n",
    "    for idx, base in enumerate(match):\n",
    "        if base == 'N' or seq[pos+idx] == base:\n",
    "            continue\n",
    "        if tol <= 0: return False\n",
    "        else: tol -= 1\n",
    "    return True\n",
    "\n",
    "def findMatches (seq, match, pos, tol=1):\n",
    "    for loc in range(pos, len(seq)-len(match)+1):\n",
    "        if checkMatch(seq, match, loc, tol):\n",
    "            return loc\n",
    "    return -1"
   ]
  },
  {
   "cell_type": "code",
   "execution_count": 4,
   "metadata": {},
   "outputs": [],
   "source": [
    "bed_path = \"data/a5/tseries/2hr/2hr.bed.gz\"\n",
    "matches = {}\n",
    "motif = \"ACANNNTGT\"\n",
    "rev_motif = \"TGTNNNACA\"\n",
    "with gzip.open(bed_path, 'rt') as inp:\n",
    "    for line in inp:\n",
    "        chrm = line.strip().split('\\t')[0]\n",
    "        if chrm not in matches: matches[chrm] = []\n",
    "        start = int(line.strip().split('\\t')[1])\n",
    "        summit = start + int(line.strip().split('\\t')[-1])\n",
    "        end = int(line.strip().split('\\t')[2])\n",
    "        seq = GenomeDict[chrm][start:end].upper()\n",
    "        pos = -2\n",
    "        while (pos != -1):\n",
    "            pos = findMatches (seq, motif, pos+2, tol=1)\n",
    "            if pos != -1: matches[chrm].append((start+pos, summit))\n",
    "        pos = -2\n",
    "        while (pos != -1):\n",
    "            pos = findMatches (seq, rev_motif, pos+2, tol=1)\n",
    "            if pos != -1: matches[chrm].append((start+pos, summit))"
   ]
  },
  {
   "cell_type": "code",
   "execution_count": 5,
   "metadata": {},
   "outputs": [],
   "source": [
    "distances = []\n",
    "distToSummitLocs = {}\n",
    "for chrm in matches:\n",
    "    for idx in range(0, len(matches[chrm])):\n",
    "        pos1, summit1 = matches[chrm][idx]\n",
    "        for idy in range(idx+1, len(matches[chrm])):\n",
    "            pos2, summit2 = matches[chrm][idy]\n",
    "            dist = abs(pos1-pos2)\n",
    "            if dist >= len(motif) and dist <= 120:\n",
    "                distances.append(dist)\n",
    "            else: continue\n",
    "            if dist not in distToSummitLocs:\n",
    "                distToSummitLocs[dist] = []\n",
    "            distToSummitLocs[dist].append((chrm, summit1, summit2))"
   ]
  },
  {
   "cell_type": "code",
   "execution_count": 6,
   "metadata": {},
   "outputs": [
    {
     "data": {
      "text/plain": [
       "Text(0.5, 1.0, 'Pair distances in genome')"
      ]
     },
     "execution_count": 6,
     "metadata": {},
     "output_type": "execute_result"
    },
    {
     "data": {
      "image/png": "[encoded data removed]",
      "text/plain": [
       "<Figure size 432x288 with 1 Axes>"
      ]
     },
     "metadata": {},
     "output_type": "display_data"
    }
   ],
   "source": [
    "import scipy.stats as st\n",
    "plt.hist(distances, density=True, bins=30, label=\"Data\")\n",
    "mn, mx = plt.xlim()\n",
    "plt.xlim(mn, mx)\n",
    "kde_xs = np.linspace(mn, mx, 301)\n",
    "kde = st.gaussian_kde(distances)\n",
    "plt.plot(kde_xs, kde.pdf(kde_xs), label=\"PDF\")\n",
    "plt.legend(loc=\"upper right\")\n",
    "plt.ylabel('Binding Probability')\n",
    "plt.xlabel('Distance (basepairs)')\n",
    "plt.title(\"Pair distances in genome\")"
   ]
  },
  {
   "cell_type": "code",
   "execution_count": 7,
   "metadata": {},
   "outputs": [
    {
     "data": {
      "text/plain": [
       "Text(0.5, 1.0, 'Pair distances in genome')"
      ]
     },
     "execution_count": 7,
     "metadata": {},
     "output_type": "execute_result"
    },
    {
     "data": {
      "image/png": "[encoded data removed]",
      "text/plain": [
       "<Figure size 432x288 with 1 Axes>"
      ]
     },
     "metadata": {},
     "output_type": "display_data"
    }
   ],
   "source": [
    "import scipy.stats as st\n",
    "plt.hist(distances, density=False, bins=30, label=\"Data\")\n",
    "plt.ylabel('Binding Instances')\n",
    "plt.xlabel('Distance (basepairs)')\n",
    "plt.title(\"Pair distances in genome\")"
   ]
  },
  {
   "cell_type": "code",
   "execution_count": 8,
   "metadata": {},
   "outputs": [],
   "source": [
    "import pyBigWig\n",
    "posbw = pyBigWig.open(\"data/a5/tseries/2hr/pos_strand.bw\")\n",
    "negbw = pyBigWig.open(\"data/a5/tseries/2hr/neg_strand.bw\")"
   ]
  },
  {
   "cell_type": "code",
   "execution_count": 9,
   "metadata": {},
   "outputs": [],
   "source": [
    "distToSummitVals = {}\n",
    "for dist in distToSummitLocs:\n",
    "    if dist > 50: continue\n",
    "    distToSummitVals[dist] = []\n",
    "    for chrm, summit1, summit2 in distToSummitLocs[dist]:\n",
    "        posvals = np.array(posbw.values(chrm, summit1-2, summit1+2))\n",
    "        where_are_NaNs = np.isnan(posvals)\n",
    "        posvals[where_are_NaNs] = 0.0\n",
    "        summitValPos = max(posvals)\n",
    "        negvals = np.array(negbw.values(chrm, summit1-2, summit1+2))\n",
    "        where_are_NaNs = np.isnan(negvals)\n",
    "        negvals[where_are_NaNs] = 0.0\n",
    "        summitValNeg = max(np.abs(negvals))\n",
    "        summit1Val = max(summitValNeg, summitValPos)\n",
    "\n",
    "        posvals = np.array(posbw.values(chrm, summit2-2, summit2+2))\n",
    "        where_are_NaNs = np.isnan(posvals)\n",
    "        posvals[where_are_NaNs] = 0.0\n",
    "        summitValPos = max(posvals)\n",
    "        negvals = np.array(negbw.values(chrm, summit2-2, summit2+2))\n",
    "        where_are_NaNs = np.isnan(negvals)\n",
    "        negvals[where_are_NaNs] = 0.0\n",
    "        summitValNeg = max(np.abs(negvals))\n",
    "        summit2Val = max(summitValNeg, summitValPos)\n",
    "\n",
    "        distToSummitVals[dist].append((summit1Val+summit2Val)/2.0)"
   ]
  },
  {
   "cell_type": "code",
   "execution_count": 10,
   "metadata": {},
   "outputs": [],
   "source": [
    "origX = []\n",
    "for dist in distToSummitVals:\n",
    "    origX.append(dist)\n",
    "origX.sort()"
   ]
  },
  {
   "cell_type": "code",
   "execution_count": 11,
   "metadata": {},
   "outputs": [],
   "source": [
    "bucket = 2\n",
    "xvals = []\n",
    "summitVals = {}\n",
    "for idx in range(0, len(origX)-bucket, bucket):\n",
    "    xvals.append(origX[idx])\n",
    "    summitVals[origX[idx]] = distToSummitVals[origX[idx]]\n",
    "    for idy in range(1, bucket):\n",
    "        summitVals[origX[idx]] += distToSummitVals[origX[idx]+idy]"
   ]
  },
  {
   "cell_type": "code",
   "execution_count": 12,
   "metadata": {},
   "outputs": [
    {
     "data": {
      "text/plain": [
       "Text(0.5, 1.0, 'summit counts in genome')"
      ]
     },
     "execution_count": 12,
     "metadata": {},
     "output_type": "execute_result"
    },
    {
     "data": {
      "image/png": "[encoded data removed]",
      "text/plain": [
       "<Figure size 432x288 with 1 Axes>"
      ]
     },
     "metadata": {},
     "output_type": "display_data"
    }
   ],
   "source": [
    "yvals = []\n",
    "for dist in xvals:\n",
    "    yvals.append(np.mean(summitVals[dist]))\n",
    "for dist in xvals:\n",
    "    plt.scatter([dist] * len(distToSummitVals[dist]), distToSummitVals[dist])\n",
    "plt.plot(xvals, yvals, color='red', linewidth=7.0)\n",
    "plt.ylabel('summit counts')\n",
    "plt.xlabel('Distance (basepairs)')\n",
    "plt.title(\"summit counts in genome\")"
   ]
  }
 ],
 "metadata": {
  "kernelspec": {
   "display_name": "Python [conda env:basepair]",
   "language": "python",
   "name": "conda-env-basepair-py"
  },
  "language_info": {
   "codemirror_mode": {
    "name": "ipython",
    "version": 3
   },
   "file_extension": ".py",
   "mimetype": "text/x-python",
   "name": "python",
   "nbconvert_exporter": "python",
   "pygments_lexer": "ipython3",
   "version": "3.6.8"
  }
 },
 "nbformat": 4,
 "nbformat_minor": 4
}
