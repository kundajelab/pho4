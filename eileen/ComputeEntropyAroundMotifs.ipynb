{
  "nbformat": 4,
  "nbformat_minor": 0,
  "metadata": {
    "colab": {
      "name": "ComputeEntropyAroundMotifs.ipynb",
      "version": "0.3.2",
      "provenance": [],
      "collapsed_sections": [],
      "include_colab_link": true
    },
    "kernelspec": {
      "name": "python3",
      "display_name": "Python 3"
    }
  },
  "cells": [
    {
      "cell_type": "markdown",
      "metadata": {
        "id": "view-in-github",
        "colab_type": "text"
      },
      "source": [
        "<a href=\"https://colab.research.google.com/github/kundajelab/pho4/blob/master/ComputeEntropyAroundMotifs.ipynb\" target=\"_parent\"><img src=\"https://colab.research.google.com/assets/colab-badge.svg\" alt=\"Open In Colab\"/></a>"
      ]
    },
    {
      "cell_type": "code",
      "metadata": {
        "id": "vPrnEvkyNZw7",
        "colab_type": "code",
        "colab": {}
      },
      "source": [
        "# get sacCer3 genome\n",
        "![[ -f sacCer3.2bit ]] || wget http://hgdownload.cse.ucsc.edu/goldenPath/sacCer3/bigZips/sacCer3.2bit -O sacCer3.2bit\n",
        "# get motif locations\n",
        "![[ -f 1000_around_pho4.bed.gz ]] || wget http://mitra.stanford.edu/kundaje/eileenli/1000_around_pho4.bed.gz -O 1000_around_pho4.bed.gz"
      ],
      "execution_count": 0,
      "outputs": []
    },
    {
      "cell_type": "code",
      "metadata": {
        "id": "p8UtruF4Reqo",
        "colab_type": "code",
        "outputId": "2ad52c07-e35a-491e-cd56-466605916b49",
        "colab": {
          "base_uri": "https://localhost:8080/",
          "height": 224
        }
      },
      "source": [
        "![[ -f sacCer3.chrom.sizes ]] || wget http://hgdownload.cse.ucsc.edu/goldenPath/sacCer3/bigZips/sacCer3.chrom.sizes -O sacCer3.chrom.sizes"
      ],
      "execution_count": 0,
      "outputs": [
        {
          "output_type": "stream",
          "text": [
            "--2019-07-17 23:30:37--  http://hgdownload.cse.ucsc.edu/goldenPath/sacCer3/bigZips/sacCer3.chrom.sizes\n",
            "Resolving hgdownload.cse.ucsc.edu (hgdownload.cse.ucsc.edu)... 128.114.119.163\n",
            "Connecting to hgdownload.cse.ucsc.edu (hgdownload.cse.ucsc.edu)|128.114.119.163|:80... connected.\n",
            "HTTP request sent, awaiting response... 200 OK\n",
            "Length: 229 [text/plain]\n",
            "Saving to: ‘sacCer3.chrom.sizes’\n",
            "\n",
            "sacCer3.chrom.sizes 100%[===================>]     229  --.-KB/s    in 0s      \n",
            "\n",
            "2019-07-17 23:30:38 (38.5 MB/s) - ‘sacCer3.chrom.sizes’ saved [229/229]\n",
            "\n"
          ],
          "name": "stdout"
        }
      ]
    },
    {
      "cell_type": "code",
      "metadata": {
        "id": "FMYTDRwoRjt-",
        "colab_type": "code",
        "outputId": "92486503-c43f-446c-e196-048297530ae2",
        "colab": {
          "base_uri": "https://localhost:8080/",
          "height": 204
        }
      },
      "source": [
        "![[ -f twoBitToFa ]] || wget http://hgdownload.soe.ucsc.edu/admin/exe/linux.x86_64/twoBitToFa -O twoBitToFa\n",
        "!chmod a+x twoBitToFa"
      ],
      "execution_count": 0,
      "outputs": [
        {
          "output_type": "stream",
          "text": [
            "--2019-07-17 23:31:18--  http://hgdownload.soe.ucsc.edu/admin/exe/linux.x86_64/twoBitToFa\n",
            "Resolving hgdownload.soe.ucsc.edu (hgdownload.soe.ucsc.edu)... 128.114.119.163\n",
            "Connecting to hgdownload.soe.ucsc.edu (hgdownload.soe.ucsc.edu)|128.114.119.163|:80... connected.\n",
            "HTTP request sent, awaiting response... 200 OK\n",
            "Length: 5886992 (5.6M) [text/plain]\n",
            "Saving to: ‘twoBitToFa’\n",
            "\n",
            "twoBitToFa          100%[===================>]   5.61M  1.53MB/s    in 3.7s    \n",
            "\n",
            "2019-07-17 23:31:22 (1.53 MB/s) - ‘twoBitToFa’ saved [5886992/5886992]\n",
            "\n"
          ],
          "name": "stdout"
        }
      ]
    },
    {
      "cell_type": "code",
      "metadata": {
        "id": "I4PxAGJ2R04O",
        "colab_type": "code",
        "colab": {}
      },
      "source": [
        "![[ -f sacCer3.genome.fa ]] || ./twoBitToFa sacCer3.2bit sacCer3.genome.fa"
      ],
      "execution_count": 0,
      "outputs": []
    },
    {
      "cell_type": "code",
      "metadata": {
        "id": "v463Nw0tR6UV",
        "colab_type": "code",
        "outputId": "cb3c5930-eec5-4b69-babb-759f9e866b0b",
        "colab": {
          "base_uri": "https://localhost:8080/",
          "height": 88
        }
      },
      "source": [
        "!pip install pyfaidx"
      ],
      "execution_count": 0,
      "outputs": [
        {
          "output_type": "stream",
          "text": [
            "Requirement already satisfied: pyfaidx in /usr/local/lib/python3.6/dist-packages (0.5.5.2)\n",
            "Requirement already satisfied: setuptools>=0.7 in /usr/local/lib/python3.6/dist-packages (from pyfaidx) (41.0.1)\n",
            "Requirement already satisfied: six in /usr/local/lib/python3.6/dist-packages (from pyfaidx) (1.12.0)\n"
          ],
          "name": "stdout"
        }
      ]
    },
    {
      "cell_type": "code",
      "metadata": {
        "id": "2_onWBBCR-T9",
        "colab_type": "code",
        "colab": {}
      },
      "source": [
        "def readChromSizes(chrom_sizes_file):\n",
        "        chrom_size_list = []\n",
        "        for line in open(chrom_sizes_file):\n",
        "            (chrom, size) =\\\n",
        "              line.rstrip().split(\"\\t\")[0:2]\n",
        "            chrom_size_list.append((chrom,int(size)))\n",
        "        return chrom_size_list"
      ],
      "execution_count": 0,
      "outputs": []
    },
    {
      "cell_type": "code",
      "metadata": {
        "id": "Bp_8FD-0SApo",
        "colab_type": "code",
        "colab": {}
      },
      "source": [
        "chrms = [\"chrI\",\"chrII\",\"chrIII\",\"chrIV\",\"chrV\",\"chrVI\",\"chrVII\",\"chrVIII\",\n",
        "               \"chrIX\",\"chrX\",\"chrXI\",\"chrXII\",\"chrXIII\",\"chrXIV\",\"chrXV\",\"chrXVI\",\"chrM\"]"
      ],
      "execution_count": 0,
      "outputs": []
    },
    {
      "cell_type": "code",
      "metadata": {
        "id": "vC-YPAR4SFZ8",
        "colab_type": "code",
        "colab": {}
      },
      "source": [
        "def customChromSizeSort(c):\n",
        "  return chrms.index(c[0])"
      ],
      "execution_count": 0,
      "outputs": []
    },
    {
      "cell_type": "code",
      "metadata": {
        "id": "Rt6gBLnHSH_E",
        "colab_type": "code",
        "colab": {}
      },
      "source": [
        "from pyfaidx import Fasta\n",
        "genome_object = Fasta(\"sacCer3.genome.fa\")\n",
        "\n",
        "chrom_sizes = readChromSizes(\"sacCer3.chrom.sizes\")\n",
        "chrom_sizes.sort(key=customChromSizeSort)"
      ],
      "execution_count": 0,
      "outputs": []
    },
    {
      "cell_type": "code",
      "metadata": {
        "id": "a5CTzV5USZjU",
        "colab_type": "code",
        "colab": {}
      },
      "source": [
        "num_chroms = len(chrom_sizes)\n",
        "\n",
        "fasta_sequences = []\n",
        "for chrom in chrom_sizes:\n",
        "  chrom_num = chrom[0]\n",
        "  chrom_size = chrom[1]\n",
        "  fasta_sequences.append(genome_object[chrom_num][0:chrom_size].seq)"
      ],
      "execution_count": 0,
      "outputs": []
    },
    {
      "cell_type": "code",
      "metadata": {
        "id": "EuFsaWTNSc79",
        "colab_type": "code",
        "outputId": "fcc2ae81-6128-422d-f226-e47017d9d687",
        "colab": {
          "base_uri": "https://localhost:8080/",
          "height": 54
        }
      },
      "source": [
        "genome_object['chrI'][15697:16697].seq"
      ],
      "execution_count": 0,
      "outputs": [
        {
          "output_type": "execute_result",
          "data": {
            "text/plain": [
              "'ACTGTCTTCTTTTGCTGTAATTCGTGGATTCACGGCCCTCCAGCAACATGGATTGAAAGGTTCTTTAAAGTTTTCAATCCGTAAAGTTCTGAAATGTATTTTAATCATGTCAATAATTTTACTGGTGAGTAGCATTTATGACCAAAAGCGTACTTAAATTAGCAGCAAAAAAATTTTTAATAACGAAACTATAAGGAAAATACGAGGTACTGATTATGAGAGTCCCCGTTTCTCATTTTTGAGACATGATCTGAACAAGGCTGAAAACAGCAATCTTTTTCGATAACTTTTGCAAAAATTTCAAACATTGTTGTTTGAATGCAGCCAATTTTTATAGGGTACAGAGCTTAATGCTTTACATGTGCTTTATTTTCGGTACTTTCCTTAAAGTGTCTACATTATCTCTCAGGACTTGAATGTCTTCGGCTGAATTACTATAAAATCTTGAGTTTTCTCTGAAGTTTAATCCTAAGACAATAGTGGTGAGTGATGTAGTTCACGTGTGTGCCACTGGTAATAATAGAGATAACTATCTCAGTTAAGTTTGAAAAGGTAAAAAATAGTTTAAGTAGTCATTTTTTGCGACGGTCATTCTTCTCTGATGCACGTTCTTTAGACTACCTATAAACACCATTCTTACGGAATTATAATGGAAATAAAACATCAGTACGTGTTGCTGTCGGTGATAGAGGGGTAACAGAACCTTAATTGAAAAATTAGCACAGTGCATAATTTATTAACATGATTGTTTTCTGTGGAAAATAAGAAATTCAGCACCAGTAAAAGACGAGAAATATAGGCACATAAATGCGCTCTTACTCGTATGTTCCAGGATGAAAATGTTTAGGGCATCAAGTATTGCCGAAAGGGCAATATGCTTTAACACCAGAAAATCCACTGTATACTCGTTACGGGTAAACAAAGCAAAACGCAGTGCGTGATAATGTTTCTAAAATCTCTGCACACTGTTGAAATGCGGCTCTGATACTTTAGCCCTTAG'"
            ]
          },
          "metadata": {
            "tags": []
          },
          "execution_count": 17
        }
      ]
    },
    {
      "cell_type": "code",
      "metadata": {
        "id": "OeyFthkZTyZc",
        "colab_type": "code",
        "colab": {}
      },
      "source": [
        "import gzip"
      ],
      "execution_count": 0,
      "outputs": []
    },
    {
      "cell_type": "code",
      "metadata": {
        "id": "RnamR3-5PPcE",
        "colab_type": "code",
        "colab": {}
      },
      "source": [
        "def read_bed_file(bed_file):\n",
        "        coords_list = []\n",
        "        for line in (gzip.open(bed_file) if \".gz\"\n",
        "                     in bed_file else open(bed_file)):\n",
        "            (chrom, start_str, end_str) =\\\n",
        "              line.decode(\"utf-8\").rstrip().split(\"\\t\")[0:3]\n",
        "            coords_list.append((chrom,int(start_str),int(end_str)))\n",
        "        return coords_list"
      ],
      "execution_count": 0,
      "outputs": []
    },
    {
      "cell_type": "code",
      "metadata": {
        "id": "5VtaEQ8ATr4P",
        "colab_type": "code",
        "colab": {}
      },
      "source": [
        "pho4_motifs = read_bed_file(\"1000_around_pho4.bed.gz\")"
      ],
      "execution_count": 0,
      "outputs": []
    },
    {
      "cell_type": "code",
      "metadata": {
        "id": "HGmB-gQhWNB2",
        "colab_type": "code",
        "colab": {}
      },
      "source": [
        "from math import log\n",
        "\n",
        "entropies = []\n",
        "motif_seqs = []\n",
        "for entry in pho4_motifs:\n",
        "  c_num = entry[0]\n",
        "  c_start = entry[1]\n",
        "  c_end = entry[2]\n",
        "  \n",
        "  motif_seq = genome_object[c_num][c_start:c_end].seq\n",
        "  motif_seq_upper = motif_seq.upper()\n",
        "  motif_seqs.append(motif_seq_upper)\n",
        "  a_count = motif_seq_upper.count('A')\n",
        "  c_count = motif_seq_upper.count('C')\n",
        "  g_count = motif_seq_upper.count('G')\n",
        "  t_count = motif_seq_upper.count('T')\n",
        "  \n",
        "  p_a = a_count/1000\n",
        "  p_c = c_count/1000\n",
        "  p_g = g_count/1000\n",
        "  p_t = t_count/1000\n",
        "  \n",
        "  sum_logs = p_a*log(p_a,2) + p_c*log(p_c,2) + p_g*log(p_g,2) + p_t*log(p_t,2)\n",
        "  entropy = -(sum_logs)\n",
        "  entropies.append(entropy)"
      ],
      "execution_count": 0,
      "outputs": []
    },
    {
      "cell_type": "code",
      "metadata": {
        "id": "VquGDU3GZ2eV",
        "colab_type": "code",
        "colab": {}
      },
      "source": [
        "from math import log\n",
        "def get_entropy(motif_seq_upper,window_size):\n",
        "  a_count = motif_seq_upper.count('A')\n",
        "  c_count = motif_seq_upper.count('C')\n",
        "  g_count = motif_seq_upper.count('G')\n",
        "  t_count = motif_seq_upper.count('T')\n",
        "  \n",
        "  p_a = (a_count+1)/window_size\n",
        "  p_c = (c_count+1)/window_size\n",
        "  p_g = (g_count+1)/window_size\n",
        "  p_t = (t_count+1)/window_size\n",
        "  \n",
        "  sum_logs = p_a*log(p_a,2) + p_c*log(p_c,2) + p_g*log(p_g,2) + p_t*log(p_t,2)\n",
        "  entropy = -(sum_logs)\n",
        "  return (entropy,p_a,p_c,p_g,p_t)"
      ],
      "execution_count": 0,
      "outputs": []
    },
    {
      "cell_type": "code",
      "metadata": {
        "id": "j-pj3Mp_ZC6u",
        "colab_type": "code",
        "colab": {}
      },
      "source": [
        "entropy_windows = []\n",
        "window_size = 50\n",
        "a_freq = []\n",
        "c_freq = []\n",
        "g_freq = []\n",
        "t_freq = []\n",
        "\n",
        "for seq in motif_seqs:\n",
        "  entropy_seq_vals = []\n",
        "  a_arr = []\n",
        "  c_arr = []\n",
        "  g_arr = []\n",
        "  t_arr = []\n",
        "  for start_ind in range(len(seq)-window_size):\n",
        "    substring = seq[start_ind:start_ind+50]\n",
        "    entropy_seq_vals.append(get_entropy(substring,50)[0])\n",
        "    a_arr.append(get_entropy(substring,50)[1])\n",
        "    c_arr.append(get_entropy(substring,50)[2])\n",
        "    g_arr.append(get_entropy(substring,50)[3])\n",
        "    t_arr.append(get_entropy(substring,50)[4])\n",
        "  entropy_windows.append(entropy_seq_vals)\n",
        "  a_freq.append(a_arr)\n",
        "  c_freq.append(c_arr)\n",
        "  g_freq.append(g_arr)\n",
        "  t_freq.append(t_arr)"
      ],
      "execution_count": 0,
      "outputs": []
    },
    {
      "cell_type": "code",
      "metadata": {
        "id": "8q7o1lLFdaL_",
        "colab_type": "code",
        "colab": {
          "base_uri": "https://localhost:8080/",
          "height": 34
        },
        "outputId": "b6704e62-95bb-44e3-81f1-b2d70ebd3740"
      },
      "source": [
        "np.array(entropy_windows).shape"
      ],
      "execution_count": 61,
      "outputs": [
        {
          "output_type": "execute_result",
          "data": {
            "text/plain": [
              "(951, 950)"
            ]
          },
          "metadata": {
            "tags": []
          },
          "execution_count": 61
        }
      ]
    },
    {
      "cell_type": "code",
      "metadata": {
        "id": "E7HQRYGTevZn",
        "colab_type": "code",
        "colab": {}
      },
      "source": [
        "from matplotlib import pyplot as plt\n",
        "from matplotlib.ticker import FormatStrFormatter\n"
      ],
      "execution_count": 0,
      "outputs": []
    },
    {
      "cell_type": "code",
      "metadata": {
        "id": "kCopB_N7huxe",
        "colab_type": "code",
        "colab": {
          "base_uri": "https://localhost:8080/",
          "height": 34
        },
        "outputId": "ec09268a-d02e-4bed-8374-f78b21d1e7c9"
      },
      "source": [
        "np.array(entropies[0]).shape"
      ],
      "execution_count": 75,
      "outputs": [
        {
          "output_type": "execute_result",
          "data": {
            "text/plain": [
              "()"
            ]
          },
          "metadata": {
            "tags": []
          },
          "execution_count": 75
        }
      ]
    },
    {
      "cell_type": "code",
      "metadata": {
        "id": "uIXgV5JRh-zI",
        "colab_type": "code",
        "colab": {}
      },
      "source": [
        "mean_entropy_windows = np.mean(entropy_windows,axis=0)"
      ],
      "execution_count": 0,
      "outputs": []
    },
    {
      "cell_type": "code",
      "metadata": {
        "id": "gCpWN0m7ldoG",
        "colab_type": "code",
        "colab": {}
      },
      "source": [
        "mean_a_freq = np.mean(a_freq,axis=0)\n",
        "mean_c_freq = np.mean(c_freq,axis=0)\n",
        "mean_g_freq = np.mean(g_freq,axis=0)\n",
        "mean_t_freq = np.mean(t_freq,axis=0)"
      ],
      "execution_count": 0,
      "outputs": []
    },
    {
      "cell_type": "code",
      "metadata": {
        "id": "QhMDuJ2PjkQz",
        "colab_type": "code",
        "colab": {
          "base_uri": "https://localhost:8080/",
          "height": 34
        },
        "outputId": "f18d1aec-bb1c-45db-9a3f-9d977df853e1"
      },
      "source": [
        "mean_entropy_windows.shape"
      ],
      "execution_count": 82,
      "outputs": [
        {
          "output_type": "execute_result",
          "data": {
            "text/plain": [
              "(950,)"
            ]
          },
          "metadata": {
            "tags": []
          },
          "execution_count": 82
        }
      ]
    },
    {
      "cell_type": "code",
      "metadata": {
        "id": "6t9BF9c3jQ2l",
        "colab_type": "code",
        "colab": {
          "base_uri": "https://localhost:8080/",
          "height": 34
        },
        "outputId": "6bca3cf4-0260-4c14-e0e7-1f506e5478cb"
      },
      "source": [
        "np.array(entropy_windows[0]).shape"
      ],
      "execution_count": 80,
      "outputs": [
        {
          "output_type": "execute_result",
          "data": {
            "text/plain": [
              "(950,)"
            ]
          },
          "metadata": {
            "tags": []
          },
          "execution_count": 80
        }
      ]
    },
    {
      "cell_type": "code",
      "metadata": {
        "id": "Y8zngGNdlYKT",
        "colab_type": "code",
        "colab": {
          "base_uri": "https://localhost:8080/",
          "height": 34
        },
        "outputId": "e3996834-5b61-4a31-e0ed-b7922e3e526a"
      },
      "source": [
        "np.array(a_freq).shape"
      ],
      "execution_count": 88,
      "outputs": [
        {
          "output_type": "execute_result",
          "data": {
            "text/plain": [
              "(951, 950)"
            ]
          },
          "metadata": {
            "tags": []
          },
          "execution_count": 88
        }
      ]
    },
    {
      "cell_type": "code",
      "metadata": {
        "id": "M0KqE7ZvjM7u",
        "colab_type": "code",
        "colab": {
          "base_uri": "https://localhost:8080/",
          "height": 269
        },
        "outputId": "5abe7c35-ec32-46ef-9efc-9e7a5a4f385a"
      },
      "source": [
        "plt.plot(np.arange(0,950), mean_entropy_windows,color='black')\n",
        "plt.plot(np.arange(0,950), mean_a_freq, color='green')\n",
        "plt.plot(np.arange(0,950), mean_c_freq, color='blue')\n",
        "plt.plot(np.arange(0,950), mean_g_freq, color='yellow')\n",
        "plt.plot(np.arange(0,950), mean_t_freq, color='red')\n",
        "\n",
        "plt.xlim(0,950)\n",
        "plt.gca().yaxis.set_major_formatter(FormatStrFormatter('%.4f'))\n",
        "plt.show()"
      ],
      "execution_count": 92,
      "outputs": [
        {
          "output_type": "display_data",
          "data": {
            "image/png": "[encoded data removed]",
            "text/plain": [
              "<Figure size 432x288 with 1 Axes>"
            ]
          },
          "metadata": {
            "tags": []
          }
        }
      ]
    },
    {
      "cell_type": "code",
      "metadata": {
        "id": "My3vygvqmNGr",
        "colab_type": "code",
        "colab": {
          "base_uri": "https://localhost:8080/",
          "height": 269
        },
        "outputId": "f76c68b3-ce11-4e87-a294-d9bdbc723439"
      },
      "source": [
        "plt.plot(np.arange(0,950), mean_a_freq, color='green')\n",
        "plt.plot(np.arange(0,950), mean_c_freq, color='blue')\n",
        "plt.plot(np.arange(0,950), mean_g_freq, color='yellow')\n",
        "plt.plot(np.arange(0,950), mean_t_freq, color='red')\n",
        "\n",
        "plt.xlim(0,950)\n",
        "plt.gca().yaxis.set_major_formatter(FormatStrFormatter('%.4f'))\n",
        "plt.show()"
      ],
      "execution_count": 93,
      "outputs": [
        {
          "output_type": "display_data",
          "data": {
            "image/png": "[encoded data removed]",
            "text/plain": [
              "<Figure size 432x288 with 1 Axes>"
            ]
          },
          "metadata": {
            "tags": []
          }
        }
      ]
    },
    {
      "cell_type": "code",
      "metadata": {
        "id": "KP75pvchd1RQ",
        "colab_type": "code",
        "colab": {
          "base_uri": "https://localhost:8080/",
          "height": 1000
        },
        "outputId": "7fe42486-9c0a-4ff7-b651-45dd1055e71b"
      },
      "source": [
        "#475-525 is the window around the motif\n",
        "\n",
        "for entry in entropy_windows[:5]:\n",
        "  half = int(len(entry)/2)\n",
        "  half_window = int(window_size/2)\n",
        "  start = half-half_window\n",
        "  end = half+half_window\n",
        "  \n",
        "  window_around_motif = entry[start:end]\n",
        "  \n",
        "  #plt.figure(figsize=(20,2))\n",
        "      \n",
        "  plt.plot(np.arange(0,950), entry, alpha=0.3)    \n",
        "  plt.xlim(0,950)\n",
        "  plt.gca().yaxis.set_major_formatter(FormatStrFormatter('%.4f'))\n",
        "  plt.show()"
      ],
      "execution_count": 78,
      "outputs": [
        {
          "output_type": "display_data",
          "data": {
            "image/png": "[encoded data removed]",
            "text/plain": [
              "<Figure size 432x288 with 1 Axes>"
            ]
          },
          "metadata": {
            "tags": []
          }
        },
        {
          "output_type": "display_data",
          "data": {
            "image/png": "[encoded data removed]",
            "text/plain": [
              "<Figure size 432x288 with 1 Axes>"
            ]
          },
          "metadata": {
            "tags": []
          }
        },
        {
          "output_type": "display_data",
          "data": {
            "image/png": "[encoded data removed]",
            "text/plain": [
              "<Figure size 432x288 with 1 Axes>"
            ]
          },
          "metadata": {
            "tags": []
          }
        },
        {
          "output_type": "display_data",
          "data": {
            "image/png": "[encoded data removed]",
            "text/plain": [
              "<Figure size 432x288 with 1 Axes>"
            ]
          },
          "metadata": {
            "tags": []
          }
        },
        {
          "output_type": "display_data",
          "data": {
            "image/png": "[encoded data removed]",
            "text/plain": [
              "<Figure size 432x288 with 1 Axes>"
            ]
          },
          "metadata": {
            "tags": []
          }
        }
      ]
    },
    {
      "cell_type": "code",
      "metadata": {
        "id": "WgngoClgc6LK",
        "colab_type": "code",
        "colab": {
          "base_uri": "https://localhost:8080/",
          "height": 34
        },
        "outputId": "377fc43d-6411-4d34-c409-35e5765aab76"
      },
      "source": [
        "motif_seqs[0][497:503]"
      ],
      "execution_count": 58,
      "outputs": [
        {
          "output_type": "execute_result",
          "data": {
            "text/plain": [
              "'CACGTG'"
            ]
          },
          "metadata": {
            "tags": []
          },
          "execution_count": 58
        }
      ]
    },
    {
      "cell_type": "code",
      "metadata": {
        "id": "sLcKeChkYNnc",
        "colab_type": "code",
        "colab": {
          "base_uri": "https://localhost:8080/",
          "height": 1000
        },
        "outputId": "cd9ba80e-d462-456e-af5d-2ff3b7570e56"
      },
      "source": [
        "entropies"
      ],
      "execution_count": 31,
      "outputs": [
        {
          "output_type": "execute_result",
          "data": {
            "text/plain": [
              "[1.934844600673761,\n",
              " 1.9337157788966994,\n",
              " 1.9743723301838785,\n",
              " 1.9828643302299995,\n",
              " 1.9567705872830503,\n",
              " 1.9595599597605262,\n",
              " 1.9993258296879084,\n",
              " 1.995436374957668,\n",
              " 1.9354883653813326,\n",
              " 1.966258763006473,\n",
              " 1.9456087440839296,\n",
              " 1.934662836285328,\n",
              " 1.9901628108924734,\n",
              " 1.9897763224601916,\n",
              " 1.957492264395195,\n",
              " 1.9319974402532925,\n",
              " 1.9581374522827248,\n",
              " 1.9852451711719565,\n",
              " 1.9215397103422487,\n",
              " 1.9681727706176826,\n",
              " 1.9148552486379398,\n",
              " 1.9654973755381935,\n",
              " 1.981992313338987,\n",
              " 1.9436845758232795,\n",
              " 1.9794833286136653,\n",
              " 1.954075603941813,\n",
              " 1.959148036495264,\n",
              " 1.9662054782724003,\n",
              " 1.939920297038697,\n",
              " 1.9632972556432584,\n",
              " 1.967312241657275,\n",
              " 1.9476801823016867,\n",
              " 1.9443159479081047,\n",
              " 1.979219434340994,\n",
              " 1.9361194156774335,\n",
              " 1.9511657737161574,\n",
              " 1.9922559423084187,\n",
              " 1.9063702479506075,\n",
              " 1.9648039214158215,\n",
              " 1.9454648943840636,\n",
              " 1.977803026253798,\n",
              " 1.9492965614752047,\n",
              " 1.9865590800722872,\n",
              " 1.930701432594628,\n",
              " 1.93533822406056,\n",
              " 1.9473386714012495,\n",
              " 1.9711527658460675,\n",
              " 1.9603013639398617,\n",
              " 1.9587950533749598,\n",
              " 1.9602046311780459,\n",
              " 1.95682935944239,\n",
              " 1.9801156592209708,\n",
              " 1.974177460506291,\n",
              " 1.9466896286320254,\n",
              " 1.962314786050165,\n",
              " 1.987939498286336,\n",
              " 1.978757883178833,\n",
              " 1.977784137286074,\n",
              " 1.9370695517630834,\n",
              " 1.9448011143898356,\n",
              " 1.9621951728946159,\n",
              " 1.9392181896044072,\n",
              " 1.940997951493864,\n",
              " 1.9529437541681212,\n",
              " 1.9395306158421848,\n",
              " 1.9471695255409105,\n",
              " 1.9410283041458918,\n",
              " 1.9915430112887187,\n",
              " 1.9909475246626809,\n",
              " 1.9755673891853331,\n",
              " 1.948000275730017,\n",
              " 1.9497678915696208,\n",
              " 1.945590435242786,\n",
              " 1.9303004485548878,\n",
              " 1.9417568166958388,\n",
              " 1.9599042072066057,\n",
              " 1.9477961472406258,\n",
              " 1.9029818123100486,\n",
              " 1.9005330055363434,\n",
              " 1.9759459260387215,\n",
              " 1.9747089957469057,\n",
              " 1.9883078039393616,\n",
              " 1.983033594874295,\n",
              " 1.9682014617958443,\n",
              " 1.9803027233166717,\n",
              " 1.954920423882652,\n",
              " 1.8827445168382466,\n",
              " 1.9588227875622355,\n",
              " 1.9359287112806367,\n",
              " 1.9323608865468858,\n",
              " 1.9951814171254283,\n",
              " 1.988556992060294,\n",
              " 1.9867022692372802,\n",
              " 1.9840956344470926,\n",
              " 1.9864283661592872,\n",
              " 1.9435888748207937,\n",
              " 1.9646371058879644,\n",
              " 1.9866166249436485,\n",
              " 1.950202681833762,\n",
              " 1.9158480880454754,\n",
              " 1.9558316870954648,\n",
              " 1.9816076598650603,\n",
              " 1.9548010137188288,\n",
              " 1.92706155420227,\n",
              " 1.8791361035509873,\n",
              " 1.9475353883378395,\n",
              " 1.94310554906248,\n",
              " 1.9629351719087607,\n",
              " 1.93273095923132,\n",
              " 1.9685489832785619,\n",
              " 1.9388053239338132,\n",
              " 1.9549748197326338,\n",
              " 1.9889639103971943,\n",
              " 1.9762830211179914,\n",
              " 1.96012773791644,\n",
              " 1.9334906969346215,\n",
              " 1.9698314016040075,\n",
              " 1.9760846264148204,\n",
              " 1.9586938870426447,\n",
              " 1.969201747080756,\n",
              " 1.9474242415650747,\n",
              " 1.9832759621049436,\n",
              " 1.9538405159034977,\n",
              " 1.941264241199299,\n",
              " 1.9604641146019963,\n",
              " 1.9825559599998477,\n",
              " 1.9844796862244296,\n",
              " 1.948575395754648,\n",
              " 1.9294569164473185,\n",
              " 1.9773744199433145,\n",
              " 1.9797229694564653,\n",
              " 1.9588136550579773,\n",
              " 1.9619992304303606,\n",
              " 1.9446657138080123,\n",
              " 1.909157233461133,\n",
              " 1.9113641195426858,\n",
              " 1.9659903166504384,\n",
              " 1.9668262596534447,\n",
              " 1.9761726288344725,\n",
              " 1.9384939258773441,\n",
              " 1.98035564535809,\n",
              " 1.9484020696111966,\n",
              " 1.9503485473993567,\n",
              " 1.9505986315111994,\n",
              " 1.9329186282554225,\n",
              " 1.979194190186683,\n",
              " 1.9179625591348848,\n",
              " 1.938373272004451,\n",
              " 1.9469339728182709,\n",
              " 1.9697526740996603,\n",
              " 1.997951916301981,\n",
              " 1.92414770380502,\n",
              " 1.9578992174544372,\n",
              " 1.9607403093525344,\n",
              " 1.9356019848223902,\n",
              " 1.9635057129623736,\n",
              " 1.9446514375105548,\n",
              " 1.962256849594294,\n",
              " 1.9676924631859816,\n",
              " 1.970362183930122,\n",
              " 1.9455550847588037,\n",
              " 1.9253581757544604,\n",
              " 1.9669820846576176,\n",
              " 1.920480620403627,\n",
              " 1.9722454157420404,\n",
              " 1.9673849144425257,\n",
              " 1.961017802914157,\n",
              " 1.9582839241477554,\n",
              " 1.9791104941181268,\n",
              " 1.9161833023509465,\n",
              " 1.9225189852172782,\n",
              " 1.946970911065482,\n",
              " 1.9585185463887655,\n",
              " 1.9616693225297097,\n",
              " 1.9591770822657968,\n",
              " 1.980567091421011,\n",
              " 1.9883648833508771,\n",
              " 1.9368141717811482,\n",
              " 1.8960095589370787,\n",
              " 1.9336836496539347,\n",
              " 1.971781023862819,\n",
              " 1.944813056064826,\n",
              " 1.9402181595971077,\n",
              " 1.9591117978465307,\n",
              " 1.9397366669607965,\n",
              " 1.9558404650906522,\n",
              " 1.9260341965785894,\n",
              " 1.9608524521315798,\n",
              " 1.9735864655236748,\n",
              " 1.9934679988748598,\n",
              " 1.962793302152852,\n",
              " 1.9507835909917877,\n",
              " 1.954749130158329,\n",
              " 1.968723460221161,\n",
              " 1.9785636478095072,\n",
              " 1.9760848563056965,\n",
              " 1.9688731991432074,\n",
              " 1.9092892330848263,\n",
              " 1.8973400407536147,\n",
              " 1.9318437063043468,\n",
              " 1.9528371672301517,\n",
              " 1.9690026012667992,\n",
              " 1.9708423891704587,\n",
              " 1.972125525196481,\n",
              " 1.9831971130286283,\n",
              " 1.9302961634016604,\n",
              " 1.9542617505943274,\n",
              " 1.9266537284312721,\n",
              " 1.9043156013705584,\n",
              " 1.9676942565843423,\n",
              " 1.986244744919801,\n",
              " 1.9665721808152883,\n",
              " 1.9266456577596314,\n",
              " 1.9802463947623394,\n",
              " 1.9797495648988463,\n",
              " 1.932052328081006,\n",
              " 1.9703634645196653,\n",
              " 1.9803046156848336,\n",
              " 1.9269465620725605,\n",
              " 1.9678902850042332,\n",
              " 1.9689784515337272,\n",
              " 1.9413041996944582,\n",
              " 1.9029014598110519,\n",
              " 1.9695480722093668,\n",
              " 1.9633143012355605,\n",
              " 1.9613285603880364,\n",
              " 1.9027663662115593,\n",
              " 1.9316848570013772,\n",
              " 1.9222314979120387,\n",
              " 1.9858213623134722,\n",
              " 1.982163328126877,\n",
              " 1.9671533146236952,\n",
              " 1.9420009695625062,\n",
              " 1.9780047853525013,\n",
              " 1.9387831958214503,\n",
              " 1.9538699655944223,\n",
              " 1.9924703431930615,\n",
              " 1.9760966007118608,\n",
              " 1.9890704202271585,\n",
              " 1.9844668872961693,\n",
              " 1.9900777836385706,\n",
              " 1.9699545544678303,\n",
              " 1.9904696945596492,\n",
              " 1.9334177776320671,\n",
              " 1.9504785501610837,\n",
              " 1.8688578323024252,\n",
              " 1.9943932877220645,\n",
              " 1.9855313019845666,\n",
              " 1.9700636846513309,\n",
              " 1.9950681300198028,\n",
              " 1.9776965264645177,\n",
              " 1.95218762016364,\n",
              " 1.9441001586387385,\n",
              " 1.8742807479267904,\n",
              " 1.8685121511784335,\n",
              " 1.9758387238412074,\n",
              " 1.973355857420524,\n",
              " 1.949137573552477,\n",
              " 1.9275913253170773,\n",
              " 1.9933867488316612,\n",
              " 1.9446505367228493,\n",
              " 1.9620959957767006,\n",
              " 1.9839060477576402,\n",
              " 1.9603239348614545,\n",
              " 1.9409853884327473,\n",
              " 1.9593944142626076,\n",
              " 1.9736735829901924,\n",
              " 1.9564754818377872,\n",
              " 1.869456821507551,\n",
              " 1.968946333789939,\n",
              " 1.918258671222223,\n",
              " 1.992340109485652,\n",
              " 1.9966234040985507,\n",
              " 1.9967996679331668,\n",
              " 1.995945521346646,\n",
              " 1.9584334593738681,\n",
              " 1.9728109585623441,\n",
              " 1.9564133463941722,\n",
              " 1.9499871512796008,\n",
              " 1.9420242158569614,\n",
              " 1.937274372274059,\n",
              " 1.943372110568683,\n",
              " 1.9612533257401896,\n",
              " 1.9597359251105062,\n",
              " 1.9447268151980328,\n",
              " 1.9765186039159601,\n",
              " 1.9459996372308024,\n",
              " 1.9513516018170078,\n",
              " 1.9339389795932926,\n",
              " 1.9642793795006015,\n",
              " 1.9466898673297648,\n",
              " 1.9447929010736407,\n",
              " 1.958697389968901,\n",
              " 1.9626788603051017,\n",
              " 1.9559876273087946,\n",
              " 1.9664433260445735,\n",
              " 1.9407671187873754,\n",
              " 1.926163189986561,\n",
              " 1.9200531333723565,\n",
              " 1.9197922269357663,\n",
              " 1.9632819518341296,\n",
              " 1.935230528963531,\n",
              " 1.9745161096235044,\n",
              " 1.95626185022583,\n",
              " 1.9442658408934639,\n",
              " 1.9839888091536706,\n",
              " 1.9761730063470175,\n",
              " 1.969793817005228,\n",
              " 1.946748318738106,\n",
              " 1.9528417873996964,\n",
              " 1.9494911037203386,\n",
              " 1.9569132674470393,\n",
              " 1.8740601487900674,\n",
              " 1.969320669793547,\n",
              " 1.9804383279360132,\n",
              " 1.9798081518147979,\n",
              " 1.96319877039921,\n",
              " 1.9797861627471445,\n",
              " 1.9432745236320044,\n",
              " 1.947485016702665,\n",
              " 1.9925876557600213,\n",
              " 1.9560093075103115,\n",
              " 1.9242132368495306,\n",
              " 1.9685622897599164,\n",
              " 1.9620079792225238,\n",
              " 1.963676182689813,\n",
              " 1.931797165674947,\n",
              " 1.882310136963881,\n",
              " 1.9547529687563618,\n",
              " 1.9825960673342173,\n",
              " 1.9758883751855203,\n",
              " 1.9389867729233494,\n",
              " 1.9795287223069167,\n",
              " 1.9770650821032172,\n",
              " 1.9794484071222134,\n",
              " 1.9803628021254505,\n",
              " 1.9823110166817024,\n",
              " 1.9706163181070515,\n",
              " 1.9743833296583801,\n",
              " 1.9545192491502306,\n",
              " 1.923074383822674,\n",
              " 1.9418091425772148,\n",
              " 1.9660980437563431,\n",
              " 1.9648921005349904,\n",
              " 1.9505988109694408,\n",
              " 1.9146366395622378,\n",
              " 1.9371241328838988,\n",
              " 1.910410184116568,\n",
              " 1.959613901788448,\n",
              " 1.9546005952145085,\n",
              " 1.941596053680334,\n",
              " 1.9683624367475931,\n",
              " 1.9613417619937956,\n",
              " 1.9380216218723225,\n",
              " 1.979023724892187,\n",
              " 1.9595184162392167,\n",
              " 1.9535233231954625,\n",
              " 1.9561185220170887,\n",
              " 1.9963029670748091,\n",
              " 1.9884120490733685,\n",
              " 1.9989760567390835,\n",
              " 1.9991100871859901,\n",
              " 1.966570005863987,\n",
              " 1.9103463560931573,\n",
              " 1.957116287774726,\n",
              " 1.9186219258587809,\n",
              " 1.9992686687204522,\n",
              " 1.9815649982521464,\n",
              " 1.9833104054078086,\n",
              " 1.9610791089885535,\n",
              " 1.970588567880704,\n",
              " 1.985572684698853,\n",
              " 1.964115805985419,\n",
              " 1.9475267758123185,\n",
              " 1.9891693000444741,\n",
              " 1.845036262733144,\n",
              " 1.943021982561056,\n",
              " 1.9941429080948025,\n",
              " 1.9495039065842379,\n",
              " 1.9742426990032562,\n",
              " 1.9405959635446266,\n",
              " 1.9566737351462251,\n",
              " 1.9739991222850877,\n",
              " 1.9738612650563117,\n",
              " 1.9200685193430036,\n",
              " 1.9396633881189065,\n",
              " 1.9420479387078986,\n",
              " 1.9108346494586934,\n",
              " 1.949769276663574,\n",
              " 1.9715288124636197,\n",
              " 1.9469688715258264,\n",
              " 1.9080898044894543,\n",
              " 1.950715803208345,\n",
              " 1.9883336220609675,\n",
              " 1.9940905075303024,\n",
              " 1.9664122615613857,\n",
              " 1.9704994820389299,\n",
              " 1.9562490904080003,\n",
              " 1.9236780952349686,\n",
              " 1.9401018226620161,\n",
              " 1.9431406825428814,\n",
              " 1.9584751350583804,\n",
              " 1.9958893480369735,\n",
              " 1.9976439075265509,\n",
              " 1.9590820873993304,\n",
              " 1.929567647642694,\n",
              " 1.94669581691227,\n",
              " 1.9753603667959876,\n",
              " 1.9793906050861425,\n",
              " 1.9483298641748128,\n",
              " 1.9089726911874956,\n",
              " 1.9649623868158672,\n",
              " 1.9804383279360132,\n",
              " 1.9795118289553941,\n",
              " 1.964208376047131,\n",
              " 1.9380632762219823,\n",
              " 1.9126434569800452,\n",
              " 1.988115097258814,\n",
              " 1.9896918556282919,\n",
              " 1.9460381889995748,\n",
              " 1.9549713974628409,\n",
              " 1.971485548435131,\n",
              " 1.9853320358349809,\n",
              " 1.9484250209032496,\n",
              " 1.9504846673257585,\n",
              " 1.992318410284649,\n",
              " 1.9961794088766385,\n",
              " 1.9965891694879316,\n",
              " 1.9952461757526414,\n",
              " 1.9521389292949909,\n",
              " 1.9751683281909538,\n",
              " 1.9949728859902676,\n",
              " 1.9836430929403654,\n",
              " 1.949304129501443,\n",
              " 1.9395934900568759,\n",
              " 1.9183916904095093,\n",
              " 1.970276507692395,\n",
              " 1.9227598916239454,\n",
              " 1.9409853884327473,\n",
              " 1.951228720131042,\n",
              " 1.9430458144372047,\n",
              " 1.9714501867988798,\n",
              " 1.95814400583635,\n",
              " 1.9609333857940356,\n",
              " 1.9689235317892795,\n",
              " 1.9549415464124373,\n",
              " 1.96930853846187,\n",
              " 1.9636197352279492,\n",
              " 1.9804754406918879,\n",
              " 1.9802639082440812,\n",
              " 1.9821771724157884,\n",
              " 1.9723972322892545,\n",
              " 1.9442718086055286,\n",
              " 1.9831281114549426,\n",
              " 1.942272608865803,\n",
              " 1.9435231471955157,\n",
              " 1.9471128272515879,\n",
              " 1.9864912973432758,\n",
              " 1.9703335402822217,\n",
              " 1.9580211592904702,\n",
              " 1.959656557180594,\n",
              " 1.982921349891596,\n",
              " 1.9432109656111063,\n",
              " 1.9783635563247173,\n",
              " 1.979198966434967,\n",
              " 1.9615281757076948,\n",
              " 1.9845521953584133,\n",
              " 1.9199926425514424,\n",
              " 1.9729416906589428,\n",
              " 1.9252058481206638,\n",
              " 1.9518339241978278,\n",
              " 1.9446505367228493,\n",
              " 1.9740788237875384,\n",
              " 1.9782645433421637,\n",
              " 1.9490927964899258,\n",
              " 1.9572586417112472,\n",
              " 1.9656997778694913,\n",
              " 1.9655168736369744,\n",
              " 1.9610032757582947,\n",
              " 1.965832029453107,\n",
              " 1.9701304440279908,\n",
              " 1.95185561996013,\n",
              " 1.9854278485278136,\n",
              " 1.9697045623588951,\n",
              " 1.9695184440072824,\n",
              " 1.9866893961064775,\n",
              " 1.9814200404510445,\n",
              " 1.9255845510929497,\n",
              " 1.934458604589709,\n",
              " 1.9823627331246523,\n",
              " 1.9736726969063279,\n",
              " 1.9778767153165289,\n",
              " 1.9854462906579062,\n",
              " 1.9831488193123605,\n",
              " 1.98420814137311,\n",
              " 1.941542401938737,\n",
              " 1.9476414489117002,\n",
              " 1.9444173777803502,\n",
              " 1.9670999828691937,\n",
              " 1.982840516391104,\n",
              " 1.9379242800002525,\n",
              " 1.9736550544412472,\n",
              " 1.976877423986279,\n",
              " 1.9823792165744303,\n",
              " 1.9252200658314367,\n",
              " 1.9668541576048413,\n",
              " 1.9457090217645239,\n",
              " 1.9377201821459695,\n",
              " 1.9402246292462029,\n",
              " 1.8944264897892833,\n",
              " 1.9387001367344512,\n",
              " 1.926323807616182,\n",
              " 1.9254334326169855,\n",
              " 1.9869688327778396,\n",
              " 1.9499969012142793,\n",
              " 1.9644229546132925,\n",
              " 1.9485056264065457,\n",
              " 1.9879040430424686,\n",
              " 1.9540109707727034,\n",
              " 1.9508135937737647,\n",
              " 1.956305682531711,\n",
              " 1.9898800099792737,\n",
              " 1.9401008331953824,\n",
              " 1.9553880190947428,\n",
              " 1.9655845760769128,\n",
              " 1.9562546087502233,\n",
              " 1.9851461315572654,\n",
              " 1.966365999456528,\n",
              " 1.932459755112924,\n",
              " 1.9348516190102223,\n",
              " 1.9274554811247748,\n",
              " 1.9700783548481136,\n",
              " 1.9840365027563527,\n",
              " 1.9516735500608453,\n",
              " 1.9396774965654986,\n",
              " 1.9125817070090099,\n",
              " 1.9495764349114701,\n",
              " 1.9791093607010517,\n",
              " 1.9655100530888614,\n",
              " 1.9732323071631586,\n",
              " 1.973954886565652,\n",
              " 1.934658361791565,\n",
              " 1.943968711753279,\n",
              " 1.9592814814537434,\n",
              " 1.9453907173061564,\n",
              " 1.9089779812384602,\n",
              " 1.92227011289699,\n",
              " 1.9535897319432158,\n",
              " 1.9484475406739206,\n",
              " 1.9475094173338228,\n",
              " 1.9569168791535823,\n",
              " 1.931795531561117,\n",
              " 1.953162048686989,\n",
              " 1.9382633336025188,\n",
              " 1.9230258383811898,\n",
              " 1.9277087298633093,\n",
              " 1.9447164801919985,\n",
              " 1.9495129429750848,\n",
              " 1.9616318495290352,\n",
              " 1.9551417216983316,\n",
              " 1.977064009904482,\n",
              " 1.9481343237824746,\n",
              " 1.9172150274681183,\n",
              " 1.979190255963771,\n",
              " 1.987966550088524,\n",
              " 1.9474142023858074,\n",
              " 1.9537017257881883,\n",
              " 1.9873093920488745,\n",
              " 1.9539573460996968,\n",
              " 1.9544171855602896,\n",
              " 1.9555671287654497,\n",
              " 1.9566223481970457,\n",
              " 1.9388058112478652,\n",
              " 1.9386851789444406,\n",
              " 1.9394349599695122,\n",
              " 1.9502864930101,\n",
              " 1.9463374039387504,\n",
              " 1.952851764889595,\n",
              " 1.9802423502233477,\n",
              " 1.993454588767643,\n",
              " 1.9957979814652544,\n",
              " 1.9452632487715604,\n",
              " 1.9393145457027674,\n",
              " 1.936692291101949,\n",
              " 1.9487646467349533,\n",
              " 1.9619127181740463,\n",
              " 1.9702440279368874,\n",
              " 1.9411724096624985,\n",
              " 1.956659054391658,\n",
              " 1.9702874206232903,\n",
              " 1.9249965777288556,\n",
              " 1.955049373198544,\n",
              " 1.950446146216612,\n",
              " 1.936831855724661,\n",
              " 1.979357551056649,\n",
              " 1.9799492492877848,\n",
              " 1.9634102534417437,\n",
              " 1.984524831829326,\n",
              " 1.950880808756935,\n",
              " 1.9633935323813456,\n",
              " 1.9490210456074046,\n",
              " 1.906795599940716,\n",
              " 1.9570571028958295,\n",
              " 1.960793687937051,\n",
              " 1.918426035799902,\n",
              " 1.865246794689238,\n",
              " 1.9484457762774983,\n",
              " 1.9408410889704064,\n",
              " 1.9445431885104383,\n",
              " 1.950568805226024,\n",
              " 1.9383886399587018,\n",
              " 1.9504562499486215,\n",
              " 1.9493736837192301,\n",
              " 1.983623837218565,\n",
              " 1.9876410008793965,\n",
              " 1.9804751700348104,\n",
              " 1.9491731038586875,\n",
              " 1.9575905898496107,\n",
              " 1.964994158213712,\n",
              " 1.9843775968538875,\n",
              " 1.985344110544112,\n",
              " 1.9676136939752507,\n",
              " 1.9564743023368933,\n",
              " 1.9896042761187973,\n",
              " 1.9852578900042923,\n",
              " 1.9912004190256192,\n",
              " 1.990247248461588,\n",
              " 1.9907797609644655,\n",
              " 1.948000275730017,\n",
              " 1.9713429844894872,\n",
              " 1.9887278037523668,\n",
              " 1.970615431803889,\n",
              " 1.9737855384842544,\n",
              " 1.9713429844894872,\n",
              " 1.9889732151282105,\n",
              " 1.9713429844894872,\n",
              " 1.9936523807630895,\n",
              " 1.9635648950262317,\n",
              " 1.9259484552780708,\n",
              " 1.9350211484260924,\n",
              " 1.9839511635677165,\n",
              " 1.9755476859407781,\n",
              " 1.9390697370113203,\n",
              " 1.9744745771942411,\n",
              " 1.9259451129558136,\n",
              " 1.965255335518954,\n",
              " 1.9677906190305188,\n",
              " 1.9726371890958245,\n",
              " 1.9900232678332035,\n",
              " 1.9802975328515457,\n",
              " 1.9434439565821156,\n",
              " 1.9453456073974273,\n",
              " 1.9763835775560676,\n",
              " 1.9568884165139204,\n",
              " 1.9620425704954667,\n",
              " 1.9477221710270656,\n",
              " 1.961276000662937,\n",
              " 1.9608832507797318,\n",
              " 1.959141089046868,\n",
              " 1.9724660976747204,\n",
              " 1.9476820033985243,\n",
              " 1.967260541003589,\n",
              " 1.9720631313852666,\n",
              " 1.9761822676956307,\n",
              " 1.958359448541376,\n",
              " 1.9542628931575856,\n",
              " 1.9377947434149712,\n",
              " 1.9609327492397803,\n",
              " 1.9566441526889284,\n",
              " 1.9626991152230677,\n",
              " 1.950163658236448,\n",
              " 1.9791155865402672,\n",
              " 1.9802463947623394,\n",
              " 1.9802463947623394,\n",
              " 1.9799492492877848,\n",
              " 1.9513875255850832,\n",
              " 1.9404649971493204,\n",
              " 1.9457787036438008,\n",
              " 1.9683338470536769,\n",
              " 1.9692240014027158,\n",
              " 1.9708935468541742,\n",
              " 1.973289314221219,\n",
              " 1.9699889216883446,\n",
              " 1.9324619091594366,\n",
              " 1.9229262404919547,\n",
              " 1.9773486831835512,\n",
              " 1.94502941042763,\n",
              " 1.9089553549274463,\n",
              " 1.9809888945170102,\n",
              " 1.9535545796492122,\n",
              " 1.9417394349238088,\n",
              " 1.907622690069576,\n",
              " 1.9553500959334826,\n",
              " 1.9417399321575992,\n",
              " 1.9196179473322084,\n",
              " 1.9192925858492287,\n",
              " 1.9543864112889238,\n",
              " 1.9661461180491993,\n",
              " 1.9554725423618529,\n",
              " 1.9759357708576655,\n",
              " 1.906386322083819,\n",
              " 1.9583432466333934,\n",
              " 1.9462512993586691,\n",
              " 1.91930946159279,\n",
              " 1.9318957500563134,\n",
              " 1.986672931050435,\n",
              " 1.963585583081069,\n",
              " 1.9358980125140928,\n",
              " 1.906643323802537,\n",
              " 1.9741803840168797,\n",
              " 1.970258809518405,\n",
              " 1.9244385062894391,\n",
              " 1.9288391159528468,\n",
              " 1.9695959844540643,\n",
              " 1.9593068176015502,\n",
              " 1.9594356339878318,\n",
              " 1.939765642516233,\n",
              " 1.9348065340467173,\n",
              " 1.941459371307909,\n",
              " 1.9829612749338654,\n",
              " 1.9448603148277024,\n",
              " 1.9344439942400493,\n",
              " 1.9225055981703134,\n",
              " 1.9857617094060371,\n",
              " 1.9563150994466547,\n",
              " 1.937302277207384,\n",
              " 1.9355698051196701,\n",
              " 1.9534551583990778,\n",
              " 1.9954104673667756,\n",
              " 1.9447577872284505,\n",
              " 1.9530104188153086,\n",
              " 1.9158333452843301,\n",
              " 1.9388308415342779,\n",
              " 1.982114088722146,\n",
              " 1.9433352383478115,\n",
              " 1.9838738283072248,\n",
              " 1.9591808637493955,\n",
              " 1.966062936248978,\n",
              " 1.9321948870462724,\n",
              " 1.952185640552013,\n",
              " 1.9737386036072673,\n",
              " 1.925306377808349,\n",
              " 1.9369758382233924,\n",
              " 1.9463095221739322,\n",
              " 1.9804383279360134,\n",
              " 1.9681933197702914,\n",
              " 1.9695884778577262,\n",
              " 1.9599898476483526,\n",
              " 1.9543537761464664,\n",
              " 1.9467686728222477,\n",
              " 1.937337328028434,\n",
              " 1.969640811307866,\n",
              " 1.9148776057515342,\n",
              " 1.91123962092696,\n",
              " 1.9507818214870865,\n",
              " 1.96180783727963,\n",
              " 1.9540608102112582,\n",
              " 1.9967691983181333,\n",
              " 1.9374548654233243,\n",
              " 1.9785030156636982,\n",
              " 1.941299944169827,\n",
              " 1.9365848728995467,\n",
              " 1.9577167385502183,\n",
              " 1.9545908749913037,\n",
              " 1.9571288401869964,\n",
              " 1.9761970565944476,\n",
              " 1.9398351428216796,\n",
              " 1.9374783233169532,\n",
              " 1.9540646303395737,\n",
              " 1.9734931605028205,\n",
              " 1.9215769859704381,\n",
              " 1.9655734711770636,\n",
              " 1.9926886342936694,\n",
              " 1.9674107708547197,\n",
              " 1.964352327258407,\n",
              " 1.9597408254509934,\n",
              " 1.9911356119517192,\n",
              " 1.9695349716843904,\n",
              " 1.9753090456092797,\n",
              " 1.9857135242697157,\n",
              " 1.9425731183737476,\n",
              " 1.9537882310364725,\n",
              " 1.9384937630260306,\n",
              " 1.9528371672301517,\n",
              " 1.9680442360897021,\n",
              " 1.965443274682734,\n",
              " 1.9647924410395077,\n",
              " 1.937850802010535,\n",
              " 1.9291661949743277,\n",
              " 1.9296586244884408,\n",
              " 1.9571365778722145,\n",
              " 1.9596902920025023,\n",
              " 1.8983495870976994,\n",
              " 1.968243564932993,\n",
              " 1.9943858092178843,\n",
              " 1.9709530136036228,\n",
              " 1.979591764015244,\n",
              " 1.9667389628728926,\n",
              " 1.9855116515359643,\n",
              " 1.9566880234939532,\n",
              " 1.9503729827328555,\n",
              " 1.947255992791562,\n",
              " 1.9576357188565525,\n",
              " 1.9245255678684803,\n",
              " 1.9843464535806294,\n",
              " 1.934705811449894,\n",
              " 1.946563799306975,\n",
              " 1.913399383454782,\n",
              " 1.9636190470538872,\n",
              " 1.961664667333845,\n",
              " 1.9546722502731355,\n",
              " 1.9398014924962674,\n",
              " 1.9921001420155977,\n",
              " 1.9586956880431714,\n",
              " 1.9449771267712175,\n",
              " 1.9609144844307322,\n",
              " 1.9574525856803344,\n",
              " 1.959787500356673,\n",
              " 1.9918149179690579,\n",
              " 1.9641574902236045,\n",
              " 1.9788522750916422,\n",
              " 1.9238813703068847,\n",
              " 1.9739618157379097,\n",
              " 1.8783071918918537,\n",
              " 1.956416357583154,\n",
              " 1.9645385489566984,\n",
              " 1.9648361418001934,\n",
              " 1.9479896190605603,\n",
              " 1.9384342746503562,\n",
              " 1.9613036125017014,\n",
              " 1.9725497988801548,\n",
              " 1.9485033956521518,\n",
              " 1.974332257968708,\n",
              " 1.9604311971750938,\n",
              " 1.96790429168123,\n",
              " 1.9459942885282344,\n",
              " 1.9779642171199776,\n",
              " 1.996333141040237,\n",
              " 1.9395570527205273,\n",
              " 1.945275744899916,\n",
              " 1.9493166555986177,\n",
              " 1.9572394639008341,\n",
              " 1.931762911162255,\n",
              " 1.9711155113889118,\n",
              " 1.9692527482919941,\n",
              " 1.974838963324319,\n",
              " 1.9631822729716917,\n",
              " 1.9830886381361417,\n",
              " 1.978896489485283,\n",
              " 1.9191457096827502,\n",
              " 1.9465436834325853,\n",
              " 1.9459820148488212,\n",
              " 1.9695700765190178,\n",
              " 1.9691496924834744,\n",
              " 1.9436582534734397,\n",
              " 1.9419998400151868,\n",
              " 1.955471482115824,\n",
              " 1.964594228886843,\n",
              " 1.9814699500077884,\n",
              " 1.9950760839005053,\n",
              " 1.935519285453338,\n",
              " 1.9236451103841214,\n",
              " 1.9020868114677634,\n",
              " 1.9517932681634806,\n",
              " 1.973385405850008,\n",
              " 1.9673875288297336,\n",
              " 1.9891836969288414,\n",
              " 1.98405462599115,\n",
              " 1.974686999256987,\n",
              " 1.9645513838962991,\n",
              " 1.9248952381362618,\n",
              " 1.9799365291410176,\n",
              " 1.979370495571585,\n",
              " 1.9541967928113877,\n",
              " 1.9780428373783572,\n",
              " 1.9224591243387044,\n",
              " 1.9658674779627354,\n",
              " 1.9802463947623394,\n",
              " 1.9804383279360134,\n",
              " 1.967043467921385,\n",
              " 1.9518024713877757,\n",
              " 1.9449356304146526,\n",
              " 1.9827130934368227,\n",
              " 1.9458236228695611,\n",
              " 1.9808668350762981,\n",
              " 1.9862367097499714,\n",
              " 1.9715563854045828,\n",
              " 1.9692134118920226,\n",
              " 1.9645381566536961,\n",
              " 1.9853804225195497,\n",
              " 1.9347085183877986,\n",
              " 1.9619873923209417,\n",
              " 1.9530463567527296,\n",
              " 1.9197290764713282,\n",
              " 1.949044138194864,\n",
              " 1.9537784220062162,\n",
              " 1.9546977280593194,\n",
              " 1.9764494291033423,\n",
              " 1.9748953486073146,\n",
              " 1.9611897707161727,\n",
              " 1.958000927342278,\n",
              " 1.9542140466820086,\n",
              " 1.9504630154018643,\n",
              " 1.9331745587786449,\n",
              " 1.9295032668863155,\n",
              " 1.9743727508063558,\n",
              " 1.9395634567696651,\n",
              " 1.9378507076561187,\n",
              " 1.9758229356922843,\n",
              " 1.9762169004856747,\n",
              " 1.9434472562785354,\n",
              " 1.9330999147624095,\n",
              " 1.9933415919645325,\n",
              " 1.9933204384726984,\n",
              " 1.9792563591633585,\n",
              " 1.9317760265247306,\n",
              " 1.9462557971798664,\n",
              " 1.9607742133724733,\n",
              " 1.956132142661065,\n",
              " 1.9434438159204803,\n",
              " 1.9821473896997084,\n",
              " 1.9816798811733454,\n",
              " 1.9690588895961292,\n",
              " 1.9435300079633375,\n",
              " 1.9744005043620092,\n",
              " 1.8967544456931842,\n",
              " 1.9005674903363174,\n",
              " 1.9368541707716647,\n",
              " 1.9227744661588513,\n",
              " 1.9616845723131244,\n",
              " 1.9778616095169528,\n",
              " 1.9755422874323936,\n",
              " 1.9911511830528672,\n",
              " 1.966008561439485,\n",
              " 1.9694738156667797,\n",
              " 1.9831166961109647,\n",
              " 1.960894189473288,\n",
              " 1.9288401699772058,\n",
              " 1.9604829635587682,\n",
              " 1.9597737499271206,\n",
              " 1.970322381183291,\n",
              " 1.893330009884855,\n",
              " 1.94525679834249,\n",
              " 1.9468714107300196,\n",
              " 1.9547439376947768,\n",
              " 1.953286821025158,\n",
              " 1.9297514597570238,\n",
              " 1.959908709937578,\n",
              " 1.9101349824831324,\n",
              " 1.9096918550303168,\n",
              " 1.9788138902973678]"
            ]
          },
          "metadata": {
            "tags": []
          },
          "execution_count": 31
        }
      ]
    },
    {
      "cell_type": "code",
      "metadata": {
        "id": "LpOL_8j-T1Jt",
        "colab_type": "code",
        "colab": {
          "base_uri": "https://localhost:8080/",
          "height": 34
        },
        "outputId": "8cbc7843-7615-4ef8-ba2d-c015700701b1"
      },
      "source": [
        "c_num = pho4_motifs[0][0]\n",
        "c_start = pho4_motifs[0][1]\n",
        "c_end = pho4_motifs[0][2]\n",
        "len(genome_object[c_num][c_start:c_end].seq)"
      ],
      "execution_count": 27,
      "outputs": [
        {
          "output_type": "execute_result",
          "data": {
            "text/plain": [
              "1000"
            ]
          },
          "metadata": {
            "tags": []
          },
          "execution_count": 27
        }
      ]
    },
    {
      "cell_type": "code",
      "metadata": {
        "id": "pG6pvWYUOpkw",
        "colab_type": "code",
        "colab": {}
      },
      "source": [
        "![[ -f 1000_around_pho4_onehot.npy ]] || wget http://mitra.stanford.edu/kundaje/eileenli/1000_around_pho4_onehot.npy -O 1000_around_pho4_onehot.npy"
      ],
      "execution_count": 0,
      "outputs": []
    },
    {
      "cell_type": "code",
      "metadata": {
        "id": "InIlakvdOqV6",
        "colab_type": "code",
        "colab": {}
      },
      "source": [
        "import numpy as np\n",
        "pho4_onehot = np.load(\"1000_around_pho4_onehot.npy\")"
      ],
      "execution_count": 0,
      "outputs": []
    },
    {
      "cell_type": "code",
      "metadata": {
        "id": "KAdn0RR0OyRh",
        "colab_type": "code",
        "outputId": "95a70802-ee93-400a-dde8-e4c86b61ca86",
        "colab": {
          "base_uri": "https://localhost:8080/",
          "height": 34
        }
      },
      "source": [
        "np.array(pho4_onehot[0]).shape "
      ],
      "execution_count": 0,
      "outputs": [
        {
          "output_type": "execute_result",
          "data": {
            "text/plain": [
              "(546, 4)"
            ]
          },
          "metadata": {
            "tags": []
          },
          "execution_count": 4
        }
      ]
    },
    {
      "cell_type": "code",
      "metadata": {
        "id": "bylumv21PKid",
        "colab_type": "code",
        "colab": {}
      },
      "source": [
        ""
      ],
      "execution_count": 0,
      "outputs": []
    }
  ]
}