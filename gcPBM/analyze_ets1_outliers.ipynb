{
 "cells": [
  {
   "cell_type": "code",
   "execution_count": 1,
   "metadata": {},
   "outputs": [],
   "source": [
    "import numpy as np\n",
    "import pandas as pd\n",
    "import json\n",
    "import os\n",
    "import gzip\n",
    "from math import log\n",
    "from matplotlib import pyplot as plt\n",
    "%matplotlib inline"
   ]
  },
  {
   "cell_type": "code",
   "execution_count": 2,
   "metadata": {},
   "outputs": [],
   "source": [
    "dfs = pd.read_excel(\"../data/experimental/gcPBM/GSE97793_Combined_ets1_100nM_elk1_100nM_50nM_gabpa_100nM_log.xlsx\")"
   ]
  },
  {
   "cell_type": "code",
   "execution_count": 3,
   "metadata": {},
   "outputs": [
    {
     "data": {
      "text/html": [
       "<div>\n",
       "<style scoped>\n",
       "    .dataframe tbody tr th:only-of-type {\n",
       "        vertical-align: middle;\n",
       "    }\n",
       "\n",
       "    .dataframe tbody tr th {\n",
       "        vertical-align: top;\n",
       "    }\n",
       "\n",
       "    .dataframe thead th {\n",
       "        text-align: right;\n",
       "    }\n",
       "</style>\n",
       "<table border=\"1\" class=\"dataframe\">\n",
       "  <thead>\n",
       "    <tr style=\"text-align: right;\">\n",
       "      <th></th>\n",
       "      <th>ID_REF</th>\n",
       "      <th>ID</th>\n",
       "      <th>Sequence</th>\n",
       "      <th>Ets1_100nM</th>\n",
       "      <th>Elk1_100nM</th>\n",
       "      <th>Elk1_50nM</th>\n",
       "      <th>Gabpa_100nM</th>\n",
       "    </tr>\n",
       "  </thead>\n",
       "  <tbody>\n",
       "    <tr>\n",
       "      <th>0</th>\n",
       "      <td>1</td>\n",
       "      <td>Bound</td>\n",
       "      <td>TCGGCGGCGGAGCACCGGAAGTTCTGCAGCACTGGC</td>\n",
       "      <td>10.7065</td>\n",
       "      <td>10.7019</td>\n",
       "      <td>10.7916</td>\n",
       "      <td>11.4822</td>\n",
       "    </tr>\n",
       "    <tr>\n",
       "      <th>1</th>\n",
       "      <td>2</td>\n",
       "      <td>Bound</td>\n",
       "      <td>GTTTAGATAACTGACCGGATGATTACCCTCTCCATC</td>\n",
       "      <td>9.4762</td>\n",
       "      <td>8.8623</td>\n",
       "      <td>9.1490</td>\n",
       "      <td>8.7324</td>\n",
       "    </tr>\n",
       "    <tr>\n",
       "      <th>2</th>\n",
       "      <td>3</td>\n",
       "      <td>Bound</td>\n",
       "      <td>TGGACCTAGGGCAGACGGAAGTTTTGGGAGGGCCGG</td>\n",
       "      <td>9.5459</td>\n",
       "      <td>9.3227</td>\n",
       "      <td>9.6038</td>\n",
       "      <td>9.0362</td>\n",
       "    </tr>\n",
       "    <tr>\n",
       "      <th>3</th>\n",
       "      <td>4</td>\n",
       "      <td>Bound</td>\n",
       "      <td>ATCAAGGCGCGGCGGCGGAAAAATGTGAAATGGCTT</td>\n",
       "      <td>7.8294</td>\n",
       "      <td>8.7105</td>\n",
       "      <td>8.7679</td>\n",
       "      <td>8.8320</td>\n",
       "    </tr>\n",
       "    <tr>\n",
       "      <th>4</th>\n",
       "      <td>5</td>\n",
       "      <td>Bound</td>\n",
       "      <td>TCCTTACTCCGTGGCCGGAACTGGGTGCGCTCCTAC</td>\n",
       "      <td>9.7629</td>\n",
       "      <td>9.1093</td>\n",
       "      <td>9.5305</td>\n",
       "      <td>9.1809</td>\n",
       "    </tr>\n",
       "  </tbody>\n",
       "</table>\n",
       "</div>"
      ],
      "text/plain": [
       "   ID_REF     ID                              Sequence  Ets1_100nM  \\\n",
       "0       1  Bound  TCGGCGGCGGAGCACCGGAAGTTCTGCAGCACTGGC     10.7065   \n",
       "1       2  Bound  GTTTAGATAACTGACCGGATGATTACCCTCTCCATC      9.4762   \n",
       "2       3  Bound  TGGACCTAGGGCAGACGGAAGTTTTGGGAGGGCCGG      9.5459   \n",
       "3       4  Bound  ATCAAGGCGCGGCGGCGGAAAAATGTGAAATGGCTT      7.8294   \n",
       "4       5  Bound  TCCTTACTCCGTGGCCGGAACTGGGTGCGCTCCTAC      9.7629   \n",
       "\n",
       "   Elk1_100nM  Elk1_50nM  Gabpa_100nM  \n",
       "0     10.7019    10.7916      11.4822  \n",
       "1      8.8623     9.1490       8.7324  \n",
       "2      9.3227     9.6038       9.0362  \n",
       "3      8.7105     8.7679       8.8320  \n",
       "4      9.1093     9.5305       9.1809  "
      ]
     },
     "execution_count": 3,
     "metadata": {},
     "output_type": "execute_result"
    }
   ],
   "source": [
    "dfs.head()"
   ]
  },
  {
   "cell_type": "code",
   "execution_count": 4,
   "metadata": {},
   "outputs": [],
   "source": [
    "all_seqs = dfs[\"Sequence\"]\n",
    "yvals = np.load('preds/ets1_yvals.npy')"
   ]
  },
  {
   "cell_type": "code",
   "execution_count": 5,
   "metadata": {},
   "outputs": [
    {
     "name": "stdout",
     "output_type": "stream",
     "text": [
      "102 13675\n"
     ]
    }
   ],
   "source": [
    "outliers = []\n",
    "for idx, pred in enumerate(yvals):\n",
    "    if pred >= 0.15:\n",
    "        outliers.append(all_seqs[idx])\n",
    "print(len(outliers), len(all_seqs))"
   ]
  },
  {
   "cell_type": "code",
   "execution_count": 6,
   "metadata": {},
   "outputs": [],
   "source": [
    "def checkMatch(motif, seq, tol = 1):\n",
    "    for ids in range(len(seq)-len(motif)+1):\n",
    "        curr_tol = tol\n",
    "        success = True\n",
    "        for idm in range(len(motif)):\n",
    "            if seq[ids+idm] != motif[idm]:\n",
    "                curr_tol -= 1\n",
    "            if curr_tol < 0:\n",
    "                success = False\n",
    "                break\n",
    "        if success: return True\n",
    "    return False"
   ]
  },
  {
   "cell_type": "code",
   "execution_count": 7,
   "metadata": {},
   "outputs": [
    {
     "name": "stdout",
     "output_type": "stream",
     "text": [
      "0.029411764705882353\n"
     ]
    }
   ],
   "source": [
    "fox_ets_motif = \"CATAACAGGAA\"\n",
    "rev_comp_motif = \"TTCCTGTTATG\"\n",
    "tol =  2\n",
    "\n",
    "count = 0\n",
    "for seq in outliers:\n",
    "    if checkMatch(fox_ets_motif, seq, tol) or checkMatch(rev_comp_motif, seq, tol):\n",
    "        count += 1\n",
    "outlier_enrichment = count/len(outliers)\n",
    "print(outlier_enrichment)"
   ]
  },
  {
   "cell_type": "code",
   "execution_count": 8,
   "metadata": {},
   "outputs": [
    {
     "name": "stdout",
     "output_type": "stream",
     "text": [
      "0.027276051188299816\n"
     ]
    }
   ],
   "source": [
    "count = 0\n",
    "for seq in all_seqs:\n",
    "    if checkMatch(fox_ets_motif, seq, tol) or checkMatch(rev_comp_motif, seq, tol):\n",
    "        count += 1\n",
    "average_enrichment = count/len(all_seqs)\n",
    "print(average_enrichment)"
   ]
  },
  {
   "cell_type": "code",
   "execution_count": 9,
   "metadata": {},
   "outputs": [
    {
     "data": {
      "text/plain": [
       "<BarContainer object of 2 artists>"
      ]
     },
     "execution_count": 9,
     "metadata": {},
     "output_type": "execute_result"
    },
    {
     "data": {
      "image/png": "[encoded data removed]",
      "text/plain": [
       "<Figure size 432x288 with 1 Axes>"
      ]
     },
     "metadata": {},
     "output_type": "display_data"
    }
   ],
   "source": [
    "plt.bar(['outlier', 'average'], [outlier_enrichment, average_enrichment])"
   ]
  },
  {
   "cell_type": "code",
   "execution_count": 10,
   "metadata": {},
   "outputs": [
    {
     "name": "stdout",
     "output_type": "stream",
     "text": [
      "0.0196078431372549\n"
     ]
    }
   ],
   "source": [
    "fox_ets_motif = \"AAACAGGAA\"\n",
    "rev_comp_motif = \"TTCCTGTTT\"\n",
    "tol =  0\n",
    "\n",
    "count = 0\n",
    "for seq in outliers:\n",
    "    if checkMatch(fox_ets_motif, seq, tol) or checkMatch(rev_comp_motif, seq, tol):\n",
    "        count += 1\n",
    "outlier_enrichment = count/len(outliers)\n",
    "print(outlier_enrichment)"
   ]
  },
  {
   "cell_type": "code",
   "execution_count": 11,
   "metadata": {},
   "outputs": [
    {
     "name": "stdout",
     "output_type": "stream",
     "text": [
      "0.010310786106032907\n"
     ]
    }
   ],
   "source": [
    "count = 0\n",
    "for seq in all_seqs:\n",
    "    if checkMatch(fox_ets_motif, seq, tol) or checkMatch(rev_comp_motif, seq, tol):\n",
    "        count += 1\n",
    "average_enrichment = count/len(all_seqs)\n",
    "print(average_enrichment)"
   ]
  },
  {
   "cell_type": "code",
   "execution_count": 12,
   "metadata": {},
   "outputs": [
    {
     "data": {
      "text/plain": [
       "<BarContainer object of 2 artists>"
      ]
     },
     "execution_count": 12,
     "metadata": {},
     "output_type": "execute_result"
    },
    {
     "data": {
      "image/png": "[encoded data removed]",
      "text/plain": [
       "<Figure size 432x288 with 1 Axes>"
      ]
     },
     "metadata": {},
     "output_type": "display_data"
    }
   ],
   "source": [
    "plt.bar(['outlier', 'average'], [outlier_enrichment, average_enrichment])"
   ]
  },
  {
   "cell_type": "code",
   "execution_count": 13,
   "metadata": {},
   "outputs": [
    {
     "name": "stdout",
     "output_type": "stream",
     "text": [
      "0.1568627450980392\n"
     ]
    }
   ],
   "source": [
    "fox_motif = \"GTAAACAA\"\n",
    "rc_fox_motif = \"TTGTTTAC\"\n",
    "tol =  2\n",
    "\n",
    "count = 0\n",
    "for seq in outliers:\n",
    "    if checkMatch(fox_motif, seq, tol) or checkMatch(rc_fox_motif, seq, tol):\n",
    "        count += 1\n",
    "outlier_enrichment = count/len(outliers)\n",
    "print(outlier_enrichment)"
   ]
  },
  {
   "cell_type": "code",
   "execution_count": 14,
   "metadata": {},
   "outputs": [
    {
     "name": "stdout",
     "output_type": "stream",
     "text": [
      "0.13053016453382085\n"
     ]
    }
   ],
   "source": [
    "count = 0\n",
    "for seq in all_seqs:\n",
    "    if checkMatch(fox_motif, seq, tol) or checkMatch(rc_fox_motif, seq, tol):\n",
    "        count += 1\n",
    "average_enrichment = count/len(all_seqs)\n",
    "print(average_enrichment)"
   ]
  },
  {
   "cell_type": "code",
   "execution_count": 15,
   "metadata": {},
   "outputs": [
    {
     "data": {
      "text/plain": [
       "<BarContainer object of 2 artists>"
      ]
     },
     "execution_count": 15,
     "metadata": {},
     "output_type": "execute_result"
    },
    {
     "data": {
      "image/png": "[encoded data removed]",
      "text/plain": [
       "<Figure size 432x288 with 1 Axes>"
      ]
     },
     "metadata": {},
     "output_type": "display_data"
    }
   ],
   "source": [
    "plt.bar(['outlier', 'average'], [outlier_enrichment, average_enrichment])"
   ]
  }
 ],
 "metadata": {
  "kernelspec": {
   "display_name": "Python [conda env:basepair]",
   "language": "python",
   "name": "conda-env-basepair-py"
  },
  "language_info": {
   "codemirror_mode": {
    "name": "ipython",
    "version": 3
   },
   "file_extension": ".py",
   "mimetype": "text/x-python",
   "name": "python",
   "nbconvert_exporter": "python",
   "pygments_lexer": "ipython3",
   "version": "3.6.8"
  }
 },
 "nbformat": 4,
 "nbformat_minor": 4
}
