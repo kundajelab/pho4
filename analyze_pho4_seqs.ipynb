{
 "cells": [
  {
   "cell_type": "code",
   "execution_count": 1,
   "metadata": {},
   "outputs": [
    {
     "name": "stderr",
     "output_type": "stream",
     "text": [
      "Using TensorFlow backend.\n",
      "/users/amr1/miniconda3/envs/basepair/lib/python3.6/site-packages/tensorflow/python/framework/dtypes.py:516: FutureWarning: Passing (type, 1) or '1type' as a synonym of type is deprecated; in a future version of numpy, it will be understood as (type, (1,)) / '(1,)type'.\n",
      "  _np_qint8 = np.dtype([(\"qint8\", np.int8, 1)])\n",
      "/users/amr1/miniconda3/envs/basepair/lib/python3.6/site-packages/tensorflow/python/framework/dtypes.py:517: FutureWarning: Passing (type, 1) or '1type' as a synonym of type is deprecated; in a future version of numpy, it will be understood as (type, (1,)) / '(1,)type'.\n",
      "  _np_quint8 = np.dtype([(\"quint8\", np.uint8, 1)])\n",
      "/users/amr1/miniconda3/envs/basepair/lib/python3.6/site-packages/tensorflow/python/framework/dtypes.py:518: FutureWarning: Passing (type, 1) or '1type' as a synonym of type is deprecated; in a future version of numpy, it will be understood as (type, (1,)) / '(1,)type'.\n",
      "  _np_qint16 = np.dtype([(\"qint16\", np.int16, 1)])\n",
      "/users/amr1/miniconda3/envs/basepair/lib/python3.6/site-packages/tensorflow/python/framework/dtypes.py:519: FutureWarning: Passing (type, 1) or '1type' as a synonym of type is deprecated; in a future version of numpy, it will be understood as (type, (1,)) / '(1,)type'.\n",
      "  _np_quint16 = np.dtype([(\"quint16\", np.uint16, 1)])\n",
      "/users/amr1/miniconda3/envs/basepair/lib/python3.6/site-packages/tensorflow/python/framework/dtypes.py:520: FutureWarning: Passing (type, 1) or '1type' as a synonym of type is deprecated; in a future version of numpy, it will be understood as (type, (1,)) / '(1,)type'.\n",
      "  _np_qint32 = np.dtype([(\"qint32\", np.int32, 1)])\n",
      "/users/amr1/miniconda3/envs/basepair/lib/python3.6/site-packages/tensorflow/python/framework/dtypes.py:525: FutureWarning: Passing (type, 1) or '1type' as a synonym of type is deprecated; in a future version of numpy, it will be understood as (type, (1,)) / '(1,)type'.\n",
      "  np_resource = np.dtype([(\"resource\", np.ubyte, 1)])\n",
      "/users/amr1/miniconda3/envs/basepair/lib/python3.6/site-packages/tensorboard/compat/tensorflow_stub/dtypes.py:541: FutureWarning: Passing (type, 1) or '1type' as a synonym of type is deprecated; in a future version of numpy, it will be understood as (type, (1,)) / '(1,)type'.\n",
      "  _np_qint8 = np.dtype([(\"qint8\", np.int8, 1)])\n",
      "/users/amr1/miniconda3/envs/basepair/lib/python3.6/site-packages/tensorboard/compat/tensorflow_stub/dtypes.py:542: FutureWarning: Passing (type, 1) or '1type' as a synonym of type is deprecated; in a future version of numpy, it will be understood as (type, (1,)) / '(1,)type'.\n",
      "  _np_quint8 = np.dtype([(\"quint8\", np.uint8, 1)])\n",
      "/users/amr1/miniconda3/envs/basepair/lib/python3.6/site-packages/tensorboard/compat/tensorflow_stub/dtypes.py:543: FutureWarning: Passing (type, 1) or '1type' as a synonym of type is deprecated; in a future version of numpy, it will be understood as (type, (1,)) / '(1,)type'.\n",
      "  _np_qint16 = np.dtype([(\"qint16\", np.int16, 1)])\n",
      "/users/amr1/miniconda3/envs/basepair/lib/python3.6/site-packages/tensorboard/compat/tensorflow_stub/dtypes.py:544: FutureWarning: Passing (type, 1) or '1type' as a synonym of type is deprecated; in a future version of numpy, it will be understood as (type, (1,)) / '(1,)type'.\n",
      "  _np_quint16 = np.dtype([(\"quint16\", np.uint16, 1)])\n",
      "/users/amr1/miniconda3/envs/basepair/lib/python3.6/site-packages/tensorboard/compat/tensorflow_stub/dtypes.py:545: FutureWarning: Passing (type, 1) or '1type' as a synonym of type is deprecated; in a future version of numpy, it will be understood as (type, (1,)) / '(1,)type'.\n",
      "  _np_qint32 = np.dtype([(\"qint32\", np.int32, 1)])\n",
      "/users/amr1/miniconda3/envs/basepair/lib/python3.6/site-packages/tensorboard/compat/tensorflow_stub/dtypes.py:550: FutureWarning: Passing (type, 1) or '1type' as a synonym of type is deprecated; in a future version of numpy, it will be understood as (type, (1,)) / '(1,)type'.\n",
      "  np_resource = np.dtype([(\"resource\", np.ubyte, 1)])\n"
     ]
    }
   ],
   "source": [
    "import keras_genomics\n",
    "from keras_genomics.layers.convolutional import RevCompConv1D\n",
    "import keras\n",
    "import keras.layers as kl\n",
    "import tensorflow as tf\n",
    "import tensorflow_probability as tfp\n",
    "import numpy as np\n",
    "from seqdataloader.batchproducers import coordbased\n",
    "from seqdataloader.batchproducers.coordbased import coordstovals\n",
    "from seqdataloader.batchproducers.coordbased import coordbatchproducers\n",
    "from seqdataloader.batchproducers.coordbased import coordbatchtransformers\n",
    "from keras.models import load_model\n",
    "from keras.utils import CustomObjectScope\n",
    "from deeplift.dinuc_shuffle import dinuc_shuffle\n",
    "import json\n",
    "import os\n",
    "import gzip\n",
    "from math import log\n",
    "from matplotlib import pyplot as plt\n",
    "from scipy.stats import spearmanr, pearsonr, gaussian_kde\n",
    "%matplotlib inline"
   ]
  },
  {
   "cell_type": "code",
   "execution_count": 2,
   "metadata": {},
   "outputs": [],
   "source": [
    "os.environ[\"CUDA_VISIBLE_DEVICES\"]=\"1\"\n",
    "def multinomial_nll(true_counts, logits):\n",
    "    \"\"\"Compute the multinomial negative log-likelihood\n",
    "    Args:\n",
    "      true_counts: observed count values\n",
    "      logits: predicted logit values\n",
    "    \"\"\"\n",
    "    counts_per_example = tf.reduce_sum(true_counts, axis=-1)\n",
    "    dist = tfp.distributions.Multinomial(total_count=counts_per_example,\n",
    "                                         logits=logits)\n",
    "    return (-tf.reduce_sum(dist.log_prob(true_counts)) / \n",
    "            tf.to_float(tf.shape(true_counts)[0]))\n",
    "\n",
    "#from https://github.com/kundajelab/basepair/blob/cda0875571066343cdf90aed031f7c51714d991a/basepair/losses.py#L87\n",
    "class MultichannelMultinomialNLL(object):\n",
    "    def __init__(self, n):\n",
    "        self.__name__ = \"MultichannelMultinomialNLL\"\n",
    "        self.n = n\n",
    "\n",
    "    def __call__(self, true_counts, logits):\n",
    "        for i in range(self.n):\n",
    "            loss = multinomial_nll(true_counts[..., i], logits[..., i])\n",
    "            if i == 0:\n",
    "                total = loss\n",
    "            else:\n",
    "                total += loss\n",
    "        return total\n",
    "\n",
    "    def get_config(self):\n",
    "        return {\"n\": self.n}"
   ]
  },
  {
   "cell_type": "code",
   "execution_count": 3,
   "metadata": {},
   "outputs": [
    {
     "name": "stdout",
     "output_type": "stream",
     "text": [
      "WARNING:tensorflow:From /users/amr1/miniconda3/envs/basepair/lib/python3.6/site-packages/keras/backend/tensorflow_backend.py:517: The name tf.placeholder is deprecated. Please use tf.compat.v1.placeholder instead.\n",
      "\n",
      "WARNING:tensorflow:From /users/amr1/miniconda3/envs/basepair/lib/python3.6/site-packages/keras/backend/tensorflow_backend.py:4138: The name tf.random_uniform is deprecated. Please use tf.random.uniform instead.\n",
      "\n",
      "WARNING:tensorflow:From /users/amr1/miniconda3/envs/basepair/lib/python3.6/site-packages/keras/backend/tensorflow_backend.py:174: The name tf.get_default_session is deprecated. Please use tf.compat.v1.get_default_session instead.\n",
      "\n",
      "WARNING:tensorflow:From /users/amr1/miniconda3/envs/basepair/lib/python3.6/site-packages/keras/backend/tensorflow_backend.py:181: The name tf.ConfigProto is deprecated. Please use tf.compat.v1.ConfigProto instead.\n",
      "\n",
      "WARNING:tensorflow:From /users/amr1/miniconda3/envs/basepair/lib/python3.6/site-packages/keras/backend/tensorflow_backend.py:186: The name tf.Session is deprecated. Please use tf.compat.v1.Session instead.\n",
      "\n",
      "WARNING:tensorflow:From /users/amr1/miniconda3/envs/basepair/lib/python3.6/site-packages/keras/optimizers.py:790: The name tf.train.Optimizer is deprecated. Please use tf.compat.v1.train.Optimizer instead.\n",
      "\n",
      "WARNING:tensorflow:From <ipython-input-2-421d4d69b1e2>:12: to_float (from tensorflow.python.ops.math_ops) is deprecated and will be removed in a future version.\n",
      "Instructions for updating:\n",
      "Use `tf.cast` instead.\n"
     ]
    }
   ],
   "source": [
    "with CustomObjectScope({'MultichannelMultinomialNLL': MultichannelMultinomialNLL,'RevCompConv1D': RevCompConv1D}):\n",
    "    model = load_model(\"data/models/pho4_chipexo_30min_model.h5\")"
   ]
  },
  {
   "cell_type": "code",
   "execution_count": 4,
   "metadata": {},
   "outputs": [],
   "source": [
    "max_lib2_keyToSeq = {}\n",
    "max_rept_keyToSeq = {}\n",
    "max_lib2_keyToDdG = {}\n",
    "max_rept_keyToDdG = {}"
   ]
  },
  {
   "cell_type": "code",
   "execution_count": 5,
   "metadata": {},
   "outputs": [
    {
     "name": "stdout",
     "output_type": "stream",
     "text": [
      "name,sequence,Pho4_mean_ddG,Max_mean_ddG\n",
      "Rand_long1,CGCCCCAGCACTGCCAAGCCGACGTTAAAACGGGTTGCTTCATCAATCGAATGTCAATACATAGTCACGTGACACGCGGTAGGCTCGCTATCGGCACTTGCGCTTGAGTGCATCGAATAGTTCGGTTTATGAGCGTCCGGCGGTATGAC,0.0,0.0\n",
      "GT_AC_45bp,CGCCCCAGCACTGCCAAGTGTGTGTGTGTGTGTGTGTGTGTGTGTGTGTGTGTGTGTGTGTGTGTCACGTGACACACACACACACACACACACACACACACACACACACACACACACAAGTTCGGTTTATGAGCGTCCGGCGGTATGAC,-0.6778106530502541,-0.13632404766909867\n",
      "GC_GC_repeat,CGCGCGCGCGCGCGCGCGCGCGCGCGCGCGCGCGCGCGCGCGCGCGCGCGCGCGCGCGCGCGCGTCACGTGACGCGCGCGCGCGCGCGCGCGCGCGCGCGCGCGCGCGCGCGCGCGCGCGCGCGCGCGCGCGCCGTCCGGCGGTATGAC,-0.6175501334109968,-0.6428362367973494\n",
      "GC_AT_30+30+0,CGCGCGCGCGCGCGCGCGCGCGCGCGCGCGCGCGTTGCTTCATCAATCGAATGTCAATACATAGTCACGTGACACGCGGTAGGCTCGCTATCGGCACTTGCGCTATATATATATATATATATATATATATATACGTCCGGCGGTATGAC,-0.613228447720681,-0.6380198071302782\n",
      "GA_CT_30+30+0,CGCGAGAGAGAGAGAGAGAGAGAGAGAGAGAGAGTTGCTTCATCAATCGAATGTCAATACATAGTCACGTGACACGCGGTAGGCTCGCTATCGGCACTTGCGCCTCTCTCTCTCTCTCTCTCTCTCTCTCTCTCGTCCGGCGGTATGAC,-0.17561334131478698,0.09165916533840916\n",
      "GT_scrambled_7,CGCTGGTTTGGTTTGTGGGTGGGGTTTGTTTTGGTGTTTGTTGTGGGTGGTTTGGGTGGGGTTGTCACGTGACAACCCCACCCAAACCACCCACAACAAACACCAAAACAAACCCCACCCACAAACCAAACCACGTCCGGCGGTATGAC,-0.523673235898959,0.16473055361146444\n",
      "Rand_long2,CGCGTTTAACGCGGACGCGTAATCCTTTCCACATCGTGGCGCCTGCCGATCCCGACTGGACTTGTCACGTGACGAATGGAATGGTTCCGACAATAGATCAACAAGAAGTGGTAAGTAGGCTCACATTGCTTTCCGTCCGGCGGTATGAC,-0.1880139112524242,0.17527493127040253\n",
      "GT_AC_60bp,CGCGTGTGTGTGTGTGTGTGTGTGTGTGTGTGTGTGTGTGTGTGTGTGTGTGTGTGTGTGTGTGTCACGTGACACACACACACACACACACACACACACACACACACACACACACACACACACACACACACACCGTCCGGCGGTATGAC,-0.4568412669111599,-0.0331286004615671\n",
      "AT_AT_repeat,CGCATATATATATATATATATATATATATATATATATATATATATATATATATATATATATATGTCACGTGACATATATATATATATATATATATATATATATATATATATATATATATATATATATATATATCGTCCGGCGGTATGAC,-0.14712796842342576,0.7275043018274299\n"
     ]
    }
   ],
   "source": [
    "!head data/experimental/lib2_mean_ddGs_excludedegenerate.csv"
   ]
  },
  {
   "cell_type": "code",
   "execution_count": 6,
   "metadata": {},
   "outputs": [
    {
     "name": "stdout",
     "output_type": "stream",
     "text": [
      "name,sequence,Pho4_mean_ddG,Max_mean_ddG\n",
      "Motif_and_repeat_strong_5,CGCTGTGTGTGTGTGTGTCACGTGACACACACCACAAACGTCCGGCGGTATGAC,0.0,0.0\n",
      "Motif_and_half_repeat_strong_12,CGCAAGGCTTGTGTGTGTCACGTGACACCACACATCGATGTCCGGCGGTATGAC,0.3894316305681954,-0.054177249724240414\n",
      "CACGCG_RAND5,CGCACAGTCACTTAACGTCACGCGACCGGGGTATTTCAGGTCCGGCGGTATGAC,1.4670066671588076,1.3299561013868155\n",
      "No_Motif_No_Repeat1,CGCCGCAGAGTCTCATTCTCCATACGCTGTAAAGTGGGAGTCCGGCGGTATGAC,1.728111359856401,1.434723755929844\n",
      "Motif_and_repeat_strong_6,CGCATATATATATAGAGTCACGTGACTCTCGCGCGCGCGGTCCGGCGGTATGAC,0.17671646928607426,-0.1706078971117761\n",
      "Motif_and_half_repeat_strong_14,CGCAGTGACGCGCAGAGTCACGTGACTCTATATTACGCTGTCCGGCGGTATGAC,0.7389271322412421,-0.10774786746869981\n",
      "CACGCG_RAND8,CGCGATCGGCGCGGACGTCACGCGACCTCTAATTTTAAAGTCCGGCGGTATGAC,1.593243812268279,1.2099839444057396\n",
      "No_Motif_No_Repeat2,CGCCCTGTCGGGAAAGACCATTGTTCTCTAAAGAGCTCGGTCCGGCGGTATGAC,1.8070692327794484,1.3918797069422961\n",
      "Motif_and_repeat_strong_10,CGCTGTGTGTGTGTGTGTCACGTGACACACAACACACACGTCCGGCGGTATGAC,0.07313031209457185,-0.086851334590548\n"
     ]
    }
   ],
   "source": [
    "!head data/experimental/lib1_mean_ddGs.csv"
   ]
  },
  {
   "cell_type": "code",
   "execution_count": 7,
   "metadata": {},
   "outputs": [],
   "source": [
    "firstLine = True\n",
    "with open(\"data/experimental/lib2_mean_ddGs_excludedegenerate.csv\", encoding='utf-8-sig') as inp:\n",
    "    for line in inp:\n",
    "        if firstLine:\n",
    "            firstLine = False\n",
    "            continue\n",
    "        max_lib2_keyToSeq[line.strip().split(',')[0]] = line.strip().split(',')[1]\n",
    "        max_lib2_keyToDdG[line.strip().split(',')[0]] = float(line.strip().split(',')[-2])"
   ]
  },
  {
   "cell_type": "code",
   "execution_count": 8,
   "metadata": {},
   "outputs": [],
   "source": [
    "firstLine = True\n",
    "with open(\"data/experimental/lib1_mean_ddGs.csv\", encoding='utf-8-sig') as inp:\n",
    "    for line in inp:\n",
    "        if firstLine:\n",
    "            firstLine = False\n",
    "            continue\n",
    "        max_rept_keyToSeq[line.strip().split(',')[0]] = line.strip().split(',')[1]\n",
    "        max_rept_keyToDdG[line.strip().split(',')[0]] = float(line.strip().split(',')[-2])"
   ]
  },
  {
   "cell_type": "code",
   "execution_count": 13,
   "metadata": {},
   "outputs": [],
   "source": [
    "fastapath = \"data/genome/saccer/sacCer3.genome.fa\"\n",
    "GenomeDict={}\n",
    "sequence=''\n",
    "inputdatafile = open(fastapath)\n",
    "for line in inputdatafile:\n",
    "    if line[0]=='>':\n",
    "        if sequence != '':\n",
    "            GenomeDict[chrm] = ''.join(sequence)\n",
    "        chrm = line.strip().split('>')[1]\n",
    "        sequence=[]\n",
    "        Keep=False\n",
    "        continue\n",
    "    else:\n",
    "        sequence.append(line.strip())\n",
    "GenomeDict[chrm] = ''.join(sequence)\n",
    "\n",
    "seq_len = 546  #550\n",
    "out_pred_len = 200\n",
    "test_chrms = [\"chrX\", \"chrXI\"]\n",
    "seq_peaks = []\n",
    "with gzip.open(\"data/nexus/30min/1k_around_summits.bed.gz\", 'rt') as inp:\n",
    "    for line in inp:\n",
    "        chrm = line.strip().split('\\t')[0]\n",
    "        if chrm not in test_chrms:\n",
    "            continue\n",
    "        pStart = int(line.strip().split('\\t')[1])\n",
    "        summit = pStart + 500#int(line.strip().split('\\t')[-1])\n",
    "        start = int(summit - (seq_len/2))\n",
    "        end = int(summit + (seq_len/2))\n",
    "        seq_peaks.append(GenomeDict[chrm][start:end].upper())\n",
    "    \n",
    "ltrdict = {\n",
    "           'a':[1,0,0,0],'c':[0,1,0,0],'g':[0,0,1,0],'t':[0,0,0,1],\n",
    "           'n':[0,0,0,0],'A':[1,0,0,0],'C':[0,1,0,0],'G':[0,0,1,0],\n",
    "           'T':[0,0,0,1],'N':[0,0,0,0]}\n",
    "def getOneHot(ISM_sequences):\n",
    "  # takes in list of sequences\n",
    "    one_hot_seqs = []\n",
    "    for seq in ISM_sequences:\n",
    "        one_hot = []\n",
    "        for i in range(len(seq)):\n",
    "            one_hot.append(ltrdict[seq[i:i+1]])\n",
    "        one_hot_seqs.append(one_hot)\n",
    "    return np.array(one_hot_seqs)"
   ]
  },
  {
   "cell_type": "code",
   "execution_count": 14,
   "metadata": {},
   "outputs": [],
   "source": [
    "def fill_into_center(seq, insert):\n",
    "    flank = int((len(seq)-len(insert))/2.0)\n",
    "    new_seq = seq[:flank]+insert+seq[flank+len(insert):]\n",
    "    return new_seq"
   ]
  },
  {
   "cell_type": "code",
   "execution_count": 15,
   "metadata": {},
   "outputs": [],
   "source": [
    "from deeplift.dinuc_shuffle import dinuc_shuffle\n",
    "num_samples = 100\n",
    "indices = np.random.choice(len(seq_peaks), num_samples, replace=False)\n",
    "yvals_lib2 = {}\n",
    "for key in max_lib2_keyToSeq:\n",
    "    pre_seqs = []\n",
    "    post_seqs = []\n",
    "    for idx in indices:\n",
    "        pre_seq = dinuc_shuffle(seq_peaks[idx])\n",
    "        post_seq = fill_into_center(pre_seq, max_lib2_keyToSeq[key])\n",
    "        pre_seqs.append(pre_seq)\n",
    "        post_seqs.append(post_seq)\n",
    "    pre = model.predict(getOneHot(pre_seqs))\n",
    "    post = model.predict(getOneHot(post_seqs))\n",
    "    yvals_lib2[key] = np.mean(post[0]-pre[0])"
   ]
  },
  {
   "cell_type": "code",
   "execution_count": 16,
   "metadata": {},
   "outputs": [],
   "source": [
    "yvals_rept = {}\n",
    "for key in max_rept_keyToSeq:\n",
    "    pre_seqs = []\n",
    "    post_seqs = []\n",
    "    for idx in indices:\n",
    "        pre_seq = dinuc_shuffle(seq_peaks[idx])\n",
    "        post_seq = fill_into_center(pre_seq, max_rept_keyToSeq[key])\n",
    "        pre_seqs.append(pre_seq)\n",
    "        post_seqs.append(post_seq)\n",
    "    pre = model.predict(getOneHot(pre_seqs))\n",
    "    post = model.predict(getOneHot(post_seqs))\n",
    "    #post = model.predict([getOneHot(post_seqs), np.zeros((num_samples,)), np.zeros((num_samples,out_pred_len,2))])\n",
    "    yvals_rept[key] = np.mean(post[0]-pre[0])"
   ]
  },
  {
   "cell_type": "code",
   "execution_count": 17,
   "metadata": {},
   "outputs": [
    {
     "data": {
      "image/png": "[encoded data removed]",
      "text/plain": [
       "<Figure size 432x288 with 1 Axes>"
      ]
     },
     "metadata": {},
     "output_type": "display_data"
    }
   ],
   "source": [
    "xvals = []\n",
    "yvals = []\n",
    "for key in max_rept_keyToSeq:\n",
    "    yvals.append(yvals_rept[key])\n",
    "    xvals.append(max_rept_keyToDdG[key])\n",
    "    \n",
    "xy = np.vstack([xvals,yvals])\n",
    "z = gaussian_kde(xy)(xy)\n",
    "smallFont = {'size' : 10}\n",
    "plt.rc('font', **smallFont)\n",
    "fig, ax = plt.subplots()\n",
    "ax.scatter(xvals, yvals, c=z, edgecolor='', alpha=0.5)\n",
    "plt.xlabel(\"DDG\")\n",
    "plt.ylabel(\"Delta Log Counts\")\n",
    "plt.title(\"DDG vs model predictions: \"+str(spearmanr(xvals, yvals)))\n",
    "plt.show()"
   ]
  },
  {
   "cell_type": "code",
   "execution_count": 18,
   "metadata": {},
   "outputs": [
    {
     "data": {
      "image/png": "[encoded data removed]",
      "text/plain": [
       "<Figure size 432x288 with 1 Axes>"
      ]
     },
     "metadata": {},
     "output_type": "display_data"
    }
   ],
   "source": [
    "xvals = []\n",
    "yvals = []\n",
    "for key in max_lib2_keyToSeq:\n",
    "    yvals.append(yvals_lib2[key])\n",
    "    xvals.append(max_lib2_keyToDdG[key])\n",
    "    \n",
    "xy = np.vstack([xvals,yvals])\n",
    "z = gaussian_kde(xy)(xy)\n",
    "smallFont = {'size' : 10}\n",
    "plt.rc('font', **smallFont)\n",
    "fig, ax = plt.subplots()\n",
    "ax.scatter(xvals, yvals, c=z, edgecolor='', alpha=0.5)\n",
    "plt.xlabel(\"DDG\")\n",
    "plt.ylabel(\"Delta Log Counts\")\n",
    "plt.title(\"DDG vs model predictions: \"+str(spearmanr(xvals, yvals)))\n",
    "plt.show()"
   ]
  },
  {
   "cell_type": "code",
   "execution_count": null,
   "metadata": {},
   "outputs": [],
   "source": [
    "import shap\n",
    "from deeplift.dinuc_shuffle import dinuc_shuffle\n",
    "\n",
    "def combine_mult_and_diffref(mult, orig_inp, bg_data):\n",
    "    to_return = []\n",
    "    for l in [0]:\n",
    "        projected_hypothetical_contribs = np.zeros_like(bg_data[l]).astype(\"float\")\n",
    "        assert len(orig_inp[l].shape)==2\n",
    "        #At each position in the input sequence, we iterate over the one-hot encoding\n",
    "        # possibilities (eg: for genomic sequence, this is ACGT i.e.\n",
    "        # 1000, 0100, 0010 and 0001) and compute the hypothetical \n",
    "        # difference-from-reference in each case. We then multiply the hypothetical\n",
    "        # differences-from-reference with the multipliers to get the hypothetical contributions.\n",
    "        #For each of the one-hot encoding possibilities,\n",
    "        # the hypothetical contributions are then summed across the ACGT axis to estimate\n",
    "        # the total hypothetical contribution of each position. This per-position hypothetical\n",
    "        # contribution is then assigned (\"projected\") onto whichever base was present in the\n",
    "        # hypothetical sequence.\n",
    "        #The reason this is a fast estimate of what the importance scores *would* look\n",
    "        # like if different bases were present in the underlying sequence is that\n",
    "        # the multipliers are computed once using the original sequence, and are not\n",
    "        # computed again for each hypothetical sequence.\n",
    "        for i in range(orig_inp[l].shape[-1]):\n",
    "            hypothetical_input = np.zeros_like(orig_inp[l]).astype(\"float\")\n",
    "            hypothetical_input[:,i] = 1.0\n",
    "            hypothetical_difference_from_reference = (hypothetical_input[None,:,:]-bg_data[l])\n",
    "            hypothetical_contribs = hypothetical_difference_from_reference*mult[l]\n",
    "            projected_hypothetical_contribs[:,:,i] = np.sum(hypothetical_contribs,axis=-1) \n",
    "        to_return.append(np.mean(projected_hypothetical_contribs,axis=0))\n",
    "    to_return.append(np.zeros_like(orig_inp[1]))\n",
    "    return to_return\n",
    "\n",
    "def shuffle_several_times(s):\n",
    "    numshuffles=20\n",
    "    return [np.array([dinuc_shuffle(s[0]) for i in range(numshuffles)]),\n",
    "            np.array([s[1] for i in range(numshuffles)])]\n",
    "\n",
    "profile_model_counts_explainer = shap.explainers.deep.TFDeepExplainer(\n",
    "    ([model.input[0], model.input[1]],\n",
    "     tf.reduce_sum(model.outputs[0],axis=-1)),\n",
    "    shuffle_several_times,\n",
    "    combine_mult_and_diffref=combine_mult_and_diffref)\n",
    "\n",
    "#See Google slide deck for explanations\n",
    "#We meannorm as per section titled \"Adjustments for Softmax Layers\"\n",
    "# in the DeepLIFT paper\n",
    "meannormed_logits = (\n",
    "    model.outputs[1]-\n",
    "    tf.reduce_mean(model.outputs[1],axis=1)[:,None,:])\n",
    "#'stop_gradient' will prevent importance from being propagated through\n",
    "# this operation; we do this because we just want to treat the post-softmax\n",
    "# probabilities as 'weights' on the different logits, without having the\n",
    "# network explain how the probabilities themselves were derived\n",
    "#Could be worth contrasting explanations derived with and without stop_gradient\n",
    "# enabled...\n",
    "stopgrad_meannormed_logits = tf.stop_gradient(meannormed_logits)\n",
    "softmax_out = tf.nn.softmax(stopgrad_meannormed_logits,axis=1)\n",
    "#Weight the logits according to the softmax probabilities, take the sum for each\n",
    "# example. This mirrors what was done for the bpnet paper.\n",
    "weightedsum_meannormed_logits = tf.reduce_sum(softmax_out*meannormed_logits,\n",
    "                                              axis=(1,2))\n",
    "profile_model_profile_explainer = shap.explainers.deep.TFDeepExplainer(\n",
    "    ([model.input[0], model.input[2]],\n",
    "     weightedsum_meannormed_logits),\n",
    "    shuffle_several_times,\n",
    "    combine_mult_and_diffref=combine_mult_and_diffref)"
   ]
  },
  {
   "cell_type": "code",
   "execution_count": null,
   "metadata": {},
   "outputs": [],
   "source": [
    "to_interpret = []\n",
    "background = dinuc_shuffle(seq_peaks[idx])\n",
    "max_rept_keyToSeq[\"background\"] = \"\"\n",
    "max_rept_keyToDdG[\"background\"] = 1.5\n",
    "for key in max_rept_keyToSeq:\n",
    "    to_interpret.append(fill_into_center(pre_seq, max_rept_keyToSeq[key]))\n",
    "preds = np.mean(model.predict([getOneHot(to_interpret), np.zeros((len(to_interpret),)), np.zeros((len(to_interpret),out_pred_len,2))])[0], axis = -1)\n",
    "pred_profiles = model.predict([getOneHot(to_interpret), np.zeros((len(to_interpret),)), np.zeros((len(to_interpret),out_pred_len,2))])[1]"
   ]
  },
  {
   "cell_type": "code",
   "execution_count": null,
   "metadata": {},
   "outputs": [],
   "source": [
    "xvals = []\n",
    "for key in max_rept_keyToSeq:\n",
    "    xvals.append(max_rept_keyToDdG[key])\n",
    "    \n",
    "xy = np.vstack([xvals,preds])\n",
    "z = gaussian_kde(xy)(xy)\n",
    "smallFont = {'size' : 10}\n",
    "plt.rc('font', **smallFont)\n",
    "fig, ax = plt.subplots()\n",
    "ax.scatter(xvals, preds, c=z, edgecolor='', alpha=0.5)\n",
    "plt.xlabel(\"DDG\")\n",
    "plt.ylabel(\"Delta Log Counts\")\n",
    "plt.title(\"DDG vs model predictions: \"+str(spearmanr(xvals, preds)))\n",
    "plt.show()"
   ]
  },
  {
   "cell_type": "code",
   "execution_count": null,
   "metadata": {},
   "outputs": [],
   "source": [
    "to_interpret = getOneHot(to_interpret)"
   ]
  },
  {
   "cell_type": "code",
   "execution_count": null,
   "metadata": {},
   "outputs": [],
   "source": [
    "#The shap scores\n",
    "post_counts_hypimps,_ = profile_model_counts_explainer.shap_values(\n",
    "    [to_interpret, np.zeros((len(to_interpret), 1))],\n",
    "    progress_message=10)\n",
    "post_profile_hypimps,_ = profile_model_profile_explainer.shap_values(\n",
    "    [to_interpret, np.zeros((len(to_interpret), out_pred_len, 2))],\n",
    "    progress_message=10)\n",
    "\n",
    "post_counts_actualimps = post_counts_hypimps*to_interpret\n",
    "post_profile_actualimps = post_profile_hypimps*to_interpret"
   ]
  },
  {
   "cell_type": "code",
   "execution_count": null,
   "metadata": {},
   "outputs": [],
   "source": [
    "from deeplift.visualization import viz_sequence\n",
    "from matplotlib import pyplot as plt\n",
    "from matplotlib.ticker import FormatStrFormatter\n",
    "\n",
    "def smooth(vals):\n",
    "    return np.convolve(vals, np.ones(1,)/1, mode='same')\n",
    "\n",
    "for idx, key in enumerate(max_rept_keyToSeq.keys()):\n",
    "    print(\"idx\",idx)\n",
    "    print(\"key\",key)\n",
    "    print(\"sequence\",max_rept_keyToSeq[key])\n",
    "    print(\"DDG\",max_rept_keyToDdG[key])\n",
    "    print(\"log count pred\",preds[idx])\n",
    "    \n",
    "    for oneovertemp in [1.0]:\n",
    "        print(\"oneovertemp\",oneovertemp)\n",
    "        print(pred_profiles[idx].shape)\n",
    "        print(\"Pred profile shape\", pred_profiles[idx].shape)\n",
    "        pred_profile = preds[idx] *(np.exp(pred_profiles[idx]*oneovertemp)/\n",
    "                                    np.sum(np.exp(pred_profiles[idx]*oneovertemp),axis=0)[None,:])   \n",
    "        plt.figure(figsize=(20,2))\n",
    "\n",
    "        start_view = 0\n",
    "        end_view = seq_len\n",
    "        total_flanking = seq_len - out_pred_len\n",
    "        left_flank = int(0.5*total_flanking)\n",
    "        right_flank = total_flanking - left_flank\n",
    "        plt.plot(np.arange(out_pred_len)+left_flank, pred_profile[:,0])\n",
    "        plt.plot(np.arange(out_pred_len)+left_flank, -pred_profile[:,1])\n",
    "        plt.xlim(start_view,end_view)\n",
    "        plt.gca().yaxis.set_major_formatter(FormatStrFormatter('%.4f'))\n",
    "        plt.show()\n",
    "\n",
    "    print(\"counts imp\")\n",
    "    viz_sequence.plot_weights(post_counts_actualimps[idx][start_view:end_view],\n",
    "                            subticks_frequency=10)\n",
    "    print(\"profile imp\")\n",
    "    viz_sequence.plot_weights(post_profile_actualimps[idx][start_view:end_view],\n",
    "                            subticks_frequency=10)"
   ]
  },
  {
   "cell_type": "code",
   "execution_count": null,
   "metadata": {},
   "outputs": [],
   "source": [
    "for idx, key in enumerate(max_rept_keyToSeq.keys()):\n",
    "    print(\"idx\",idx)\n",
    "    print(\"key\",key)\n",
    "    print(\"sequence\",max_rept_keyToSeq[key])\n",
    "    print(\"DDG\",max_rept_keyToDdG[key])\n",
    "    print(\"log count pred\",preds[idx])\n",
    "    \n",
    "    for oneovertemp in [1.0]:\n",
    "        print(\"oneovertemp\",oneovertemp)\n",
    "        print(pred_profiles[idx].shape)\n",
    "        print(\"Pred profile shape\", pred_profiles[idx].shape)\n",
    "        pred_profile = preds[idx] *(np.exp(pred_profiles[idx]*oneovertemp)/\n",
    "                                    np.sum(np.exp(pred_profiles[idx]*oneovertemp),axis=0)[None,:])   \n",
    "        plt.figure(figsize=(20,2))\n",
    "\n",
    "        start_view = 500\n",
    "        end_view = 800\n",
    "        total_flanking = seq_len - out_pred_len\n",
    "        left_flank = int(0.5*total_flanking)\n",
    "        right_flank = total_flanking - left_flank\n",
    "        plt.plot(np.arange(out_pred_len)+left_flank, pred_profile[:,0])\n",
    "        plt.plot(np.arange(out_pred_len)+left_flank, -pred_profile[:,1])\n",
    "        plt.xlim(start_view,end_view)\n",
    "        plt.gca().yaxis.set_major_formatter(FormatStrFormatter('%.4f'))\n",
    "        plt.show()\n",
    "\n",
    "    print(\"counts imp\")\n",
    "    viz_sequence.plot_weights(post_counts_actualimps[idx][start_view:end_view],\n",
    "                            subticks_frequency=10)\n",
    "    print(\"profile imp\")\n",
    "    viz_sequence.plot_weights(post_profile_actualimps[idx][start_view:end_view],\n",
    "                            subticks_frequency=10)"
   ]
  },
  {
   "cell_type": "code",
   "execution_count": 19,
   "metadata": {},
   "outputs": [
    {
     "name": "stdout",
     "output_type": "stream",
     "text": [
      "Rand_long1,CGCCCCAGCACTGCCAAGCCGACGTTAAAACGGGTTGCTTCATCAATCGAATGTCAATACATAGTCACGTGACACGCGGTAGGCTCGCTATCGGCACTTGCGCTTGAGTGCATCGAATAGTTCGGTTTATGAGCGTCCGGCGGTATGAC,0.35982284\n",
      "GT_AC_45bp,CGCCCCAGCACTGCCAAGTGTGTGTGTGTGTGTGTGTGTGTGTGTGTGTGTGTGTGTGTGTGTGTCACGTGACACACACACACACACACACACACACACACACACACACACACACACAAGTTCGGTTTATGAGCGTCCGGCGGTATGAC,0.1504052\n",
      "GC_GC_repeat,CGCGCGCGCGCGCGCGCGCGCGCGCGCGCGCGCGCGCGCGCGCGCGCGCGCGCGCGCGCGCGCGTCACGTGACGCGCGCGCGCGCGCGCGCGCGCGCGCGCGCGCGCGCGCGCGCGCGCGCGCGCGCGCGCGCCGTCCGGCGGTATGAC,0.15909371\n",
      "GC_AT_30+30+0,CGCGCGCGCGCGCGCGCGCGCGCGCGCGCGCGCGTTGCTTCATCAATCGAATGTCAATACATAGTCACGTGACACGCGGTAGGCTCGCTATCGGCACTTGCGCTATATATATATATATATATATATATATATACGTCCGGCGGTATGAC,0.39176002\n",
      "GA_CT_30+30+0,CGCGAGAGAGAGAGAGAGAGAGAGAGAGAGAGAGTTGCTTCATCAATCGAATGTCAATACATAGTCACGTGACACGCGGTAGGCTCGCTATCGGCACTTGCGCCTCTCTCTCTCTCTCTCTCTCTCTCTCTCTCGTCCGGCGGTATGAC,0.2882929\n",
      "GT_scrambled_7,CGCTGGTTTGGTTTGTGGGTGGGGTTTGTTTTGGTGTTTGTTGTGGGTGGTTTGGGTGGGGTTGTCACGTGACAACCCCACCCAAACCACCCACAACAAACACCAAAACAAACCCCACCCACAAACCAAACCACGTCCGGCGGTATGAC,0.13127342\n",
      "Rand_long2,CGCGTTTAACGCGGACGCGTAATCCTTTCCACATCGTGGCGCCTGCCGATCCCGACTGGACTTGTCACGTGACGAATGGAATGGTTCCGACAATAGATCAACAAGAAGTGGTAAGTAGGCTCACATTGCTTTCCGTCCGGCGGTATGAC,0.22166142\n",
      "GT_AC_60bp,CGCGTGTGTGTGTGTGTGTGTGTGTGTGTGTGTGTGTGTGTGTGTGTGTGTGTGTGTGTGTGTGTCACGTGACACACACACACACACACACACACACACACACACACACACACACACACACACACACACACACCGTCCGGCGGTATGAC,0.16950153\n",
      "AT_AT_repeat,CGCATATATATATATATATATATATATATATATATATATATATATATATATATATATATATATGTCACGTGACATATATATATATATATATATATATATATATATATATATATATATATATATATATATATATCGTCCGGCGGTATGAC,-0.039876662\n",
      "GC_AT_45+15+0,CGCGCGCGCGCGCGCGCGCCGACGTTAAAACGGGTTGCTTCATCAATCGAATGTCAATACATAGTCACGTGACACGCGGTAGGCTCGCTATCGGCACTTGCGCTTGAGTGCATCGAATTATATATATATATATCGTCCGGCGGTATGAC,0.3868602\n",
      "Motif_and_repeat_strong_5,CGCTGTGTGTGTGTGTGTCACGTGACACACACCACAAACGTCCGGCGGTATGAC,0.21004185\n",
      "Motif_and_half_repeat_strong_12,CGCAAGGCTTGTGTGTGTCACGTGACACCACACATCGATGTCCGGCGGTATGAC,0.1861716\n",
      "CACGCG_RAND5,CGCACAGTCACTTAACGTCACGCGACCGGGGTATTTCAGGTCCGGCGGTATGAC,0.08748987\n",
      "No_Motif_No_Repeat1,CGCCGCAGAGTCTCATTCTCCATACGCTGTAAAGTGGGAGTCCGGCGGTATGAC,0.018611195\n",
      "Motif_and_repeat_strong_6,CGCATATATATATAGAGTCACGTGACTCTCGCGCGCGCGGTCCGGCGGTATGAC,0.22073746\n",
      "Motif_and_half_repeat_strong_14,CGCAGTGACGCGCAGAGTCACGTGACTCTATATTACGCTGTCCGGCGGTATGAC,0.21237631\n",
      "CACGCG_RAND8,CGCGATCGGCGCGGACGTCACGCGACCTCTAATTTTAAAGTCCGGCGGTATGAC,0.06952749\n",
      "No_Motif_No_Repeat2,CGCCCTGTCGGGAAAGACCATTGTTCTCTAAAGAGCTCGGTCCGGCGGTATGAC,0.0039109085\n",
      "Motif_and_repeat_strong_10,CGCTGTGTGTGTGTGTGTCACGTGACACACAACACACACGTCCGGCGGTATGAC,0.22618586\n",
      "Motif_and_half_repeat_strong_19,CGCCGGAACAAAAGGGGTCACGTGACCCCTTTTTTCAGTGTCCGGCGGTATGAC,0.10491777\n"
     ]
    }
   ],
   "source": [
    "f = open('data/preds/nexus_pho4_30mins_lib2_preds.csv','w')\n",
    "for key in max_lib2_keyToSeq:\n",
    "    if key == 'background': continue\n",
    "    f.write(key+','+max_lib2_keyToSeq[key]+','+str(yvals_lib2[key])+'\\n')\n",
    "f.close()\n",
    "!head data/preds/max_hela_1_lib2_preds.csv\n",
    "f = open('data/preds/nexus_pho4_30mins_rept_preds.csv','w')\n",
    "for key in max_rept_keyToSeq:\n",
    "    if key == 'background': continue\n",
    "    f.write(key+','+max_rept_keyToSeq[key]+','+str(yvals_rept[key])+'\\n')\n",
    "f.close()\n",
    "!head data/preds/max_hela_1_rept_preds.csv"
   ]
  },
  {
   "cell_type": "code",
   "execution_count": null,
   "metadata": {},
   "outputs": [],
   "source": []
  }
 ],
 "metadata": {
  "kernelspec": {
   "display_name": "Python [conda env:basepair]",
   "language": "python",
   "name": "conda-env-basepair-py"
  },
  "language_info": {
   "codemirror_mode": {
    "name": "ipython",
    "version": 3
   },
   "file_extension": ".py",
   "mimetype": "text/x-python",
   "name": "python",
   "nbconvert_exporter": "python",
   "pygments_lexer": "ipython3",
   "version": "3.6.8"
  }
 },
 "nbformat": 4,
 "nbformat_minor": 4
}
